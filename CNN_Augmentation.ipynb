{
  "nbformat": 4,
  "nbformat_minor": 0,
  "metadata": {
    "colab": {
      "provenance": [],
      "include_colab_link": true
    },
    "kernelspec": {
      "name": "python3",
      "display_name": "Python 3"
    },
    "language_info": {
      "name": "python"
    }
  },
  "cells": [
    {
      "cell_type": "markdown",
      "metadata": {
        "id": "view-in-github",
        "colab_type": "text"
      },
      "source": [
        "<a href=\"https://colab.research.google.com/github/Esther-Wagatwe/EASY-ML/blob/master/CNN_Augmentation.ipynb\" target=\"_parent\"><img src=\"https://colab.research.google.com/assets/colab-badge.svg\" alt=\"Open In Colab\"/></a>"
      ]
    },
    {
      "cell_type": "code",
      "source": [
        "# Import\n",
        "import numpy as np # Import the numpy library for numerical operations\n",
        "\n",
        "import torch # Import the PyTorch library\n",
        "from torch import nn # Import the neural network module from PyTorch\n",
        "\n",
        "from torchvision import datasets # Import the datasets module from torchvision, which contains standard datasets like MNIST\n",
        "from torchvision.transforms import ToTensor, transforms # Import the ToTensor transform to convert PIL Images to PyTorch Tensors\n",
        "from torch.utils.data import Subset # Import the Subset class from torch.utils.data\n",
        "from torch.utils.data import DataLoader # Import the DataLoader class from torch.utils.data\n",
        "from sklearn.metrics import accuracy_score # Import the accuracy_score function from scikit-learn\n",
        "\n",
        "# Import matplotlib for visualization\n",
        "import matplotlib.pyplot as plt # Import the matplotlib.pyplot module for creating plots and visualizations"
      ],
      "metadata": {
        "id": "wbAjz9j_kWmi"
      },
      "execution_count": null,
      "outputs": []
    },
    {
      "cell_type": "markdown",
      "source": [
        "1) Load data"
      ],
      "metadata": {
        "id": "F_VEsA2L5DHh"
      }
    },
    {
      "cell_type": "code",
      "execution_count": null,
      "metadata": {
        "colab": {
          "base_uri": "https://localhost:8080/"
        },
        "id": "fk8PaRCYjhxB",
        "outputId": "c3ccd834-3f58-4037-e8ce-d2009be66dee"
      },
      "outputs": [
        {
          "output_type": "stream",
          "name": "stderr",
          "text": [
            "100%|██████████| 9.91M/9.91M [00:00<00:00, 33.7MB/s]\n",
            "100%|██████████| 28.9k/28.9k [00:00<00:00, 1.04MB/s]\n",
            "100%|██████████| 1.65M/1.65M [00:00<00:00, 8.79MB/s]\n",
            "100%|██████████| 4.54k/4.54k [00:00<00:00, 4.78MB/s]\n"
          ]
        },
        {
          "output_type": "execute_result",
          "data": {
            "text/plain": [
              "['0 - zero',\n",
              " '1 - one',\n",
              " '2 - two',\n",
              " '3 - three',\n",
              " '4 - four',\n",
              " '5 - five',\n",
              " '6 - six',\n",
              " '7 - seven',\n",
              " '8 - eight',\n",
              " '9 - nine']"
            ]
          },
          "metadata": {},
          "execution_count": 2
        }
      ],
      "source": [
        "# Setup training data\n",
        "transform = transforms.Compose([\n",
        "    transforms.ToTensor() # Define a transform to convert images to PyTorch tensors\n",
        "])\n",
        "\n",
        "train_data = datasets.MNIST(\n",
        "    root=\"data\", # Specify the directory where the dataset will be downloaded\n",
        "    train=True, # Indicate that this is the training dataset\n",
        "    download=True, # Download the dataset if it's not already present\n",
        "    transform=transform, # Apply the ToTensor transform to the loaded images\n",
        "    target_transform=None # No transformation applied to the labels\n",
        ")\n",
        "\n",
        "# Setup testing data\n",
        "test_data = datasets.MNIST(\n",
        "    root=\"data\", # Specify the directory where the dataset is located\n",
        "    train=False, # Indicate that this is the test dataset\n",
        "    download=True, # Download the dataset if it's not already present\n",
        "    transform=transform # Apply the ToTensor transform to the loaded images\n",
        ")\n",
        "\n",
        "# See classes\n",
        "class_names = train_data.classes # Get the list of class names (digits 0-9) from the training data\n",
        "class_names # Display the list of class names"
      ]
    },
    {
      "cell_type": "code",
      "source": [
        "# Visualize the first 10 unique digits from 0 to 9\n",
        "fig, axs = plt.subplots(1, 10, figsize=(16, 2))\n",
        "fig.suptitle(\"First Occurrence of Each Digit (0–9)\", fontsize=14)\n",
        "\n",
        "seen_digits = set()\n",
        "shown = 0\n",
        "\n",
        "# Loop through the dataset and plot the first instance of each class\n",
        "for idx, (img, lbl) in enumerate(train_data):\n",
        "    if lbl not in seen_digits:\n",
        "        axs[shown].imshow(img.squeeze(), cmap=\"gray\")\n",
        "        axs[shown].set_title(f\"Label: {lbl}\")\n",
        "        axs[shown].axis(\"off\")\n",
        "        seen_digits.add(lbl)\n",
        "        shown += 1\n",
        "    if shown == 10:\n",
        "        break\n",
        "\n",
        "plt.tight_layout()\n",
        "plt.show()"
      ],
      "metadata": {
        "colab": {
          "base_uri": "https://localhost:8080/",
          "height": 176
        },
        "id": "iyGEXepy9lyP",
        "outputId": "dd419419-8e48-4a57-f06b-02e170c70bfa"
      },
      "execution_count": null,
      "outputs": [
        {
          "output_type": "display_data",
          "data": {
            "text/plain": [
              "<Figure size 1600x200 with 10 Axes>"
            ],
            "image/png": "[encoded data removed]"
          },
          "metadata": {}
        }
      ]
    },
    {
      "cell_type": "markdown",
      "source": [
        "2) Data preparation"
      ],
      "metadata": {
        "id": "ruM9EvOJ5HVn"
      }
    },
    {
      "cell_type": "code",
      "source": [
        "# Setup the batch size hyperparameter\n",
        "BATCH_SIZE = 1024 # Define the number of samples per batch\n",
        "num_batches = 2\n",
        "subset_size = BATCH_SIZE * num_batches # Keep 4 batches only\n",
        "\n",
        "all_indices = torch.randperm(len(train_data))  # mixed indices\n",
        "subset_indices = all_indices[:subset_size]     # keep only subset_size\n",
        "\n",
        "# Create Subset\n",
        "train_subset = Subset(train_data, subset_indices)\n",
        "test_subset = Subset(train_data, subset_indices)\n",
        "\n",
        "# Turn datasets into iterables (batches)\n",
        "train_dataloader = DataLoader(train_subset, # Use the training dataset\n",
        "    batch_size=BATCH_SIZE, # Set the batch size for the training data\n",
        "    shuffle=True # Shuffle the data at the beginning of each epoch for better training\n",
        ")\n",
        "\n",
        "test_dataloader = DataLoader(test_subset, # Use the test dataset\n",
        "    batch_size=BATCH_SIZE, # Set the batch size for the test data\n",
        "    shuffle=False # No need to shuffle test data for evaluation\n",
        ")\n",
        "\n",
        "# Let's check out what we've created\n",
        "print(f\"Dataloaders: {train_dataloader, test_dataloader}\") # Print the DataLoader objects\n",
        "print(f\"Length of train dataloader: {len(train_dataloader)} batches of {BATCH_SIZE}\") # Print the number of batches in the training DataLoader\n",
        "print(f\"Length of test dataloader: {len(test_dataloader)} batches of {BATCH_SIZE}\") # Print the number of batches in the test DataLoader"
      ],
      "metadata": {
        "colab": {
          "base_uri": "https://localhost:8080/"
        },
        "id": "ny8Z_XDhnF0y",
        "outputId": "fdcc7e6d-12e6-4660-ccbc-b0062421a479"
      },
      "execution_count": null,
      "outputs": [
        {
          "output_type": "stream",
          "name": "stdout",
          "text": [
            "Dataloaders: (<torch.utils.data.dataloader.DataLoader object at 0x7c8500550cd0>, <torch.utils.data.dataloader.DataLoader object at 0x7c84ffd04e10>)\n",
            "Length of train dataloader: 2 batches of 1024\n",
            "Length of test dataloader: 2 batches of 1024\n"
          ]
        }
      ]
    },
    {
      "cell_type": "markdown",
      "source": [
        "3) Model difinition with and without layers for prevent overfitting"
      ],
      "metadata": {
        "id": "B6Rph0dp5PsY"
      }
    },
    {
      "cell_type": "code",
      "source": [
        "# Define a simple Convolutional Neural Network (CNN) by subclassing nn.Module\n",
        "class SimpleCNN(nn.Module):\n",
        "\n",
        "    def __init__(self, input_size=1, hidden_unit=32, dim_image=28, num_classes=10):\n",
        "        '''\n",
        "        Initializes the model with default or user-defined parameters:\n",
        "         - input_size: number of input channels (e.g., 1 for grayscale, 3 for RGB)\n",
        "         - hidden_unit: base number of filters for the convolutional layers\n",
        "         - dim_image: height/width of the input image (assumes square input, e.g., 28x28)\n",
        "         - num_classes: number of output classes for classification\n",
        "        '''\n",
        "        super(SimpleCNN, self).__init__()\n",
        "        '''\n",
        "        This line calls the constructor of the parent class (nn.Module).\n",
        "        It's crucial for proper initialization of the PyTorch module system.\n",
        "        '''\n",
        "\n",
        "        # --- Convolutional Block 1 ---\n",
        "        # First convolutional layer: accepts `input_size` channels (e.g., 1 for grayscale)\n",
        "        # and outputs `hidden_unit` channels with 3x3 kernels and padding to preserve spatial size\n",
        "        self.conv1 = nn.Conv2d(in_channels=input_size, out_channels=hidden_unit, kernel_size=3, padding=1)\n",
        "        self.relu1 = nn.ReLU()  # Apply ReLU activation function\n",
        "\n",
        "        # --- Convolutional Block 2 ---\n",
        "        # Second convolutional layer: doubles the number of channels\n",
        "        self.conv2 = nn.Conv2d(in_channels=hidden_unit, out_channels=hidden_unit*2, kernel_size=3, padding=1)\n",
        "        self.relu2 = nn.ReLU()  # Apply ReLU activation function\n",
        "\n",
        "        # --- MaxPooling Layer ---\n",
        "        # Downsamples the spatial dimensions by a factor of 2\n",
        "        self.pool = nn.MaxPool2d(kernel_size=2, stride=2)\n",
        "\n",
        "        # --- Classifier (Fully Connected Layers) ---\n",
        "        # Compute flattened size after pooling: each dimension is halved\n",
        "        linear_input_size = int((hidden_unit*2) * (dim_image/2) * (dim_image/2))\n",
        "        # First fully connected layer: projects to a higher-dimensional space\n",
        "        self.fc1 = nn.Linear(linear_input_size, hidden_unit*4)\n",
        "        self.relu3 = nn.ReLU()  # Apply ReLU activation function\n",
        "        # Final fully connected layer: maps to number of output classes\n",
        "        self.fc2 = nn.Linear(hidden_unit*4, num_classes)\n",
        "\n",
        "        # Softmax layer not needed here because CrossEntropyLoss includes it\n",
        "        # self.softmax = nn.Softmax(1)\n",
        "\n",
        "    # Define the forward pass through the network\n",
        "    def forward(self, x):\n",
        "        # --- Convolutional Block 1 ---\n",
        "        x = self.conv1(x)  # Apply first convolution\n",
        "        x = self.relu1(x)  # Apply activation\n",
        "\n",
        "        # --- Convolutional Block 2 ---\n",
        "        x = self.conv2(x)  # Apply second convolution\n",
        "        x = self.relu2(x)  # Apply activation\n",
        "\n",
        "        # --- Pooling ---\n",
        "        x = self.pool(x)  # Apply max pooling to reduce spatial size\n",
        "\n",
        "        # --- Flattening ---\n",
        "        x = torch.flatten(x, 1)  # Flatten all dimensions except the batch size\n",
        "\n",
        "        # --- Fully Connected Layers ---\n",
        "        x = self.fc1(x)    # First dense layer\n",
        "        x = self.relu3(x)  # Activation\n",
        "        x = self.fc2(x)    # Final output layer\n",
        "\n",
        "        # Softmax not applied explicitly since CrossEntropyLoss expects raw logits\n",
        "        # x = self.softmax(x)\n",
        "\n",
        "        return x  # Return output logits"
      ],
      "metadata": {
        "id": "u85zvfUd5e7L"
      },
      "execution_count": null,
      "outputs": []
    },
    {
      "cell_type": "code",
      "source": [
        "# Define an advanced CNN with batch normalization and dropout for better generalization\n",
        "class AdvancedCNN(nn.Module):\n",
        "    def __init__(self, input_size=1, hidden_unit=32, dim_image=28, num_classes=10):\n",
        "        '''\n",
        "          Initializes the model with default or user-defined parameters:\n",
        "          - input_size: number of input channels (e.g., 1 for grayscale, 3 for RGB)\n",
        "          - hidden_unit: base number of filters for the convolutional layers\n",
        "          - dim_image: height/width of the input image (assumes square input, e.g., 28x28)\n",
        "          - num_classes: number of output classes for classification\n",
        "        '''\n",
        "        super(AdvancedCNN, self).__init__()\n",
        "        '''\n",
        "        This line calls the constructor of the parent class (nn.Module).\n",
        "        It's crucial for proper initialization of the PyTorch module system.\n",
        "        '''\n",
        "\n",
        "        # --- Convolutional Block 1 ---\n",
        "        # First convolutional layer: transforms input channels to `hidden_unit` feature maps\n",
        "        self.conv1 = nn.Conv2d(in_channels=input_size, out_channels=hidden_unit, kernel_size=3, padding=1)\n",
        "        # Batch normalization to stabilize and accelerate training\n",
        "        self.bn1 = nn.BatchNorm2d(hidden_unit)\n",
        "        # ReLU activation to introduce non-linearity\n",
        "        self.relu1 = nn.ReLU()\n",
        "        # Dropout to prevent overfitting (25% of features randomly zeroed)\n",
        "        self.dropout1 = nn.Dropout(0.25)\n",
        "\n",
        "        # --- Convolutional Block 2 ---\n",
        "        # Second convolutional layer: increases channels to hidden_unit * 2\n",
        "        self.conv2 = nn.Conv2d(in_channels=hidden_unit, out_channels=hidden_unit*2, kernel_size=3, padding=1)\n",
        "        # Batch normalization for the new number of channels\n",
        "        self.bn2 = nn.BatchNorm2d(hidden_unit*2)\n",
        "        # ReLU activation\n",
        "        self.relu2 = nn.ReLU()\n",
        "        # Dropout again to regularize\n",
        "        self.dropout2 = nn.Dropout(0.25)\n",
        "\n",
        "        # --- MaxPooling Layer ---\n",
        "        # Downsample the feature maps by a factor of 2 (halves width and height)\n",
        "        self.pool = nn.MaxPool2d(kernel_size=2, stride=2)\n",
        "\n",
        "        # --- Fully Connected Block ---\n",
        "        # Calculate the input size for the first dense layer after flattening\n",
        "        linear_input_size = int((hidden_unit*2) * (dim_image/2) * (dim_image/2))\n",
        "        # First dense (fully connected) layer to project features to a higher dimension\n",
        "        self.fc1 = nn.Linear(linear_input_size, hidden_unit*4)\n",
        "        # Batch normalization on fully connected output\n",
        "        self.bn3 = nn.BatchNorm1d(hidden_unit*4)\n",
        "        # ReLU activation\n",
        "        self.relu3 = nn.ReLU()\n",
        "        # Dropout to regularize the dense layer (50% dropout rate)\n",
        "        self.dropout3 = nn.Dropout(0.5)\n",
        "        # Final dense layer to map to the number of classes\n",
        "        self.fc2 = nn.Linear(hidden_unit*4, num_classes)\n",
        "        # Softmax to convert raw logits to class probabilities (note: usually done outside model with CrossEntropyLoss)\n",
        "        self.softmax = nn.Softmax(1)\n",
        "\n",
        "    # Define the forward pass through the model\n",
        "    def forward(self, x):\n",
        "        # --- Convolutional Block 1 ---\n",
        "        x = self.conv1(x)      # Apply first convolution\n",
        "        x = self.bn1(x)        # Apply batch normalization\n",
        "        x = self.relu1(x)      # Apply ReLU activation\n",
        "        x = self.dropout1(x)   # Apply dropout\n",
        "\n",
        "        # --- Convolutional Block 2 ---\n",
        "        x = self.conv2(x)      # Apply second convolution\n",
        "        x = self.bn2(x)        # Apply batch normalization\n",
        "        x = self.relu2(x)      # Apply ReLU activation\n",
        "        x = self.dropout2(x)   # Apply dropout\n",
        "\n",
        "        # --- Pooling ---\n",
        "        x = self.pool(x)       # Downsample feature maps\n",
        "\n",
        "        # --- Flattening ---\n",
        "        x = torch.flatten(x, 1)  # Flatten all dimensions except the batch size\n",
        "\n",
        "        # --- Fully Connected Block ---\n",
        "        x = self.fc1(x)        # First dense layer\n",
        "        x = self.bn3(x)        # Batch normalization\n",
        "        x = self.relu3(x)      # ReLU activation\n",
        "        x = self.dropout3(x)   # Dropout\n",
        "        x = self.fc2(x)        # Final dense layer\n",
        "        x = self.softmax(x)    # Convert to class probabilities\n",
        "\n",
        "        return x  # Return the final output"
      ],
      "metadata": {
        "id": "FndC2OxWkrWg"
      },
      "execution_count": null,
      "outputs": []
    },
    {
      "cell_type": "markdown",
      "source": [
        "Check for GPU availability and select GPU if available"
      ],
      "metadata": {
        "id": "CQeoC4ho_zLr"
      }
    },
    {
      "cell_type": "code",
      "source": [
        "device = torch.device(\"cuda\" if torch.cuda.is_available() else \"cpu\")\n",
        "print(f\"Using device: {device}\")"
      ],
      "metadata": {
        "colab": {
          "base_uri": "https://localhost:8080/"
        },
        "id": "Dozr-IuZp-UT",
        "outputId": "004fab01-5494-4e4f-a34d-e0be5548b40f"
      },
      "execution_count": null,
      "outputs": [
        {
          "output_type": "stream",
          "name": "stdout",
          "text": [
            "Using device: cpu\n"
          ]
        }
      ]
    },
    {
      "cell_type": "markdown",
      "source": [
        "Instantiate models and move them to the device (CPU or GPU)"
      ],
      "metadata": {
        "id": "O3EnfSOv_6vJ"
      }
    },
    {
      "cell_type": "code",
      "source": [
        "# Instantiate models :\n",
        "# Wihout Batch Normalization and dropout\n",
        "model_simple = SimpleCNN(input_size=1, hidden_unit=32, dim_image=28, num_classes=10) # Create an instance of the SimpleCNN model defined earlier\n",
        "model_simple = SimpleCNN().to(device) # Move all variables of SimpleCNN to device\n",
        "\n",
        "# With Batch Normalization and dropout\n",
        "model_advanced = AdvancedCNN(input_size=1, hidden_unit=32, dim_image=28, num_classes=10) # Create an instance of the AdvancedCNN model defined earlier\n",
        "model_advanced = AdvancedCNN().to(device) # Move all variables of SimpleCNN to device\n"
      ],
      "metadata": {
        "id": "TIVYk8jRm3K0"
      },
      "execution_count": null,
      "outputs": []
    },
    {
      "cell_type": "markdown",
      "source": [
        "4) Train and evaluate the model. We want to train our two models separately, so to write the training procedure only once, we can integrate it into a function that we'll call later.\n"
      ],
      "metadata": {
        "id": "Pmi9Ivy5_hwv"
      }
    },
    {
      "cell_type": "code",
      "source": [
        "def train_and_test_procedure(model, train_dataloader, test_dataloader, epochs, optimizer, loss_fn, device):\n",
        "    # Storage for plotting\n",
        "    train_losses = []\n",
        "    test_losses = []\n",
        "    train_accuracies = []\n",
        "    test_accuracies = []\n",
        "\n",
        "    # Training and testing loop\n",
        "    for epoch in range(epochs): # Loop through each epoch\n",
        "        for X_train, y_train in train_dataloader : # Iterate through batches of training data\n",
        "            running_loss = 0.0\n",
        "            train_preds = []\n",
        "            train_labels = []\n",
        "\n",
        "            X_train = X_train.to(device)\n",
        "            y_train = y_train.to(device)\n",
        "            model.train() # Set the model to training mode (enables dropout, batch normalization, etc.)\n",
        "            outputs = model(X_train) # Perform a forward pass to get model outputs (predictions)\n",
        "            loss = loss_fn(outputs, y_train) # Calculate the loss between the model outputs and the true labels\n",
        "\n",
        "            optimizer.zero_grad() # Zero the gradients of the optimizer\n",
        "            loss.backward() # Perform backpropagation to calculate gradients\n",
        "            optimizer.step() # Update the model's parameters based on the calculated gradients\n",
        "\n",
        "            running_loss += loss.item()\n",
        "\n",
        "            preds = torch.argmax(outputs, dim=1)\n",
        "            train_preds.append(preds.cpu())\n",
        "            train_labels.append(y_train.cpu())\n",
        "\n",
        "        # Compute average training loss and accuracy\n",
        "        train_loss_epoch = running_loss / len(train_dataloader)\n",
        "        train_losses.append(train_loss_epoch)\n",
        "\n",
        "        train_preds = torch.cat(train_preds)\n",
        "        train_labels = torch.cat(train_labels)\n",
        "        train_acc = accuracy_score(train_labels, train_preds)\n",
        "        train_accuracies.append(train_acc)\n",
        "\n",
        "        # Evaluation loop\n",
        "        model.eval()\n",
        "        test_preds = []\n",
        "        test_labels = []\n",
        "        test_loss_total = 0.0\n",
        "\n",
        "        with torch.inference_mode():\n",
        "            for X_test, y_test in test_dataloader:\n",
        "                X_test = X_test.to(device)\n",
        "                y_test = y_test.to(device)\n",
        "\n",
        "                test_outputs = model(X_test)\n",
        "                test_loss = loss_fn(test_outputs, y_test)\n",
        "                test_loss_total += test_loss.item()\n",
        "\n",
        "                preds = torch.argmax(test_outputs, dim=1)\n",
        "                test_preds.append(preds.cpu())\n",
        "                test_labels.append(y_test.cpu())\n",
        "\n",
        "        test_loss_epoch = test_loss_total / len(test_dataloader)\n",
        "        test_losses.append(test_loss_epoch)\n",
        "\n",
        "        test_preds = torch.cat(test_preds)\n",
        "        test_labels = torch.cat(test_labels)\n",
        "        test_acc = accuracy_score(test_labels, test_preds)\n",
        "        test_accuracies.append(test_acc)\n",
        "\n",
        "        # Print metrics\n",
        "        print(f\"Epoch {epoch+1}/{epochs} | Train Loss: {train_loss_epoch:.4f} | Train Acc: {train_acc:.4f} | Test Loss: {test_loss_epoch:.4f} | Test Acc: {test_acc:.4f}\")\n",
        "    return train_losses, test_losses, train_accuracies, test_accuracies\n",
        "\n"
      ],
      "metadata": {
        "id": "zmaxiF1b_e2_"
      },
      "execution_count": null,
      "outputs": []
    },
    {
      "cell_type": "markdown",
      "source": [
        "Definition of loss function and optimizer"
      ],
      "metadata": {
        "id": "qzafsBzQCMqX"
      }
    },
    {
      "cell_type": "code",
      "source": [
        "loss_fn = nn.CrossEntropyLoss() # Define the loss function as Cross-Entropy Loss, commonly used for classification\n",
        "optimizer_model_simple = torch.optim.Adam(model_simple.parameters(), lr=0.01) # Define the optimizer as Adam, with a learning rate of 0.01. It will update the model's parameters.\n",
        "optimizer_model_advanced = torch.optim.Adam(model_advanced.parameters(), lr=0.01) # Define the optimizer as Adam, with a learning rate of 0.01. It will update the model's parameters.\n",
        "epochs = 10 # Define the number of training epochs"
      ],
      "metadata": {
        "id": "ksUDuHh0CEFk"
      },
      "execution_count": null,
      "outputs": []
    },
    {
      "cell_type": "markdown",
      "source": [
        "Train simple model (without Batch Normalization and Dropout)"
      ],
      "metadata": {
        "id": "qGFmIFL1D-H9"
      }
    },
    {
      "cell_type": "code",
      "source": [
        "train_losses_simple, test_losses_simple, train_accuracies_simple, test_accuracies_simple = train_and_test_procedure(model_simple,\n",
        "                                                                                                                    train_dataloader,\n",
        "                                                                                                                    test_dataloader,\n",
        "                                                                                                                    epochs,\n",
        "                                                                                                                    optimizer_model_simple,\n",
        "                                                                                                                    loss_fn,\n",
        "                                                                                                                    device)"
      ],
      "metadata": {
        "id": "idx3380sC6Yd"
      },
      "execution_count": null,
      "outputs": []
    },
    {
      "cell_type": "markdown",
      "source": [
        "Train advanced model (with Batch Normalization and Dropout)"
      ],
      "metadata": {
        "id": "lprDSi_zEHME"
      }
    },
    {
      "cell_type": "code",
      "source": [
        "train_losses_advanced, test_losses_advanced, train_accuracies_advanced, test_accuracies_advanced = train_and_test_procedure(model_advanced,\n",
        "                                                                                                                            train_dataloader,\n",
        "                                                                                                                            test_dataloader,\n",
        "                                                                                                                            epochs,\n",
        "                                                                                                                            optimizer_model_advanced,\n",
        "                                                                                                                            loss_fn,\n",
        "                                                                                                                            device)"
      ],
      "metadata": {
        "id": "vxrgD__FEKwy"
      },
      "execution_count": null,
      "outputs": []
    },
    {
      "cell_type": "markdown",
      "source": [
        "5) Visualisation of results\n",
        "For the same purpose we create a function for displaying more easily the evolution of the loss and the accuracy for the different models.\n",
        "\n"
      ],
      "metadata": {
        "id": "5gBlzB10EP8w"
      }
    },
    {
      "cell_type": "code",
      "source": [
        "def plot_loss_and_accuracy(train_losses, test_losses, train_accuracies, test_accuracies, title):\n",
        "    fig, (ax1, ax2) = plt.subplots(1, 2, figsize=(12, 5))\n",
        "\n",
        "    # --- Loss Plot ---\n",
        "    # Left Y-axis: Train Loss\n",
        "    ax1.plot(train_losses, label='Train Loss', color='tab:orange')\n",
        "    ax1.set_ylabel('Train Loss', color='tab:orange')\n",
        "    ax1.tick_params(axis='y', labelcolor='tab:orange')\n",
        "    ax1.set_xlabel('Epoch')\n",
        "    ax1.set_title('Loss over Epochs')\n",
        "\n",
        "    # Right Y-axis: Test Loss\n",
        "    ax1b = ax1.twinx()\n",
        "    ax1b.plot(test_losses, label='Test Loss', color='tab:blue')\n",
        "    ax1b.set_ylabel('Test Loss', color='tab:blue')\n",
        "    ax1b.tick_params(axis='y', labelcolor='tab:blue')\n",
        "\n",
        "    # Optional: combine legends\n",
        "    lines, labels = ax1.get_legend_handles_labels()\n",
        "    lines2, labels2 = ax1b.get_legend_handles_labels()\n",
        "    ax1.legend(lines + lines2, labels + labels2, loc='upper right')\n",
        "\n",
        "    # --- Accuracy Plot ---\n",
        "    ax2.plot(train_accuracies, label='Train Accuracy', color='tab:orange')\n",
        "    ax2.plot(test_accuracies, label='Test Accuracy', color='tab:blue')\n",
        "    ax2.set_title('Accuracy over Epochs')\n",
        "    ax2.set_xlabel('Epoch')\n",
        "    ax2.set_ylabel('Accuracy')\n",
        "    ax2.legend()\n",
        "\n",
        "    fig.suptitle(title)\n",
        "    plt.tight_layout()\n",
        "    plt.show()\n"
      ],
      "metadata": {
        "id": "HwNi79GlEQlo"
      },
      "execution_count": null,
      "outputs": []
    },
    {
      "cell_type": "code",
      "source": [
        "title = \"Model without Batch Normalization and dropout\"\n",
        "plot_loss_and_accuracy(train_losses_simple, test_losses_simple, train_accuracies_simple, test_accuracies_simple, title)\n",
        "\n",
        "title = \"Model with Batch Normalization and dropout\"\n",
        "plot_loss_and_accuracy(train_losses_advanced, test_losses_advanced, train_accuracies_advanced, test_accuracies_advanced, title)"
      ],
      "metadata": {
        "id": "1FT45Km4GJec"
      },
      "execution_count": null,
      "outputs": []
    },
    {
      "cell_type": "markdown",
      "source": [
        "### Exercice 1:\n",
        "Analyze the results, what happened during the training and why ?"
      ],
      "metadata": {
        "id": "g8whzQ4cJSUr"
      }
    },
    {
      "cell_type": "markdown",
      "source": [
        "### Exercice 2:\n",
        "Create new models by testing :\n",
        "\n",
        "* suppress batch normalization on dense layers\n",
        "* use only batch normalization on convolutional layers\n",
        "* use only dropouts and supress the batch normalization\n",
        "\n",
        "If you have access to GPU, you can also try to increase the size of your dataset\n",
        "\n",
        "Train some of theses new models and compare the evolution of loss and accuracy"
      ],
      "metadata": {
        "id": "bcQlnKF-J7Wq"
      }
    },
    {
      "cell_type": "code",
      "source": [
        "# Define your new Convolutional Neural Network (CNN)\n",
        "class NewCNN(nn.Module):\n",
        "    # Initialize your layers\n",
        "    def __init__(self, input_size=1, hidden_unit=32, dim_image=28, num_classes=10):\n",
        "        super(NewCNN, self).__init__()\n",
        "\n",
        "\n",
        "    # Define the forward pass through the network\n",
        "    def forward(self, x):\n",
        "\n",
        "\n",
        "        return x  # Return output logits"
      ],
      "metadata": {
        "id": "77vKsihiJ63-"
      },
      "execution_count": null,
      "outputs": []
    },
    {
      "cell_type": "code",
      "source": [
        "# Instanciate model\n",
        "# your code here\n",
        "\n",
        "# Define your loss function, optimizer and number of epoch (maintain at 10)\n",
        "# your code here\n",
        "\n",
        "# train and evaluate your model\n",
        "# your code here\n",
        "\n",
        "# visualize your results\n",
        "# your code here"
      ],
      "metadata": {
        "id": "MCtBPAwDL2Kz"
      },
      "execution_count": null,
      "outputs": []
    },
    {
      "cell_type": "markdown",
      "source": [
        "## Bonus : data augmentation\n",
        "Try to apply data augmentation to your fruits dataset"
      ],
      "metadata": {
        "id": "Q9MvqH8cL14R"
      }
    },
    {
      "cell_type": "code",
      "source": [
        "## PLEASE DON'T MODIFY THIS CELL\n",
        "import os\n",
        "import gdown\n",
        "import zipfile\n",
        "from torch.utils.data import DataLoader, random_split, ConcatDataset\n",
        "\n",
        "# Paths and file ID\n",
        "dataset_folder = \"/content/fruits_dataset\"\n",
        "zip_path = \"/content/fruits_dataset.zip\"\n",
        "file_id = \"153Z20lsYzdpKHlFSrRlBWsSJNaXhcl6a\"\n",
        "\n",
        "# Download only if zip not already present\n",
        "if not os.path.exists(zip_path):\n",
        "    print(\"Downloading dataset...\")\n",
        "    gdown.download(id=file_id, output=zip_path, fuzzy=True)\n",
        "else:\n",
        "    print(\"Zip file already exists. Skipping download.\")\n",
        "\n",
        "# Extract only if fruits_dataset/ does not already exist\n",
        "if not os.path.exists(dataset_folder):\n",
        "    print(\"Extracting dataset...\")\n",
        "    with zipfile.ZipFile(zip_path, 'r') as zip_ref:\n",
        "        zip_ref.extractall(\"/content/\")\n",
        "else:\n",
        "    print(\"Dataset already extracted.\")\n",
        "\n",
        "# Move apples and pears into fruits_dataset/ if they exist directly under /content\n",
        "for folder in [\"apples\", \"pears\", \"Pears\"]:\n",
        "    src = f\"/content/{folder}\"\n",
        "    dst = f\"/content/fruits_dataset/{folder.lower()}\"\n",
        "    if os.path.exists(src) and not os.path.exists(dst):\n",
        "        os.makedirs(\"/content/fruits_dataset\", exist_ok=True)\n",
        "        os.rename(src, dst)\n",
        "\n",
        "# Confirm class folders\n",
        "print(\"Available classes:\", os.listdir(\"/content/fruits_dataset\"))\n"
      ],
      "metadata": {
        "id": "_fobPpijOWGE"
      },
      "execution_count": null,
      "outputs": []
    },
    {
      "cell_type": "code",
      "source": [
        "# Define original transform (to apply to all images)\n",
        "# --- Base transform (mild preprocessing) ---\n",
        "original_transform = transforms.Compose([\n",
        "    transforms.RandomResizedCrop(size=28, scale=(0.9, 1.1)),\n",
        "    transforms.ToTensor()\n",
        "])\n",
        "\n",
        "# --- Define separate augmentation transforms ---\n",
        "transform_rotation = transforms.Compose([\n",
        "    transforms.RandomRotation(20),\n",
        "    transforms.ToTensor()\n",
        "])\n",
        "\n",
        "transform_translation = transforms.Compose([\n",
        "    transforms.RandomAffine(degrees=0, translate=(0.2, 0.2)),\n",
        "    transforms.ToTensor()\n",
        "])\n",
        "\n",
        "transform_hflip = transforms.Compose([\n",
        "    transforms.RandomHorizontalFlip(p=1.0),\n",
        "    transforms.ToTensor()\n",
        "])\n",
        "\n",
        "transform_vflip = transforms.Compose([\n",
        "    transforms.RandomVerticalFlip(p=1.0),\n",
        "    transforms.ToTensor()\n",
        "])\n",
        "\n",
        "transform_blur = transforms.Compose([\n",
        "    transforms.GaussianBlur(kernel_size=125, sigma=3),\n",
        "    transforms.ToTensor()\n",
        "])\n",
        "\n",
        "transform_color_jitter = transforms.Compose([\n",
        "    transforms.ColorJitter(brightness=0.9, contrast=0.4, saturation=0.2, hue=0.1),\n",
        "    transforms.ToTensor()\n",
        "])\n",
        "\n"
      ],
      "metadata": {
        "id": "97YYE-4CMzjj"
      },
      "execution_count": null,
      "outputs": []
    },
    {
      "cell_type": "code",
      "source": [
        "# Load dataset\n",
        "data_dir = \"/content/fruits_dataset\"\n",
        "\n",
        "# Load original dataset\n",
        "original_dataset     = datasets.ImageFolder(root=data_dir, transform=original_transform)\n",
        "\n",
        "# Create augmented version of the same dataset\n",
        "rotated_dataset      = datasets.ImageFolder(root=data_dir, transform=transform_rotation)\n",
        "translated_dataset   = datasets.ImageFolder(root=data_dir, transform=transform_translation)\n",
        "hflipped_dataset     = datasets.ImageFolder(root=data_dir, transform=transform_hflip)\n",
        "vflipped_dataset     = datasets.ImageFolder(root=data_dir, transform=transform_vflip)\n",
        "blur_dataset         = datasets.ImageFolder(root=data_dir, transform=transform_blur)\n",
        "color_jitter_dataset = datasets.ImageFolder(root=data_dir, transform=transform_color_jitter)\n",
        "\n",
        "\n",
        "# Combine all datasets to expand the training data\n",
        "combined_dataset = ConcatDataset([\n",
        "    original_dataset,\n",
        "    rotated_dataset,\n",
        "    translated_dataset,\n",
        "    hflipped_dataset,\n",
        "    vflipped_dataset,\n",
        "    blur_dataset,\n",
        "    color_jitter_dataset\n",
        "\n",
        "])\n",
        "\n",
        "# Split into train/validation\n",
        "train_size = int(0.8 * len(combined_dataset))\n",
        "val_size = len(combined_dataset) - train_size\n",
        "train_ds, val_ds = random_split(combined_dataset, [train_size, val_size])\n",
        "\n",
        "# DataLoaders\n",
        "train_loader = DataLoader(train_ds, batch_size=16, shuffle=True)\n",
        "val_loader = DataLoader(val_ds, batch_size=16)\n",
        "\n",
        "# Class info and sizes\n",
        "class_names = original_dataset.classes\n",
        "print(\"Classes:\", class_names)\n",
        "print(\"Original dataset size:     \", len(original_dataset))\n",
        "print(\"Rotation dataset size:     \", len(rotated_dataset))\n",
        "print(\"Translation dataset size:  \", len(translated_dataset))\n",
        "print(\"H-Flip dataset size:       \", len(hflipped_dataset))\n",
        "print(\"V-Flip dataset size:       \", len(vflipped_dataset))\n",
        "print(\"Blur dataset size:         \", len(blur_dataset))\n",
        "print(\"Color Jiter dataset size:  \", len(color_jitter_dataset))\n",
        "print(\"Final combined dataset size:\", len(combined_dataset))\n",
        "print(\"Train set size:            \", len(train_ds))\n",
        "print(\"Validation set size:       \", len(val_ds))"
      ],
      "metadata": {
        "id": "yVbSvkAfOXdR"
      },
      "execution_count": null,
      "outputs": []
    },
    {
      "cell_type": "markdown",
      "source": [
        "Visualization of one original image and augmented versions"
      ],
      "metadata": {
        "id": "su2swD2pSIYL"
      }
    },
    {
      "cell_type": "code",
      "source": [
        "from PIL import Image\n",
        "# load one image\n",
        "img_path, label = original_dataset.samples[0]\n",
        "img = Image.open(img_path)\n",
        "\n",
        "# Apply transforms (convert back to PIL for display)\n",
        "to_pil = transforms.ToPILImage()\n",
        "\n",
        "images = {\n",
        "    \"Original\": img,\n",
        "    \"Rotation\": to_pil(transform_rotation(img)),\n",
        "    \"Translation\": to_pil(transform_translation(img)),\n",
        "    \"H-Flip\": to_pil(transform_hflip(img)),\n",
        "    \"V-Flip\": to_pil(transform_vflip(img)),\n",
        "    \"Blur\": to_pil(transform_blur(img)),\n",
        "    \"Color Jitter\": to_pil(transform_color_jitter(img))\n",
        "}\n",
        "\n",
        "# Plot all images in a row\n",
        "plt.figure(figsize=(15, 3))\n",
        "for i, (title, image) in enumerate(images.items()):\n",
        "    plt.subplot(1, len(images), i + 1)\n",
        "    plt.imshow(image)\n",
        "    plt.title(title)\n",
        "    plt.axis(\"off\")\n",
        "\n",
        "plt.tight_layout()\n",
        "plt.show()"
      ],
      "metadata": {
        "id": "zldjN6xQR3ok"
      },
      "execution_count": null,
      "outputs": []
    }
  ]
}