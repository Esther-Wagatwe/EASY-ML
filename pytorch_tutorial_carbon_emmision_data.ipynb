{
  "metadata": {
    "kernelspec": {
      "language": "python",
      "display_name": "Python 3",
      "name": "python3"
    },
    "language_info": {
      "name": "python",
      "version": "3.11.13",
      "mimetype": "text/x-python",
      "codemirror_mode": {
        "name": "ipython",
        "version": 3
      },
      "pygments_lexer": "ipython3",
      "nbconvert_exporter": "python",
      "file_extension": ".py"
    },
    "kaggle": {
      "accelerator": "none",
      "dataSources": [
        {
          "sourceId": 12401948,
          "sourceType": "datasetVersion",
          "datasetId": 7820971
        },
        {
          "sourceId": 12463087,
          "sourceType": "datasetVersion",
          "datasetId": 7862147
        }
      ],
      "dockerImageVersionId": 31090,
      "isInternetEnabled": false,
      "language": "python",
      "sourceType": "notebook",
      "isGpuEnabled": false
    },
    "colab": {
      "provenance": [],
      "include_colab_link": true
    }
  },
  "nbformat_minor": 0,
  "nbformat": 4,
  "cells": [
    {
      "cell_type": "markdown",
      "metadata": {
        "id": "view-in-github",
        "colab_type": "text"
      },
      "source": [
        "<a href=\"https://colab.research.google.com/github/Esther-Wagatwe/EASY-ML/blob/master/pytorch_tutorial_carbon_emmision_data.ipynb\" target=\"_parent\"><img src=\"https://colab.research.google.com/assets/colab-badge.svg\" alt=\"Open In Colab\"/></a>"
      ]
    },
    {
      "cell_type": "markdown",
      "source": [
        "# Session 1: Tuesday, July 15, 2:00 pm - 3:30 pm (1h30)\n",
        "1. Introduction to PyTorch (some slides or few images integrated in this notebook)\n",
        "2. Pytorch Basics :\n",
        "   * Tensor creation and manipulation\n",
        "   * Run calculations on CPU/GPU\n",
        "   * Basics for creating a model (Class nn.Module, init and forward function)\n",
        "   * Basics for train and test (how to set up loss function and optimizer,  turn model in inference mode for testing)"
      ],
      "metadata": {
        "id": "4oSOFuFHtXIx"
      }
    },
    {
      "cell_type": "markdown",
      "source": [
        "### Part 1: Introduction to tensors\n",
        "\n",
        "Pytorch only manipulates data in Tensor format, so we need to create our data directly in this format, or convert it if it's in numpy array or dataframe format, for example.\n",
        "\n",
        "Tensor data can be scalar, vector , matrix or tensor."
      ],
      "metadata": {
        "id": "kPKMRISktXI1"
      }
    },
    {
      "cell_type": "markdown",
      "source": [
        "## What is a tensor?"
      ],
      "metadata": {
        "id": "5dCPlAdItXI1"
      }
    },
    {
      "cell_type": "code",
      "source": [
        "import warnings\n",
        "\n",
        "# Ignore all warnings\n",
        "warnings.filterwarnings('ignore')"
      ],
      "metadata": {
        "trusted": true,
        "execution": {
          "iopub.status.busy": "2025-07-15T06:22:04.472177Z",
          "iopub.execute_input": "2025-07-15T06:22:04.472419Z",
          "iopub.status.idle": "2025-07-15T06:22:04.476427Z",
          "shell.execute_reply.started": "2025-07-15T06:22:04.472396Z",
          "shell.execute_reply": "2025-07-15T06:22:04.475467Z"
        },
        "id": "XYpXnUy5tXI2"
      },
      "outputs": [],
      "execution_count": null
    },
    {
      "cell_type": "code",
      "source": [
        "# !pip install torch torchvision\n",
        "\n",
        "import torch #framework package\n",
        "import torchvision\n",
        "\n",
        "print(\"PyTorch version:\", torch.__version__)\n",
        "print(\"CUDA available:\", torch.cuda.is_available())"
      ],
      "metadata": {
        "trusted": true,
        "execution": {
          "iopub.status.busy": "2025-07-15T06:22:04.477092Z",
          "iopub.execute_input": "2025-07-15T06:22:04.477358Z",
          "iopub.status.idle": "2025-07-15T06:22:04.487448Z",
          "shell.execute_reply.started": "2025-07-15T06:22:04.477331Z",
          "shell.execute_reply": "2025-07-15T06:22:04.486632Z"
        },
        "colab": {
          "base_uri": "https://localhost:8080/"
        },
        "id": "mDefnL0PtXI3",
        "outputId": "ffd71139-b1c9-4d84-e1e0-887cc4c7d483"
      },
      "outputs": [
        {
          "output_type": "stream",
          "name": "stdout",
          "text": [
            "PyTorch version: 2.6.0+cu124\n",
            "CUDA available: False\n"
          ]
        }
      ],
      "execution_count": null
    },
    {
      "cell_type": "code",
      "source": [
        "# Scalar\n",
        "scalar = torch.tensor(7)\n",
        "scalar"
      ],
      "metadata": {
        "trusted": true,
        "execution": {
          "iopub.status.busy": "2025-07-15T06:22:04.488124Z",
          "iopub.execute_input": "2025-07-15T06:22:04.488357Z",
          "iopub.status.idle": "2025-07-15T06:22:04.499603Z",
          "shell.execute_reply.started": "2025-07-15T06:22:04.488308Z",
          "shell.execute_reply": "2025-07-15T06:22:04.498803Z"
        },
        "colab": {
          "base_uri": "https://localhost:8080/"
        },
        "id": "oXdehCs_tXI4",
        "outputId": "dfef690e-0823-42d3-aa90-0f5b29a86038"
      },
      "outputs": [
        {
          "output_type": "execute_result",
          "data": {
            "text/plain": [
              "tensor(7)"
            ]
          },
          "metadata": {},
          "execution_count": 5
        }
      ],
      "execution_count": null
    },
    {
      "cell_type": "code",
      "source": [
        "# Vector\n",
        "vector = torch.tensor([7, 7])\n",
        "vector"
      ],
      "metadata": {
        "trusted": true,
        "execution": {
          "iopub.status.busy": "2025-07-15T06:22:04.500425Z",
          "iopub.execute_input": "2025-07-15T06:22:04.500657Z",
          "iopub.status.idle": "2025-07-15T06:22:04.511449Z",
          "shell.execute_reply.started": "2025-07-15T06:22:04.500636Z",
          "shell.execute_reply": "2025-07-15T06:22:04.510703Z"
        },
        "colab": {
          "base_uri": "https://localhost:8080/"
        },
        "id": "L3a88oyTtXI4",
        "outputId": "1935df04-36d9-437d-9c8f-98811709b6b7"
      },
      "outputs": [
        {
          "output_type": "execute_result",
          "data": {
            "text/plain": [
              "tensor([7, 7])"
            ]
          },
          "metadata": {},
          "execution_count": 6
        }
      ],
      "execution_count": null
    },
    {
      "cell_type": "code",
      "source": [
        "# Matrix\n",
        "Matrix = torch.tensor([[7, 8],\n",
        "                       [9, 10]])\n",
        "Matrix"
      ],
      "metadata": {
        "trusted": true,
        "execution": {
          "iopub.status.busy": "2025-07-15T06:22:04.512302Z",
          "iopub.execute_input": "2025-07-15T06:22:04.512599Z",
          "iopub.status.idle": "2025-07-15T06:22:04.526443Z",
          "shell.execute_reply.started": "2025-07-15T06:22:04.512579Z",
          "shell.execute_reply": "2025-07-15T06:22:04.525707Z"
        },
        "colab": {
          "base_uri": "https://localhost:8080/"
        },
        "id": "il_LG0jGtXI5",
        "outputId": "cb399fdb-4e87-4bb8-e466-f4fad86e8633"
      },
      "outputs": [
        {
          "output_type": "execute_result",
          "data": {
            "text/plain": [
              "tensor([[ 7,  8],\n",
              "        [ 9, 10]])"
            ]
          },
          "metadata": {},
          "execution_count": 7
        }
      ],
      "execution_count": null
    },
    {
      "cell_type": "code",
      "source": [
        "# Tensor\n",
        "Tensor = torch.tensor([[[1, 2, 3],\n",
        "                        [3, 6, 9],\n",
        "                        [2, 4, 5]]])\n",
        "Tensor"
      ],
      "metadata": {
        "trusted": true,
        "execution": {
          "iopub.status.busy": "2025-07-15T06:22:04.527178Z",
          "iopub.execute_input": "2025-07-15T06:22:04.527432Z",
          "iopub.status.idle": "2025-07-15T06:22:04.539818Z",
          "shell.execute_reply.started": "2025-07-15T06:22:04.527407Z",
          "shell.execute_reply": "2025-07-15T06:22:04.539137Z"
        },
        "colab": {
          "base_uri": "https://localhost:8080/"
        },
        "id": "1PDsVUnMtXI5",
        "outputId": "103bc6c0-6857-480b-c2a4-d5baf0270cd6"
      },
      "outputs": [
        {
          "output_type": "execute_result",
          "data": {
            "text/plain": [
              "tensor([[[1, 2, 3],\n",
              "         [3, 6, 9],\n",
              "         [2, 4, 5]]])"
            ]
          },
          "metadata": {},
          "execution_count": 8
        }
      ],
      "execution_count": null
    },
    {
      "cell_type": "code",
      "source": [],
      "metadata": {
        "trusted": true,
        "id": "gJrgbZBvtXI5"
      },
      "outputs": [],
      "execution_count": null
    },
    {
      "cell_type": "markdown",
      "source": [
        "To know the size and dimension of Tensor variables, you can use shape and ndim functions\n",
        "Matrix: A 2-dimensional (2D) array of numbers.\n",
        "Example: a table with rows and columns.\n",
        "\n",
        "Tensor: A generalization of matrices to n-dimensions.\n",
        "So:\n",
        "\n",
        "Scalar = rank-0 tensor (single number)\n",
        "\n",
        "Vector = rank-1 tensor (1D array)\n",
        "\n",
        "Matrix = rank-2 tensor (2D array)\n",
        "\n",
        "Higher-order tensors = 3D, 4D, … nD arrays"
      ],
      "metadata": {
        "id": "9lo9Bs1ItXI6"
      }
    },
    {
      "cell_type": "code",
      "source": [
        "# Dimension\n",
        "print(\"scalar dim :\", scalar.ndim)\n",
        "print(\"vector dim :\", vector.ndim)\n",
        "print(\"Matrix dim :\", Matrix.ndim)\n",
        "print(\"Tensor dim :\", Tensor.ndim)\n",
        "\n",
        "# Size\n",
        "print(\"scalar size :\", scalar.shape)\n",
        "print(\"vector size :\", vector.shape)\n",
        "print(\"Matrix size :\", Matrix.shape)\n",
        "print(\"Tensor size :\", Tensor.shape)"
      ],
      "metadata": {
        "trusted": true,
        "execution": {
          "iopub.status.busy": "2025-07-15T06:22:04.540615Z",
          "iopub.execute_input": "2025-07-15T06:22:04.540848Z",
          "iopub.status.idle": "2025-07-15T06:22:04.550977Z",
          "shell.execute_reply.started": "2025-07-15T06:22:04.540827Z",
          "shell.execute_reply": "2025-07-15T06:22:04.550237Z"
        },
        "colab": {
          "base_uri": "https://localhost:8080/"
        },
        "id": "M-H8QtnRtXI6",
        "outputId": "9624e126-a9e7-45ac-a6f9-e63367bdc701"
      },
      "outputs": [
        {
          "output_type": "stream",
          "name": "stdout",
          "text": [
            "scalar dim : 0\n",
            "vector dim : 1\n",
            "Matrix dim : 2\n",
            "Tensor dim : 3\n",
            "scalar size : torch.Size([])\n",
            "vector size : torch.Size([2])\n",
            "Matrix size : torch.Size([2, 2])\n",
            "Tensor size : torch.Size([1, 3, 3])\n"
          ]
        }
      ],
      "execution_count": null
    },
    {
      "cell_type": "markdown",
      "source": [
        "For scalars, this is a single value, so the Tensor format considers it to be a dimensionless and sizeless tensor (in the \"mathematical\" sense).\n",
        "\n",
        "The size function returns the size of each dimension\n",
        "\n",
        "\n",
        "*   For matrices, first the height, then the width\n",
        "*   For tensors, first the depth (in the case of an image, the number of channels), then the height, then the width.)"
      ],
      "metadata": {
        "id": "jg8RJQ5KtXI7"
      }
    },
    {
      "cell_type": "markdown",
      "source": [
        "## B] Tensor datatypes\n",
        "\n",
        "There are many different tensor datatypes available in PyTorch : https://docs.pytorch.org/docs/stable/tensors.html#data-types\n",
        "\n",
        "The most common type (and generally the default) is torch.float32 or torch.float. This is referred to as \"32-bit floating point\".\n",
        "\n",
        "You can also have torch.int32, i.e. arrays of integers, and torch.bool, i.e. Booleans.\n",
        "\n",
        "64-bit formats such as torch.int64 and torch.float64 are also very common."
      ],
      "metadata": {
        "id": "Eg9zPiX_tXI7"
      }
    },
    {
      "cell_type": "code",
      "source": [
        "Matrix.dtype"
      ],
      "metadata": {
        "trusted": true,
        "execution": {
          "iopub.status.busy": "2025-07-15T06:22:04.551681Z",
          "iopub.execute_input": "2025-07-15T06:22:04.551900Z",
          "iopub.status.idle": "2025-07-15T06:22:04.563026Z",
          "shell.execute_reply.started": "2025-07-15T06:22:04.551879Z",
          "shell.execute_reply": "2025-07-15T06:22:04.562330Z"
        },
        "colab": {
          "base_uri": "https://localhost:8080/"
        },
        "id": "ZMfmKhxUtXI7",
        "outputId": "4dc48611-b968-40af-ed3a-636ab0d841e6"
      },
      "outputs": [
        {
          "output_type": "execute_result",
          "data": {
            "text/plain": [
              "torch.int64"
            ]
          },
          "metadata": {},
          "execution_count": 10
        }
      ],
      "execution_count": null
    },
    {
      "cell_type": "code",
      "source": [
        "float_64_tensor = torch.tensor([3.0, 6.0, 9.0],\n",
        "                               dtype=torch.float64)\n",
        "\n",
        "float_64_tensor.dtype"
      ],
      "metadata": {
        "trusted": true,
        "execution": {
          "iopub.status.busy": "2025-07-15T06:22:04.563814Z",
          "iopub.execute_input": "2025-07-15T06:22:04.564349Z",
          "iopub.status.idle": "2025-07-15T06:22:04.575660Z",
          "shell.execute_reply.started": "2025-07-15T06:22:04.564301Z",
          "shell.execute_reply": "2025-07-15T06:22:04.574935Z"
        },
        "colab": {
          "base_uri": "https://localhost:8080/"
        },
        "id": "rY2u46ZatXI7",
        "outputId": "340a2f20-d9b0-4a95-fc00-42c8066de83b"
      },
      "outputs": [
        {
          "output_type": "execute_result",
          "data": {
            "text/plain": [
              "torch.float64"
            ]
          },
          "metadata": {},
          "execution_count": 11
        }
      ],
      "execution_count": null
    },
    {
      "cell_type": "code",
      "source": [
        "boolean = torch.tensor([True, False, True])\n",
        "boolean.dtype"
      ],
      "metadata": {
        "trusted": true,
        "execution": {
          "iopub.status.busy": "2025-07-15T06:22:04.576351Z",
          "iopub.execute_input": "2025-07-15T06:22:04.576590Z",
          "iopub.status.idle": "2025-07-15T06:22:04.586369Z",
          "shell.execute_reply.started": "2025-07-15T06:22:04.576565Z",
          "shell.execute_reply": "2025-07-15T06:22:04.585723Z"
        },
        "colab": {
          "base_uri": "https://localhost:8080/"
        },
        "id": "XC7WT9NttXI7",
        "outputId": "256eb2a9-da9f-42cf-c849-96fe12a79155"
      },
      "outputs": [
        {
          "output_type": "execute_result",
          "data": {
            "text/plain": [
              "torch.bool"
            ]
          },
          "metadata": {},
          "execution_count": 12
        }
      ],
      "execution_count": null
    },
    {
      "cell_type": "markdown",
      "source": [
        "## C] Manipulating tensors"
      ],
      "metadata": {
        "id": "wuTQUW0itXI8"
      }
    },
    {
      "cell_type": "markdown",
      "source": [
        "### a) Create random tensors or tensors filled with 0 or 1"
      ],
      "metadata": {
        "id": "Po-9SZmwtXI8"
      }
    },
    {
      "cell_type": "code",
      "source": [
        "# Create a random tensor of size (3, 4)\n",
        "random_tensor = torch.rand(size=(3, 4))\n",
        "random_tensor"
      ],
      "metadata": {
        "trusted": true,
        "execution": {
          "iopub.status.busy": "2025-07-15T06:22:04.587269Z",
          "iopub.execute_input": "2025-07-15T06:22:04.587587Z",
          "iopub.status.idle": "2025-07-15T06:22:04.598219Z",
          "shell.execute_reply.started": "2025-07-15T06:22:04.587567Z",
          "shell.execute_reply": "2025-07-15T06:22:04.597522Z"
        },
        "colab": {
          "base_uri": "https://localhost:8080/"
        },
        "id": "xdIPEQMbtXI8",
        "outputId": "2fa57b7d-3335-417d-a4b4-4078c2c22538"
      },
      "outputs": [
        {
          "output_type": "execute_result",
          "data": {
            "text/plain": [
              "tensor([[0.0365, 0.1195, 0.1902, 0.7499],\n",
              "        [0.0252, 0.5333, 0.9385, 0.3305],\n",
              "        [0.0657, 0.5220, 0.1164, 0.8650]])"
            ]
          },
          "metadata": {},
          "execution_count": 13
        }
      ],
      "execution_count": null
    },
    {
      "cell_type": "code",
      "source": [
        "# Create a random tensor of size (224, 224, 3)\n",
        "random_image_size_tensor = torch.rand(size=(224, 224, 3))\n",
        "random_image_size_tensor"
      ],
      "metadata": {
        "trusted": true,
        "execution": {
          "iopub.status.busy": "2025-07-15T06:22:04.599065Z",
          "iopub.execute_input": "2025-07-15T06:22:04.599658Z",
          "iopub.status.idle": "2025-07-15T06:22:04.613078Z",
          "shell.execute_reply.started": "2025-07-15T06:22:04.599630Z",
          "shell.execute_reply": "2025-07-15T06:22:04.612426Z"
        },
        "colab": {
          "base_uri": "https://localhost:8080/"
        },
        "id": "a0oZtkGotXI8",
        "outputId": "371e4014-6c08-4984-f2cd-25c47b89facd"
      },
      "outputs": [
        {
          "output_type": "execute_result",
          "data": {
            "text/plain": [
              "tensor([[[5.4984e-01, 7.9801e-01, 6.7656e-01],\n",
              "         [4.0354e-01, 8.9142e-01, 6.0393e-01],\n",
              "         [8.1994e-01, 9.0198e-01, 4.8539e-01],\n",
              "         ...,\n",
              "         [4.6206e-01, 6.5688e-01, 4.5829e-01],\n",
              "         [9.8112e-01, 7.1275e-01, 7.9382e-01],\n",
              "         [7.3450e-02, 2.3888e-01, 2.5932e-01]],\n",
              "\n",
              "        [[5.9236e-02, 1.3344e-01, 1.3791e-01],\n",
              "         [7.8507e-01, 8.3690e-01, 9.7232e-01],\n",
              "         [6.7921e-02, 3.3839e-01, 5.9200e-01],\n",
              "         ...,\n",
              "         [2.9466e-01, 2.8785e-01, 7.2406e-01],\n",
              "         [6.2001e-01, 1.4896e-01, 7.6716e-01],\n",
              "         [8.1753e-01, 5.2772e-01, 1.7826e-01]],\n",
              "\n",
              "        [[7.2878e-01, 1.6434e-01, 8.0985e-01],\n",
              "         [1.6120e-01, 6.8597e-01, 3.5855e-02],\n",
              "         [1.6502e-03, 3.9788e-01, 8.7986e-01],\n",
              "         ...,\n",
              "         [3.4259e-01, 8.6186e-01, 1.8472e-02],\n",
              "         [4.7536e-01, 5.2500e-01, 7.0695e-01],\n",
              "         [4.2033e-01, 4.7582e-01, 7.5919e-01]],\n",
              "\n",
              "        ...,\n",
              "\n",
              "        [[3.1633e-02, 7.0605e-01, 6.0947e-01],\n",
              "         [7.7637e-02, 7.8610e-01, 5.6525e-02],\n",
              "         [1.0754e-01, 8.5467e-01, 4.1987e-01],\n",
              "         ...,\n",
              "         [1.6909e-01, 2.2797e-01, 7.2803e-01],\n",
              "         [5.7329e-01, 3.2466e-01, 9.4907e-01],\n",
              "         [5.3249e-02, 1.6070e-01, 6.0804e-02]],\n",
              "\n",
              "        [[9.5089e-01, 3.7687e-01, 2.2680e-01],\n",
              "         [5.6607e-01, 6.2098e-01, 8.8915e-01],\n",
              "         [2.7065e-01, 6.1626e-01, 4.0950e-01],\n",
              "         ...,\n",
              "         [1.8068e-02, 8.4686e-01, 2.3082e-01],\n",
              "         [7.1821e-01, 1.4352e-01, 3.9035e-01],\n",
              "         [1.2999e-01, 5.1583e-01, 7.6536e-01]],\n",
              "\n",
              "        [[2.7580e-01, 3.1691e-01, 5.9191e-01],\n",
              "         [1.8129e-01, 8.8791e-01, 4.1742e-01],\n",
              "         [1.5134e-02, 9.6557e-01, 7.9429e-04],\n",
              "         ...,\n",
              "         [2.6491e-01, 5.1223e-01, 6.4612e-01],\n",
              "         [3.9322e-01, 1.8265e-03, 6.9517e-01],\n",
              "         [6.0881e-01, 7.6424e-01, 2.2683e-01]]])"
            ]
          },
          "metadata": {},
          "execution_count": 14
        }
      ],
      "execution_count": null
    },
    {
      "cell_type": "code",
      "source": [
        "# Create a tensor of all zeros\n",
        "zeros = torch.zeros(size=(3, 4))\n",
        "zeros"
      ],
      "metadata": {
        "trusted": true,
        "execution": {
          "iopub.status.busy": "2025-07-15T06:22:04.613852Z",
          "iopub.execute_input": "2025-07-15T06:22:04.614054Z",
          "iopub.status.idle": "2025-07-15T06:22:04.619930Z",
          "shell.execute_reply.started": "2025-07-15T06:22:04.614037Z",
          "shell.execute_reply": "2025-07-15T06:22:04.619140Z"
        },
        "colab": {
          "base_uri": "https://localhost:8080/"
        },
        "id": "UfuCPvzctXI8",
        "outputId": "bc759dba-0b6a-4697-aa3a-04c1c9654dcd"
      },
      "outputs": [
        {
          "output_type": "execute_result",
          "data": {
            "text/plain": [
              "tensor([[0., 0., 0., 0.],\n",
              "        [0., 0., 0., 0.],\n",
              "        [0., 0., 0., 0.]])"
            ]
          },
          "metadata": {},
          "execution_count": 15
        }
      ],
      "execution_count": null
    },
    {
      "cell_type": "code",
      "source": [
        "# Create a tensor of all ones\n",
        "ones = torch.ones(size=(3, 4))\n",
        "ones"
      ],
      "metadata": {
        "trusted": true,
        "execution": {
          "iopub.status.busy": "2025-07-15T06:22:04.620578Z",
          "iopub.execute_input": "2025-07-15T06:22:04.620804Z",
          "iopub.status.idle": "2025-07-15T06:22:04.632173Z",
          "shell.execute_reply.started": "2025-07-15T06:22:04.620777Z",
          "shell.execute_reply": "2025-07-15T06:22:04.631498Z"
        },
        "colab": {
          "base_uri": "https://localhost:8080/"
        },
        "id": "VTzJd_kmtXI8",
        "outputId": "2eaf1306-2c15-4de6-b8af-7bbdfa8151ae"
      },
      "outputs": [
        {
          "output_type": "execute_result",
          "data": {
            "text/plain": [
              "tensor([[1., 1., 1., 1.],\n",
              "        [1., 1., 1., 1.],\n",
              "        [1., 1., 1., 1.]])"
            ]
          },
          "metadata": {},
          "execution_count": 16
        }
      ],
      "execution_count": null
    },
    {
      "cell_type": "markdown",
      "source": [
        "### b) Creating a range and tensors like\n",
        "\n",
        "You might want a range of numbers, such as 1 to 10 or 0 to 100.\n",
        "\n",
        "You can use torch.arange(start, end, step) to do this."
      ],
      "metadata": {
        "id": "OUieRqGOtXI8"
      }
    },
    {
      "cell_type": "code",
      "source": [
        "# Create a range of values 0 to 10\n",
        "zero_to_ten = torch.arange(start=0, end=10, step=1)\n",
        "zero_to_ten"
      ],
      "metadata": {
        "trusted": true,
        "execution": {
          "iopub.status.busy": "2025-07-15T06:22:04.633045Z",
          "iopub.execute_input": "2025-07-15T06:22:04.633266Z",
          "iopub.status.idle": "2025-07-15T06:22:04.643494Z",
          "shell.execute_reply.started": "2025-07-15T06:22:04.633240Z",
          "shell.execute_reply": "2025-07-15T06:22:04.642808Z"
        },
        "colab": {
          "base_uri": "https://localhost:8080/"
        },
        "id": "6rT0wujvtXI8",
        "outputId": "915bfbf8-f745-4024-c9bb-d7cc60537678"
      },
      "outputs": [
        {
          "output_type": "execute_result",
          "data": {
            "text/plain": [
              "tensor([0, 1, 2, 3, 4, 5, 6, 7, 8, 9])"
            ]
          },
          "metadata": {},
          "execution_count": 17
        }
      ],
      "execution_count": null
    },
    {
      "cell_type": "code",
      "source": [
        "# Can also create a tensor of zeros similar to another tensor\n",
        "ten_zeros = torch.zeros_like(input=zero_to_ten) # will have same shape\n",
        "ten_zeros"
      ],
      "metadata": {
        "trusted": true,
        "execution": {
          "iopub.status.busy": "2025-07-15T06:22:04.644335Z",
          "iopub.execute_input": "2025-07-15T06:22:04.644960Z",
          "iopub.status.idle": "2025-07-15T06:22:04.654527Z",
          "shell.execute_reply.started": "2025-07-15T06:22:04.644931Z",
          "shell.execute_reply": "2025-07-15T06:22:04.653883Z"
        },
        "colab": {
          "base_uri": "https://localhost:8080/"
        },
        "id": "065UYwyRtXI9",
        "outputId": "a11184a3-da3e-4fa5-fc98-86f42a298be6"
      },
      "outputs": [
        {
          "output_type": "execute_result",
          "data": {
            "text/plain": [
              "tensor([0, 0, 0, 0, 0, 0, 0, 0, 0, 0])"
            ]
          },
          "metadata": {},
          "execution_count": 18
        }
      ],
      "execution_count": null
    },
    {
      "cell_type": "markdown",
      "source": [
        "### c) Basic operations"
      ],
      "metadata": {
        "id": "mpq7cgnRtXI9"
      }
    },
    {
      "cell_type": "code",
      "source": [
        "# Create a tensor of values and add a number to it\n",
        "tensor = torch.tensor([1, 2, 3])\n",
        "tensor + 10"
      ],
      "metadata": {
        "trusted": true,
        "execution": {
          "iopub.status.busy": "2025-07-15T06:22:04.655295Z",
          "iopub.execute_input": "2025-07-15T06:22:04.655583Z",
          "iopub.status.idle": "2025-07-15T06:22:04.667228Z",
          "shell.execute_reply.started": "2025-07-15T06:22:04.655556Z",
          "shell.execute_reply": "2025-07-15T06:22:04.666599Z"
        },
        "colab": {
          "base_uri": "https://localhost:8080/"
        },
        "id": "EgMFbGQEtXI9",
        "outputId": "d39c0901-5204-4b9f-a375-b5d32b9f40ae"
      },
      "outputs": [
        {
          "output_type": "execute_result",
          "data": {
            "text/plain": [
              "tensor([11, 12, 13])"
            ]
          },
          "metadata": {},
          "execution_count": 19
        }
      ],
      "execution_count": null
    },
    {
      "cell_type": "code",
      "source": [
        "# Multiply it by 10\n",
        "tensor * 10"
      ],
      "metadata": {
        "trusted": true,
        "execution": {
          "iopub.status.busy": "2025-07-15T06:22:04.667895Z",
          "iopub.execute_input": "2025-07-15T06:22:04.668078Z",
          "iopub.status.idle": "2025-07-15T06:22:04.679543Z",
          "shell.execute_reply.started": "2025-07-15T06:22:04.668062Z",
          "shell.execute_reply": "2025-07-15T06:22:04.678798Z"
        },
        "colab": {
          "base_uri": "https://localhost:8080/"
        },
        "id": "Enr0qffttXI9",
        "outputId": "99ee6e04-3b1b-428b-b402-3c5dc0e83ef6"
      },
      "outputs": [
        {
          "output_type": "execute_result",
          "data": {
            "text/plain": [
              "tensor([10, 20, 30])"
            ]
          },
          "metadata": {},
          "execution_count": 20
        }
      ],
      "execution_count": null
    },
    {
      "cell_type": "code",
      "source": [
        "# /!\\ Be careful: Tensors don't change unless reassigned\n",
        "tensor"
      ],
      "metadata": {
        "trusted": true,
        "execution": {
          "iopub.status.busy": "2025-07-15T06:22:04.680501Z",
          "iopub.execute_input": "2025-07-15T06:22:04.680746Z",
          "iopub.status.idle": "2025-07-15T06:22:04.690753Z",
          "shell.execute_reply.started": "2025-07-15T06:22:04.680720Z",
          "shell.execute_reply": "2025-07-15T06:22:04.690075Z"
        },
        "colab": {
          "base_uri": "https://localhost:8080/"
        },
        "id": "c2OUS9tHtXI9",
        "outputId": "a26009a3-a05b-4811-9767-8b72ec4f4b1c"
      },
      "outputs": [
        {
          "output_type": "execute_result",
          "data": {
            "text/plain": [
              "tensor([1, 2, 3])"
            ]
          },
          "metadata": {},
          "execution_count": 21
        }
      ],
      "execution_count": null
    },
    {
      "cell_type": "code",
      "source": [
        "# Subtract and reassign\n",
        "tensor = tensor - 10\n",
        "tensor"
      ],
      "metadata": {
        "trusted": true,
        "execution": {
          "iopub.status.busy": "2025-07-15T06:22:04.691493Z",
          "iopub.execute_input": "2025-07-15T06:22:04.691709Z",
          "iopub.status.idle": "2025-07-15T06:22:04.702446Z",
          "shell.execute_reply.started": "2025-07-15T06:22:04.691691Z",
          "shell.execute_reply": "2025-07-15T06:22:04.701731Z"
        },
        "colab": {
          "base_uri": "https://localhost:8080/"
        },
        "id": "B2c-Adl_tXI9",
        "outputId": "92e30204-eda7-40b3-fa8d-80f394f80f5c"
      },
      "outputs": [
        {
          "output_type": "execute_result",
          "data": {
            "text/plain": [
              "tensor([-9, -8, -7])"
            ]
          },
          "metadata": {},
          "execution_count": 22
        }
      ],
      "execution_count": null
    },
    {
      "cell_type": "code",
      "source": [
        "# Add and reassign\n",
        "tensor = tensor + 10\n",
        "tensor"
      ],
      "metadata": {
        "trusted": true,
        "execution": {
          "iopub.status.busy": "2025-07-15T06:22:04.703428Z",
          "iopub.execute_input": "2025-07-15T06:22:04.704130Z",
          "iopub.status.idle": "2025-07-15T06:22:04.714617Z",
          "shell.execute_reply.started": "2025-07-15T06:22:04.704107Z",
          "shell.execute_reply": "2025-07-15T06:22:04.713970Z"
        },
        "colab": {
          "base_uri": "https://localhost:8080/"
        },
        "id": "yX55L5LntXI9",
        "outputId": "224329d5-4978-46e6-8d28-5c203f9097b9"
      },
      "outputs": [
        {
          "output_type": "execute_result",
          "data": {
            "text/plain": [
              "tensor([1, 2, 3])"
            ]
          },
          "metadata": {},
          "execution_count": 23
        }
      ],
      "execution_count": null
    },
    {
      "cell_type": "code",
      "source": [
        "# Can also use torch functions\n",
        "print(tensor)\n",
        "print(torch.multiply(tensor, 10))\n",
        "print(torch.mul(tensor, 10)) # torch.mul is a shortcut for multiply\n",
        "print(torch.add(tensor, 10))\n",
        "\n",
        "# However, it's more common to use the operator symbols like * instead of torch.mul()\n",
        "print(tensor * tensor)"
      ],
      "metadata": {
        "trusted": true,
        "execution": {
          "iopub.status.busy": "2025-07-15T06:22:04.715349Z",
          "iopub.execute_input": "2025-07-15T06:22:04.715551Z",
          "iopub.status.idle": "2025-07-15T06:22:04.726639Z",
          "shell.execute_reply.started": "2025-07-15T06:22:04.715534Z",
          "shell.execute_reply": "2025-07-15T06:22:04.725698Z"
        },
        "colab": {
          "base_uri": "https://localhost:8080/"
        },
        "id": "gtd95XL9tXI9",
        "outputId": "a35408a4-eeb7-483a-f862-9ccb7d2fcd70"
      },
      "outputs": [
        {
          "output_type": "stream",
          "name": "stdout",
          "text": [
            "tensor([1, 2, 3])\n",
            "tensor([10, 20, 30])\n",
            "tensor([10, 20, 30])\n",
            "tensor([11, 12, 13])\n",
            "tensor([1, 4, 9])\n"
          ]
        }
      ],
      "execution_count": null
    },
    {
      "cell_type": "markdown",
      "source": [
        "PyTorch implements matrix multiplication functionality in the torch.matmul() method.\n",
        "\n",
        "\n",
        "Or you can use the operator symbols @, but the in-built torch.matmul() method is faster"
      ],
      "metadata": {
        "id": "cNdsG82vtXI-"
      }
    },
    {
      "cell_type": "code",
      "source": [
        "print(torch.matmul(tensor, tensor))\n",
        "print(tensor @ tensor)"
      ],
      "metadata": {
        "trusted": true,
        "execution": {
          "iopub.status.busy": "2025-07-15T06:22:04.727513Z",
          "iopub.execute_input": "2025-07-15T06:22:04.727763Z",
          "iopub.status.idle": "2025-07-15T06:22:04.737265Z",
          "shell.execute_reply.started": "2025-07-15T06:22:04.727737Z",
          "shell.execute_reply": "2025-07-15T06:22:04.736637Z"
        },
        "colab": {
          "base_uri": "https://localhost:8080/"
        },
        "id": "w3fNZW8btXI-",
        "outputId": "64897ed2-2cbe-45d9-c108-885c6a4a7e56"
      },
      "outputs": [
        {
          "output_type": "stream",
          "name": "stdout",
          "text": [
            "tensor(14)\n",
            "tensor(14)\n"
          ]
        }
      ],
      "execution_count": null
    },
    {
      "cell_type": "markdown",
      "source": [
        "### d) Indexing (selecting data from tensors)"
      ],
      "metadata": {
        "id": "Rwfevp4utXI-"
      }
    },
    {
      "cell_type": "code",
      "source": [
        "x = torch.arange(1, 10).reshape(1, 3, 3)\n",
        "x, x.shape"
      ],
      "metadata": {
        "trusted": true,
        "execution": {
          "iopub.status.busy": "2025-07-15T06:22:04.738087Z",
          "iopub.execute_input": "2025-07-15T06:22:04.738744Z",
          "iopub.status.idle": "2025-07-15T06:22:04.751167Z",
          "shell.execute_reply.started": "2025-07-15T06:22:04.738716Z",
          "shell.execute_reply": "2025-07-15T06:22:04.750517Z"
        },
        "colab": {
          "base_uri": "https://localhost:8080/"
        },
        "id": "gGjcWweBtXI-",
        "outputId": "851f5274-9644-478d-b988-a3e70267ea78"
      },
      "outputs": [
        {
          "output_type": "execute_result",
          "data": {
            "text/plain": [
              "(tensor([[[1, 2, 3],\n",
              "          [4, 5, 6],\n",
              "          [7, 8, 9]]]),\n",
              " torch.Size([1, 3, 3]))"
            ]
          },
          "metadata": {},
          "execution_count": 26
        }
      ],
      "execution_count": null
    },
    {
      "cell_type": "code",
      "source": [
        "# Let's index bracket by bracket\n",
        "print(f\"First square bracket:\\n{x[0]}\")\n",
        "print(f\"Second square bracket: {x[0][0]}\")\n",
        "print(f\"Third square bracket: {x[0][0][0]}\")"
      ],
      "metadata": {
        "trusted": true,
        "execution": {
          "iopub.status.busy": "2025-07-15T06:22:04.751894Z",
          "iopub.execute_input": "2025-07-15T06:22:04.752160Z",
          "iopub.status.idle": "2025-07-15T06:22:04.762271Z",
          "shell.execute_reply.started": "2025-07-15T06:22:04.752134Z",
          "shell.execute_reply": "2025-07-15T06:22:04.761529Z"
        },
        "colab": {
          "base_uri": "https://localhost:8080/"
        },
        "id": "iHXOMMUltXI-",
        "outputId": "233f4860-ff51-43af-aec2-500267a91f36"
      },
      "outputs": [
        {
          "output_type": "stream",
          "name": "stdout",
          "text": [
            "First square bracket:\n",
            "tensor([[1, 2, 3],\n",
            "        [4, 5, 6],\n",
            "        [7, 8, 9]])\n",
            "Second square bracket: tensor([1, 2, 3])\n",
            "Third square bracket: 1\n"
          ]
        }
      ],
      "execution_count": null
    },
    {
      "cell_type": "code",
      "source": [
        "# You can also use : to specify \"all values in this dimension\" and then use a comma (,) to add another dimension.\n",
        "\n",
        "# Get all values of 0th dimension and the 0 index of 1st dimension\n",
        "print(x[:, 0])\n",
        "# Get all values of 0th & 1st dimensions but only index 1 of 2nd dimension\n",
        "print(x[:, :, 1])\n",
        "# Get all values of the 0 dimension but only the 1 index value of the 1st and 2nd dimension\n",
        "print(x[:, 1, 1])\n",
        "# Get index 0 of 0th and 1st dimension and all values of 2nd dimension\n",
        "print(x[0, 0, :]) # same as x[0][0]"
      ],
      "metadata": {
        "trusted": true,
        "execution": {
          "iopub.status.busy": "2025-07-15T06:22:04.763182Z",
          "iopub.execute_input": "2025-07-15T06:22:04.763450Z",
          "iopub.status.idle": "2025-07-15T06:22:04.776497Z",
          "shell.execute_reply.started": "2025-07-15T06:22:04.763424Z",
          "shell.execute_reply": "2025-07-15T06:22:04.775693Z"
        },
        "colab": {
          "base_uri": "https://localhost:8080/"
        },
        "id": "MTATw3BEtXI-",
        "outputId": "3c46faf8-0b51-4430-d873-60d809e53ee4"
      },
      "outputs": [
        {
          "output_type": "stream",
          "name": "stdout",
          "text": [
            "tensor([[1, 2, 3]])\n",
            "tensor([[2, 5, 8]])\n",
            "tensor([5])\n",
            "tensor([1, 2, 3])\n"
          ]
        }
      ],
      "execution_count": null
    },
    {
      "cell_type": "markdown",
      "source": [
        "### e) PyTorch tensors & NumPy\n",
        "\n",
        "Since NumPy is a popular Python numerical computing library, PyTorch has functionality to interact with it nicely.\n",
        "\n",
        "The two main methods you'll want to use for NumPy to PyTorch (and back again) are:\n",
        "\n",
        "*   torch.from_numpy(ndarray) - NumPy array -> PyTorch tensor.\n",
        "*   torch.Tensor.numpy() - PyTorch tensor -> NumPy array.# NumPy array to tensor\n",
        "import torch\n",
        "import numpy as np\n",
        "array = np.arange(1.0, 8.0)\n",
        "tensor = torch.from_numpy(array)\n",
        "array, tensor"
      ],
      "metadata": {
        "id": "OuhLQ5uetXJL"
      }
    },
    {
      "cell_type": "code",
      "source": [
        "# NumPy array to tensor\n",
        "import torch\n",
        "import numpy as np\n",
        "array = np.arange(1.0, 8.0)\n",
        "tensor = torch.from_numpy(array)\n",
        "array, tensor"
      ],
      "metadata": {
        "trusted": true,
        "execution": {
          "iopub.status.busy": "2025-07-15T06:22:04.777377Z",
          "iopub.execute_input": "2025-07-15T06:22:04.777683Z",
          "iopub.status.idle": "2025-07-15T06:22:04.789828Z",
          "shell.execute_reply.started": "2025-07-15T06:22:04.777656Z",
          "shell.execute_reply": "2025-07-15T06:22:04.789070Z"
        },
        "colab": {
          "base_uri": "https://localhost:8080/"
        },
        "id": "ZhbIaE0etXJM",
        "outputId": "5149a501-0b1c-4139-fc82-06fc24d69ac7"
      },
      "outputs": [
        {
          "output_type": "execute_result",
          "data": {
            "text/plain": [
              "(array([1., 2., 3., 4., 5., 6., 7.]),\n",
              " tensor([1., 2., 3., 4., 5., 6., 7.], dtype=torch.float64))"
            ]
          },
          "metadata": {},
          "execution_count": 29
        }
      ],
      "execution_count": null
    },
    {
      "cell_type": "code",
      "source": [
        "# Tensor to NumPy array\n",
        "tensor = torch.ones(7) # create a tensor of ones with dtype=float32\n",
        "numpy_tensor = tensor.numpy() # will be dtype=float32 unless changed\n",
        "tensor, numpy_tensor"
      ],
      "metadata": {
        "trusted": true,
        "execution": {
          "iopub.status.busy": "2025-07-15T06:22:04.790649Z",
          "iopub.execute_input": "2025-07-15T06:22:04.790881Z",
          "iopub.status.idle": "2025-07-15T06:22:04.801244Z",
          "shell.execute_reply.started": "2025-07-15T06:22:04.790862Z",
          "shell.execute_reply": "2025-07-15T06:22:04.800594Z"
        },
        "colab": {
          "base_uri": "https://localhost:8080/"
        },
        "id": "DHRLi_WYtXJM",
        "outputId": "c38d29d5-62c7-485b-f2e3-cf94f94cb987"
      },
      "outputs": [
        {
          "output_type": "execute_result",
          "data": {
            "text/plain": [
              "(tensor([1., 1., 1., 1., 1., 1., 1.]),\n",
              " array([1., 1., 1., 1., 1., 1., 1.], dtype=float32))"
            ]
          },
          "metadata": {},
          "execution_count": 30
        }
      ],
      "execution_count": null
    },
    {
      "cell_type": "markdown",
      "source": [
        "## C] Running tensors on GPUs\n",
        "By default these operations are often done on a CPU, if you have a GPU, it will enable you to perform calculations faster.\n",
        "\n",
        "To do this, the variables must be stored on the GPU."
      ],
      "metadata": {
        "id": "IAwtR0kdtXJM"
      }
    },
    {
      "cell_type": "code",
      "source": [
        "# Check if a variables are on GPU or CPU\n",
        "tensor.device"
      ],
      "metadata": {
        "trusted": true,
        "execution": {
          "iopub.status.busy": "2025-07-15T06:22:04.801913Z",
          "iopub.execute_input": "2025-07-15T06:22:04.802149Z",
          "iopub.status.idle": "2025-07-15T06:22:04.812253Z",
          "shell.execute_reply.started": "2025-07-15T06:22:04.802130Z",
          "shell.execute_reply": "2025-07-15T06:22:04.811547Z"
        },
        "colab": {
          "base_uri": "https://localhost:8080/"
        },
        "id": "dJDXp1ZTtXJM",
        "outputId": "552fa9ba-f88f-455b-e716-11c5ec3dd152"
      },
      "outputs": [
        {
          "output_type": "execute_result",
          "data": {
            "text/plain": [
              "device(type='cpu')"
            ]
          },
          "metadata": {},
          "execution_count": 31
        }
      ],
      "execution_count": null
    },
    {
      "cell_type": "code",
      "source": [
        "# Check for GPU\n",
        "print(\"PyTorch version:\", torch.__version__)\n",
        "print(\"CUDA available:\", torch.cuda.is_available())"
      ],
      "metadata": {
        "trusted": true,
        "execution": {
          "iopub.status.busy": "2025-07-15T06:22:04.813042Z",
          "iopub.execute_input": "2025-07-15T06:22:04.813252Z",
          "iopub.status.idle": "2025-07-15T06:22:04.826128Z",
          "shell.execute_reply.started": "2025-07-15T06:22:04.813234Z",
          "shell.execute_reply": "2025-07-15T06:22:04.825267Z"
        },
        "colab": {
          "base_uri": "https://localhost:8080/"
        },
        "id": "WCeKvLyctXJM",
        "outputId": "c2cc739b-0974-4f74-e0eb-dd31b6f1b3b6"
      },
      "outputs": [
        {
          "output_type": "stream",
          "name": "stdout",
          "text": [
            "PyTorch version: 2.6.0+cu124\n",
            "CUDA available: False\n"
          ]
        }
      ],
      "execution_count": null
    },
    {
      "cell_type": "markdown",
      "source": [
        "In order to activate CUDA, go to \"Settings\" and in \"accelerator\" select \"GPU\""
      ],
      "metadata": {
        "id": "DEKu2eBOtXJM"
      }
    },
    {
      "cell_type": "code",
      "source": [
        "# Set device type\n",
        "device = \"cuda\" if torch.cuda.is_available() else \"cpu\"\n",
        "device"
      ],
      "metadata": {
        "trusted": true,
        "execution": {
          "iopub.status.busy": "2025-07-15T06:22:04.826866Z",
          "iopub.execute_input": "2025-07-15T06:22:04.827501Z",
          "iopub.status.idle": "2025-07-15T06:22:04.839769Z",
          "shell.execute_reply.started": "2025-07-15T06:22:04.827472Z",
          "shell.execute_reply": "2025-07-15T06:22:04.838992Z"
        },
        "colab": {
          "base_uri": "https://localhost:8080/",
          "height": 35
        },
        "id": "trs463WGtXJM",
        "outputId": "ff163186-0e4c-40d8-dad8-333b7967abb8"
      },
      "outputs": [
        {
          "output_type": "execute_result",
          "data": {
            "text/plain": [
              "'cpu'"
            ],
            "application/vnd.google.colaboratory.intrinsic+json": {
              "type": "string"
            }
          },
          "metadata": {},
          "execution_count": 33
        }
      ],
      "execution_count": null
    },
    {
      "cell_type": "code",
      "source": [
        "# Move tensor to GPU (if available)\n",
        "tensor_on_gpu = tensor.to(device)\n",
        "tensor_on_gpu, tensor_on_gpu.device"
      ],
      "metadata": {
        "trusted": true,
        "execution": {
          "iopub.status.busy": "2025-07-15T06:22:04.840581Z",
          "iopub.execute_input": "2025-07-15T06:22:04.840806Z",
          "iopub.status.idle": "2025-07-15T06:22:04.852516Z",
          "shell.execute_reply.started": "2025-07-15T06:22:04.840786Z",
          "shell.execute_reply": "2025-07-15T06:22:04.851824Z"
        },
        "colab": {
          "base_uri": "https://localhost:8080/"
        },
        "id": "Ay_WZ8nJtXJN",
        "outputId": "82724cfc-1d05-4e68-f401-59b642c9ce51"
      },
      "outputs": [
        {
          "output_type": "execute_result",
          "data": {
            "text/plain": [
              "(tensor([1., 1., 1., 1., 1., 1., 1.]), device(type='cpu'))"
            ]
          },
          "metadata": {},
          "execution_count": 34
        }
      ],
      "execution_count": null
    },
    {
      "cell_type": "markdown",
      "source": [
        "### Moving tensors back to the CPU\n",
        "For example, you'll want to do this if you want to interact with your tensors with NumPy (NumPy does not leverage the GPU)."
      ],
      "metadata": {
        "id": "xy6te7N-tXJN"
      }
    },
    {
      "cell_type": "code",
      "source": [
        "# If tensor is on GPU, can't transform it to NumPy (this will error)\n",
        "#tensor_on_gpu.numpy()"
      ],
      "metadata": {
        "trusted": true,
        "execution": {
          "iopub.status.busy": "2025-07-15T06:22:04.853261Z",
          "iopub.execute_input": "2025-07-15T06:22:04.853542Z",
          "iopub.status.idle": "2025-07-15T06:22:04.861168Z",
          "shell.execute_reply.started": "2025-07-15T06:22:04.853514Z",
          "shell.execute_reply": "2025-07-15T06:22:04.860480Z"
        },
        "id": "8harBA89tXJN"
      },
      "outputs": [],
      "execution_count": null
    },
    {
      "cell_type": "markdown",
      "source": [
        "Instead, to get a tensor back to CPU and usable with NumPy we can use Tensor.cpu().\n",
        "\n",
        "This copies the tensor to CPU memory so it's usable with CPUs."
      ],
      "metadata": {
        "id": "MLK5R4KPtXJN"
      }
    },
    {
      "cell_type": "code",
      "source": [
        "# Instead, copy the tensor back to cpu\n",
        "tensor_back_on_cpu = tensor_on_gpu.cpu().numpy()\n",
        "tensor_back_on_cpu"
      ],
      "metadata": {
        "trusted": true,
        "execution": {
          "iopub.status.busy": "2025-07-15T06:22:04.861964Z",
          "iopub.execute_input": "2025-07-15T06:22:04.862214Z",
          "iopub.status.idle": "2025-07-15T06:22:04.873844Z",
          "shell.execute_reply.started": "2025-07-15T06:22:04.862188Z",
          "shell.execute_reply": "2025-07-15T06:22:04.873187Z"
        },
        "colab": {
          "base_uri": "https://localhost:8080/"
        },
        "id": "OLSRiVrRtXJN",
        "outputId": "52d55a25-96b7-40b8-e1cb-b2c84d18779a"
      },
      "outputs": [
        {
          "output_type": "execute_result",
          "data": {
            "text/plain": [
              "array([1., 1., 1., 1., 1., 1., 1.], dtype=float32)"
            ]
          },
          "metadata": {},
          "execution_count": 36
        }
      ],
      "execution_count": null
    },
    {
      "cell_type": "markdown",
      "source": [
        "# Part 2: Basics of neural networks\n",
        "\n",
        "A neuron is a function that satisfies this equation:\n",
        "\n",
        "y = weight * X + bias\n",
        "\n",
        "* x corresponds to input data\n",
        "* y to prediction\n",
        "* weight and bias are the parameters to be learned by the model"
      ],
      "metadata": {
        "id": "mFcqxMeHtXJN"
      }
    },
    {
      "cell_type": "markdown",
      "source": [
        "## A] Linear regression by hand"
      ],
      "metadata": {
        "id": "5D2imPjttXJN"
      }
    },
    {
      "cell_type": "code",
      "source": [
        "import torch\n",
        "# Create *known* parameters\n",
        "weight = 0.7\n",
        "bias = 0.3\n",
        "\n",
        "# Create data\n",
        "start = 0\n",
        "end = 1\n",
        "step = 0.02\n",
        "X = torch.arange(start, end, step).unsqueeze(dim=1)\n",
        "y = weight * X + bias\n",
        "\n",
        "X[:10], y[:10]"
      ],
      "metadata": {
        "trusted": true,
        "execution": {
          "iopub.status.busy": "2025-07-15T06:22:04.874612Z",
          "iopub.execute_input": "2025-07-15T06:22:04.874922Z",
          "iopub.status.idle": "2025-07-15T06:22:04.887527Z",
          "shell.execute_reply.started": "2025-07-15T06:22:04.874901Z",
          "shell.execute_reply": "2025-07-15T06:22:04.886803Z"
        },
        "colab": {
          "base_uri": "https://localhost:8080/"
        },
        "id": "FHzcFnCZtXJN",
        "outputId": "e14ae372-301b-468b-8d15-f19dafbe4a9b"
      },
      "outputs": [
        {
          "output_type": "execute_result",
          "data": {
            "text/plain": [
              "(tensor([[0.0000],\n",
              "         [0.0200],\n",
              "         [0.0400],\n",
              "         [0.0600],\n",
              "         [0.0800],\n",
              "         [0.1000],\n",
              "         [0.1200],\n",
              "         [0.1400],\n",
              "         [0.1600],\n",
              "         [0.1800]]),\n",
              " tensor([[0.3000],\n",
              "         [0.3140],\n",
              "         [0.3280],\n",
              "         [0.3420],\n",
              "         [0.3560],\n",
              "         [0.3700],\n",
              "         [0.3840],\n",
              "         [0.3980],\n",
              "         [0.4120],\n",
              "         [0.4260]]))"
            ]
          },
          "metadata": {},
          "execution_count": 37
        }
      ],
      "execution_count": null
    },
    {
      "cell_type": "markdown",
      "source": [
        "Python is a modular language, meaning that everything is created in module form (i.e. a block of code that can be reused). To define a module that can be recalled later, we use the Class format.\n",
        "\n",
        "Python packages (including Pytorch) are already created as modules (Class) and can be reused by modifying them to suit our needs.\n",
        "\n",
        "Let's take the example of linear regression."
      ],
      "metadata": {
        "id": "ZVHxtebOtXJN"
      }
    },
    {
      "cell_type": "code",
      "source": [
        "from torch import nn # nn contains all of PyTorch's building blocks for neural networks\n",
        "\n",
        "# Create a Linear Regression model class\n",
        "class LinearRegressionModel(nn.Module): # <- almost everything in PyTorch is a nn.Module (think of this as neural network lego blocks)\n",
        "\n",
        "    # Initialise model parameters to be used in various computations\n",
        "    def __init__(self):\n",
        "        super().__init__() # Means that we use what is already defined in nn.module\n",
        "\n",
        "        self.weights = nn.Parameter(torch.randn(1, # start with random weights (this will get adjusted as the model learns)\n",
        "                                                dtype=torch.float),\n",
        "                                   requires_grad=True) # means PyTorch willtrack the gradients of this specific parameter for use with torch.autograd and gradient descent\n",
        "\n",
        "        self.bias = nn.Parameter(torch.randn(1, # start with random bias (this will get adjusted as the model learns)\n",
        "                                            dtype=torch.float),\n",
        "                                requires_grad=True)\n",
        "\n",
        "\n",
        "    # Forward defines the computation in the model\n",
        "    def forward(self, x: torch.Tensor) -> torch.Tensor: # <- \"x\" is the input data (e.g. training/testing features)\n",
        "        return self.weights * x + self.bias # <- this is the linear regression formula (y = m*x + b)"
      ],
      "metadata": {
        "trusted": true,
        "execution": {
          "iopub.status.busy": "2025-07-15T06:22:04.888288Z",
          "iopub.execute_input": "2025-07-15T06:22:04.888582Z",
          "iopub.status.idle": "2025-07-15T06:22:04.896206Z",
          "shell.execute_reply.started": "2025-07-15T06:22:04.888559Z",
          "shell.execute_reply": "2025-07-15T06:22:04.895448Z"
        },
        "id": "iLaifAf4tXJN"
      },
      "outputs": [],
      "execution_count": null
    },
    {
      "cell_type": "code",
      "source": [
        "# Set manual seed since nn.Parameter are randomly initialized\n",
        "torch.manual_seed(42)\n",
        "\n",
        "# Create an instance of the model (this is a subclass of nn.Module that contains nn.Parameter(s))\n",
        "model_0 = LinearRegressionModel()\n",
        "\n",
        "# Check the nn.Parameter(s) within the nn.Module subclass we created\n",
        "list(model_0.parameters())"
      ],
      "metadata": {
        "trusted": true,
        "execution": {
          "iopub.status.busy": "2025-07-15T06:22:04.897004Z",
          "iopub.execute_input": "2025-07-15T06:22:04.897273Z",
          "iopub.status.idle": "2025-07-15T06:22:04.913931Z",
          "shell.execute_reply.started": "2025-07-15T06:22:04.897247Z",
          "shell.execute_reply": "2025-07-15T06:22:04.913243Z"
        },
        "colab": {
          "base_uri": "https://localhost:8080/"
        },
        "id": "wcwlt4EptXJO",
        "outputId": "3be0319c-b902-41d3-ad1e-a52b1b439f11"
      },
      "outputs": [
        {
          "output_type": "execute_result",
          "data": {
            "text/plain": [
              "[Parameter containing:\n",
              " tensor([0.3367], requires_grad=True),\n",
              " Parameter containing:\n",
              " tensor([0.1288], requires_grad=True)]"
            ]
          },
          "metadata": {},
          "execution_count": 39
        }
      ],
      "execution_count": null
    },
    {
      "cell_type": "code",
      "source": [
        "# We can also get the state (what the model contains) of the model\n",
        "# List named parameters\n",
        "model_0.state_dict()"
      ],
      "metadata": {
        "trusted": true,
        "execution": {
          "iopub.status.busy": "2025-07-15T06:22:04.914637Z",
          "iopub.execute_input": "2025-07-15T06:22:04.914919Z",
          "iopub.status.idle": "2025-07-15T06:22:04.924395Z",
          "shell.execute_reply.started": "2025-07-15T06:22:04.914891Z",
          "shell.execute_reply": "2025-07-15T06:22:04.923669Z"
        },
        "colab": {
          "base_uri": "https://localhost:8080/"
        },
        "id": "mt8mtNB8tXJO",
        "outputId": "c3754b1b-302e-4320-e076-6b984cb3a974"
      },
      "outputs": [
        {
          "output_type": "execute_result",
          "data": {
            "text/plain": [
              "OrderedDict([('weights', tensor([0.3367])), ('bias', tensor([0.1288]))])"
            ]
          },
          "metadata": {},
          "execution_count": 40
        }
      ],
      "execution_count": null
    },
    {
      "cell_type": "markdown",
      "source": [
        "## B] Making predictions using torch.inference_mode()\n",
        "\n",
        "When we pass data to our model, it'll go through the model's `forward()` method and produce a result using the computation we've defined in this method.\n",
        "\n",
        "`torch.inference_mode()` turns off things (like gradient tracking, which is necessary for training but not for inference) to make forward-passes (data going through the `forward()` method) faster.\n",
        "\n",
        "First, let's divide the data into the train and test categories."
      ],
      "metadata": {
        "id": "zS49gGgPtXJO"
      }
    },
    {
      "cell_type": "code",
      "source": [
        "# Create train/test split\n",
        "train_split = int(0.8 * len(X)) # 80% of data used for training set, 20% for testing\n",
        "X_train, y_train = X[:train_split], y[:train_split]\n",
        "X_test, y_test = X[train_split:], y[train_split:]\n"
      ],
      "metadata": {
        "trusted": true,
        "execution": {
          "iopub.status.busy": "2025-07-15T06:22:04.925079Z",
          "iopub.execute_input": "2025-07-15T06:22:04.925264Z",
          "iopub.status.idle": "2025-07-15T06:22:04.935589Z",
          "shell.execute_reply.started": "2025-07-15T06:22:04.925247Z",
          "shell.execute_reply": "2025-07-15T06:22:04.934841Z"
        },
        "id": "Hs87kNWetXJO"
      },
      "outputs": [],
      "execution_count": null
    },
    {
      "cell_type": "code",
      "source": [
        "# Make predictions with model\n",
        "with torch.inference_mode():\n",
        "    y_preds = model_0(X_test)\n",
        "\n",
        "# Check the predictions\n",
        "print(f\"Number of testing samples: {len(X_test)}\")\n",
        "print(f\"Number of predictions made: {len(y_preds)}\")\n",
        "print(f\"Predicted values:\\n{y_preds}\")"
      ],
      "metadata": {
        "trusted": true,
        "execution": {
          "iopub.status.busy": "2025-07-15T06:22:04.936291Z",
          "iopub.execute_input": "2025-07-15T06:22:04.936600Z",
          "iopub.status.idle": "2025-07-15T06:22:04.949552Z",
          "shell.execute_reply.started": "2025-07-15T06:22:04.936572Z",
          "shell.execute_reply": "2025-07-15T06:22:04.948702Z"
        },
        "colab": {
          "base_uri": "https://localhost:8080/"
        },
        "id": "G33iMN5TtXJO",
        "outputId": "5c8e44b6-6064-407d-8d2a-a562d0879af6"
      },
      "outputs": [
        {
          "output_type": "stream",
          "name": "stdout",
          "text": [
            "Number of testing samples: 10\n",
            "Number of predictions made: 10\n",
            "Predicted values:\n",
            "tensor([[0.3982],\n",
            "        [0.4049],\n",
            "        [0.4116],\n",
            "        [0.4184],\n",
            "        [0.4251],\n",
            "        [0.4318],\n",
            "        [0.4386],\n",
            "        [0.4453],\n",
            "        [0.4520],\n",
            "        [0.4588]])\n"
          ]
        }
      ],
      "execution_count": null
    },
    {
      "cell_type": "markdown",
      "source": [
        "PyTorch contains a function that already implements linear regression, so you can redefine our model like this:"
      ],
      "metadata": {
        "id": "sU5GpRFgtXJO"
      }
    },
    {
      "cell_type": "code",
      "source": [
        "class LinearRegressionModel(nn.Module):\n",
        "    def __init__(self):\n",
        "        super(LinearRegressionModel, self).__init__()\n",
        "        self.linear = nn.Linear(1, 1)\n",
        "\n",
        "    def forward(self, x):\n",
        "        return self.linear(x)\n",
        "\n",
        "model_0 = LinearRegressionModel()\n",
        "print(model_0)"
      ],
      "metadata": {
        "trusted": true,
        "execution": {
          "iopub.status.busy": "2025-07-15T06:22:04.950302Z",
          "iopub.execute_input": "2025-07-15T06:22:04.950528Z",
          "iopub.status.idle": "2025-07-15T06:22:04.964611Z",
          "shell.execute_reply.started": "2025-07-15T06:22:04.950507Z",
          "shell.execute_reply": "2025-07-15T06:22:04.963918Z"
        },
        "colab": {
          "base_uri": "https://localhost:8080/"
        },
        "id": "9tvEat-KtXJO",
        "outputId": "c24f26fa-4e26-48e1-b359-17baed44f5d9"
      },
      "outputs": [
        {
          "output_type": "stream",
          "name": "stdout",
          "text": [
            "LinearRegressionModel(\n",
            "  (linear): Linear(in_features=1, out_features=1, bias=True)\n",
            ")\n"
          ]
        }
      ],
      "execution_count": null
    },
    {
      "cell_type": "markdown",
      "source": [
        "## C] Train model\n",
        "To improve results, you need to train the model, i.e. update the parameters. To do this, we'll need to add a few more things to our recipe.\n",
        "\n",
        "And that's a loss function as well as an optimizer\n",
        "\n",
        "* Measures how wrong your model's predictions (e.g. y_preds) are compared to the truth labels (e.g. y_test). Lower the better.\n",
        "* Tells your model how to update its internal parameters to best lower the loss."
      ],
      "metadata": {
        "id": "Tj4aMlYbtXJO"
      }
    },
    {
      "cell_type": "code",
      "source": [
        "# Create the loss function\n",
        "loss_fn = nn.L1Loss() # MAE loss is same as L1Loss\n",
        "\n",
        "# Create the optimizer\n",
        "optimizer = torch.optim.SGD(params=model_0.parameters(), lr=0.01)\n",
        "# params = parameters of target model to optimize\n",
        "# lr = learning rate (how much the optimizer should change parameters at each step, higher=more (less stable), lower=less (might take a long time))"
      ],
      "metadata": {
        "trusted": true,
        "execution": {
          "iopub.status.busy": "2025-07-15T06:22:04.965498Z",
          "iopub.execute_input": "2025-07-15T06:22:04.965759Z",
          "iopub.status.idle": "2025-07-15T06:22:04.977413Z",
          "shell.execute_reply.started": "2025-07-15T06:22:04.965738Z",
          "shell.execute_reply": "2025-07-15T06:22:04.976651Z"
        },
        "id": "PnzV7RkutXJP"
      },
      "outputs": [],
      "execution_count": null
    },
    {
      "cell_type": "markdown",
      "source": [
        "For training we need to implement the backpropagation, here an example on one simple tensor"
      ],
      "metadata": {
        "id": "0qu_myhttXJP"
      }
    },
    {
      "cell_type": "code",
      "source": [
        "# Autograd example\n",
        "x = torch.tensor(2.0, requires_grad=True)\n",
        "y = x**2 + 3 * x + 4\n",
        "\n",
        "# Compute gradients i.e. backpropagation\n",
        "y.backward()\n",
        "\n",
        "print(\"dy/dx:\", x.grad)  # Should be 2x + 3 => 2*2 + 3 = 7"
      ],
      "metadata": {
        "trusted": true,
        "execution": {
          "iopub.status.busy": "2025-07-15T06:22:04.978226Z",
          "iopub.execute_input": "2025-07-15T06:22:04.978520Z",
          "iopub.status.idle": "2025-07-15T06:22:04.990224Z",
          "shell.execute_reply.started": "2025-07-15T06:22:04.978493Z",
          "shell.execute_reply": "2025-07-15T06:22:04.989562Z"
        },
        "colab": {
          "base_uri": "https://localhost:8080/"
        },
        "id": "cEoaN22_tXJP",
        "outputId": "31fd5a33-2530-4d94-e29e-63aa93c0810b"
      },
      "outputs": [
        {
          "output_type": "stream",
          "name": "stdout",
          "text": [
            "dy/dx: tensor(7.)\n"
          ]
        }
      ],
      "execution_count": null
    },
    {
      "cell_type": "markdown",
      "source": [
        "Now it's time to creating 2 optimization loop :\n",
        "\n",
        "* The training loop involves the model going through the training data and learning the relationships between the features and labels.\n",
        "* The testing loop involves going through the testing data and evaluating how good the patterns are that the model learned on the training data (the model never sees the testing data during training)."
      ],
      "metadata": {
        "id": "z09WzwzltXJP"
      }
    },
    {
      "cell_type": "code",
      "source": [
        "# Set the number of epochs (how many times the model will pass over the training data)\n",
        "epochs = 100\n",
        "\n",
        "# Create empty loss lists to track values\n",
        "train_loss_values = []\n",
        "test_loss_values = []\n",
        "epoch_count = []\n",
        "\n",
        "for epoch in range(epochs):\n",
        "    ### Training\n",
        "\n",
        "    # Put model in training mode (this is the default state of a model)\n",
        "    model_0.train()\n",
        "\n",
        "    # 1. Forward pass on train data using the forward() method inside\n",
        "    y_pred = model_0(X_train)\n",
        "    # print(y_pred)\n",
        "\n",
        "    # 2. Calculate the loss (how different are our models predictions to the ground truth)\n",
        "    loss = loss_fn(y_pred, y_train)\n",
        "\n",
        "    # 3. Zero grad of the optimizer\n",
        "    optimizer.zero_grad()\n",
        "\n",
        "    # 4. Loss backwards\n",
        "    loss.backward()\n",
        "\n",
        "    # 5. Progress the optimizer\n",
        "    optimizer.step()\n",
        "\n",
        "    ### Testing\n",
        "\n",
        "    # Put the model in evaluation mode\n",
        "    model_0.eval()\n",
        "\n",
        "    with torch.inference_mode():\n",
        "      # 1. Forward pass on test data\n",
        "      test_pred = model_0(X_test)\n",
        "\n",
        "      # 2. Caculate loss on test data\n",
        "      test_loss = loss_fn(test_pred, y_test.type(torch.float)) # predictions come in torch.float datatype, so comparisons need to be done with tensors of the same type\n",
        "\n",
        "      # Print out what's happening\n",
        "      if epoch % 10 == 0:\n",
        "            epoch_count.append(epoch)\n",
        "            train_loss_values.append(loss.detach().numpy())\n",
        "            test_loss_values.append(test_loss.detach().numpy())\n",
        "            print(f\"Epoch: {epoch} | MAE Train Loss: {loss} | MAE Test Loss: {test_loss} \")"
      ],
      "metadata": {
        "trusted": true,
        "execution": {
          "iopub.status.busy": "2025-07-15T06:22:04.991067Z",
          "iopub.execute_input": "2025-07-15T06:22:04.991813Z",
          "iopub.status.idle": "2025-07-15T06:22:05.061348Z",
          "shell.execute_reply.started": "2025-07-15T06:22:04.991774Z",
          "shell.execute_reply": "2025-07-15T06:22:05.060563Z"
        },
        "colab": {
          "base_uri": "https://localhost:8080/"
        },
        "id": "nK8zA0CTtXJP",
        "outputId": "76f62fd8-4609-4824-bc89-a9c9817cdd4b"
      },
      "outputs": [
        {
          "output_type": "stream",
          "name": "stdout",
          "text": [
            "Epoch: 0 | MAE Train Loss: 0.4566597044467926 | MAE Test Loss: 0.902740478515625 \n",
            "Epoch: 10 | MAE Train Loss: 0.3415392339229584 | MAE Test Loss: 0.7685304880142212 \n",
            "Epoch: 20 | MAE Train Loss: 0.2548103630542755 | MAE Test Loss: 0.6518100500106812 \n",
            "Epoch: 30 | MAE Train Loss: 0.20335504412651062 | MAE Test Loss: 0.5596543550491333 \n",
            "Epoch: 40 | MAE Train Loss: 0.17333532869815826 | MAE Test Loss: 0.48786434531211853 \n",
            "Epoch: 50 | MAE Train Loss: 0.15608887374401093 | MAE Test Loss: 0.4337606430053711 \n",
            "Epoch: 60 | MAE Train Loss: 0.14575017988681793 | MAE Test Loss: 0.3929426670074463 \n",
            "Epoch: 70 | MAE Train Loss: 0.13897857069969177 | MAE Test Loss: 0.3625188171863556 \n",
            "Epoch: 80 | MAE Train Loss: 0.13399270176887512 | MAE Test Loss: 0.33869674801826477 \n",
            "Epoch: 90 | MAE Train Loss: 0.12999269366264343 | MAE Test Loss: 0.320896714925766 \n"
          ]
        }
      ],
      "execution_count": null
    },
    {
      "cell_type": "markdown",
      "source": [
        "## D] Saving and loading a PyTorch model\n",
        "For saving and loading models in PyTorch, there are three main methods you should be aware of :\n",
        "\n",
        "* torch.save -->\tSaves a serialized object to disk using Python's pickle utility. Models, tensors and various other Python objects like dictionaries can be saved using torch.save.\n",
        "* torch.load -->\tUses pickle's unpickling features to deserialize and load pickled Python object files (like models, tensors or dictionaries) into memory. You can also set which device to load the object to (CPU, GPU etc).\n",
        "* torch.nn.Module.load_state_dict -->\tLoads a model's parameter dictionary (model.state_dict()) using a saved state_dict() object."
      ],
      "metadata": {
        "id": "B-A_AUDntXJP"
      }
    },
    {
      "cell_type": "code",
      "source": [
        "# SAVE\n",
        "MODEL_SAVE_PATH = \"model.pth\"\n",
        "torch.save(obj=model_0.state_dict(), # only saving the state_dict() only saves the models learned parameters\n",
        "           f=MODEL_SAVE_PATH)"
      ],
      "metadata": {
        "trusted": true,
        "execution": {
          "iopub.status.busy": "2025-07-15T06:22:05.062163Z",
          "iopub.execute_input": "2025-07-15T06:22:05.062412Z",
          "iopub.status.idle": "2025-07-15T06:22:05.067250Z",
          "shell.execute_reply.started": "2025-07-15T06:22:05.062391Z",
          "shell.execute_reply": "2025-07-15T06:22:05.066458Z"
        },
        "id": "HsaPqBCutXJP"
      },
      "outputs": [],
      "execution_count": null
    },
    {
      "cell_type": "code",
      "source": [
        "# LOAD\n",
        "# Instantiate a new instance of our model (this will be instantiated with random weights)\n",
        "loaded_model_0 = LinearRegressionModel()\n",
        "\n",
        "# Load the state_dict of our saved model (this will update the new instance of our model with trained weights)\n",
        "loaded_model_0.load_state_dict(torch.load(f=MODEL_SAVE_PATH))"
      ],
      "metadata": {
        "trusted": true,
        "execution": {
          "iopub.status.busy": "2025-07-15T06:22:05.068148Z",
          "iopub.execute_input": "2025-07-15T06:22:05.068456Z",
          "iopub.status.idle": "2025-07-15T06:22:05.081419Z",
          "shell.execute_reply.started": "2025-07-15T06:22:05.068426Z",
          "shell.execute_reply": "2025-07-15T06:22:05.080748Z"
        },
        "colab": {
          "base_uri": "https://localhost:8080/"
        },
        "id": "cB1yQVEWtXJP",
        "outputId": "b82aa115-eef6-4b0c-fa05-f30b0c97848c"
      },
      "outputs": [
        {
          "output_type": "execute_result",
          "data": {
            "text/plain": [
              "<All keys matched successfully>"
            ]
          },
          "metadata": {},
          "execution_count": 48
        }
      ],
      "execution_count": null
    },
    {
      "cell_type": "code",
      "source": [
        "# 1. Put the loaded model into evaluation mode\n",
        "loaded_model_0.eval()\n",
        "\n",
        "# 2. Use the inference mode context manager to make predictions\n",
        "with torch.inference_mode():\n",
        "    loaded_model_preds = loaded_model_0(X_test) # perform a forward pass on the test data with the loaded model"
      ],
      "metadata": {
        "trusted": true,
        "execution": {
          "iopub.status.busy": "2025-07-15T06:22:05.082158Z",
          "iopub.execute_input": "2025-07-15T06:22:05.082446Z",
          "iopub.status.idle": "2025-07-15T06:22:05.089844Z",
          "shell.execute_reply.started": "2025-07-15T06:22:05.082417Z",
          "shell.execute_reply": "2025-07-15T06:22:05.089168Z"
        },
        "id": "ipvTJwy0tXJP"
      },
      "outputs": [],
      "execution_count": null
    },
    {
      "cell_type": "code",
      "source": [
        "# Compare previous model predictions with loaded model predictions (these should be the same)\n",
        "test_pred == loaded_model_preds"
      ],
      "metadata": {
        "trusted": true,
        "execution": {
          "iopub.status.busy": "2025-07-15T06:22:05.091048Z",
          "iopub.execute_input": "2025-07-15T06:22:05.091294Z",
          "iopub.status.idle": "2025-07-15T06:22:05.101809Z",
          "shell.execute_reply.started": "2025-07-15T06:22:05.091275Z",
          "shell.execute_reply": "2025-07-15T06:22:05.100983Z"
        },
        "colab": {
          "base_uri": "https://localhost:8080/"
        },
        "id": "9-BIGJnytXJQ",
        "outputId": "6d861896-8d1d-4662-ecac-7002cd8983ea"
      },
      "outputs": [
        {
          "output_type": "execute_result",
          "data": {
            "text/plain": [
              "tensor([[True],\n",
              "        [True],\n",
              "        [True],\n",
              "        [True],\n",
              "        [True],\n",
              "        [True],\n",
              "        [True],\n",
              "        [True],\n",
              "        [True],\n",
              "        [True]])"
            ]
          },
          "metadata": {},
          "execution_count": 50
        }
      ],
      "execution_count": null
    },
    {
      "cell_type": "markdown",
      "source": [
        "# Session 2: Tuesday, July 15, 4:00 pm - 5:30 pm (1h30)\n",
        "1. Load and preprocessing of existing dataset (Normalisation, standardization, split in train/test, cross validation...)\n",
        "2. Train and test on different models (which ones?)\n",
        "3. Request an assignments for the next session ? (if yes, what ?)"
      ],
      "metadata": {
        "id": "hAchYUxLtXJQ"
      }
    },
    {
      "cell_type": "markdown",
      "source": [
        "## Download existing dataset and examine the different variables"
      ],
      "metadata": {
        "id": "Ut4nTPiptXJQ"
      }
    },
    {
      "cell_type": "markdown",
      "source": [
        "CO2 Emissions in Africa from 2000 -2020. The data contains a collection of key metrics from notable sources.\n",
        "\n",
        "License: World Bank Dataset Terms of Use\n",
        "\n",
        "This Dataset includes the following features:\n",
        "\n",
        "1. Country\n",
        "2. Country code,\n",
        "3. Sub-region\n",
        "4. Year\n",
        "5. GDP PER CAPITA (USD)\n",
        "6. Population\n",
        "7. Area (Km2)\n",
        "8. Population\n",
        "9. CO2 Emissions\n",
        "    I. Transportation (Mt)\n",
        "    II. Total CO2 Emission including LUCF (Mt)\n",
        "    III. Total CO2 Emission excluding LUCF (Mt)\n",
        "    IV. Other Fuel Combustion (Mt)\n",
        "    V. Manufacturing/Construction (Mt)\n",
        "    VI.  Land-Use Change and Forestry (Mt)\n",
        "    VII. Industrial Processes (Mt)\n",
        "    VIII. Energy (Mt)\n",
        "    IX. Fugitive Emissions (Mt)\n",
        "    X. Electricity/Heat (Mt)\n",
        "    XI. Bunker Fuels (Mt)\n",
        "    XII. Building (Mt)"
      ],
      "metadata": {
        "id": "NkpQeFG3tXJQ"
      }
    },
    {
      "cell_type": "code",
      "source": [
        "import pandas as pd\n",
        "import numpy as np\n",
        "import torch\n",
        "from torch import nn\n",
        "from torch.utils.data import TensorDataset, DataLoader\n",
        "import matplotlib.pyplot as plt\n",
        "import os\n",
        "import matplotlib.pyplot as plt\n",
        "import seaborn as sns\n",
        "from google.colab import drive\n",
        "\n",
        "\n",
        "drive.mount('/content/gdrive')\n",
        "\n",
        "df = pd.read_csv(\"/content/gdrive/MyDrive/EASY-ML/co2_Emission_Africa.csv\")\n",
        "df.head()\n",
        "\n"
      ],
      "metadata": {
        "trusted": true,
        "execution": {
          "iopub.status.busy": "2025-07-15T06:22:05.102690Z",
          "iopub.execute_input": "2025-07-15T06:22:05.102985Z",
          "iopub.status.idle": "2025-07-15T06:22:05.133399Z",
          "shell.execute_reply.started": "2025-07-15T06:22:05.102959Z",
          "shell.execute_reply": "2025-07-15T06:22:05.132679Z"
        },
        "colab": {
          "base_uri": "https://localhost:8080/",
          "height": 400
        },
        "id": "DRKLPs3atXJQ",
        "outputId": "cd8dea31-d389-4114-8b3e-4d2c15ba59a9"
      },
      "outputs": [
        {
          "output_type": "stream",
          "name": "stdout",
          "text": [
            "Mounted at /content/gdrive\n"
          ]
        },
        {
          "output_type": "execute_result",
          "data": {
            "text/plain": [
              "   Country       Sub-Region Code  Year  Population  GDP PER CAPITA (USD)  \\\n",
              "0  Algeria  Northern Africa  DZA  2000    30774621               1780.38   \n",
              "1  Algeria  Northern Africa  DZA  2001    31200985               1754.58   \n",
              "2  Algeria  Northern Africa  DZA  2002    31624696               1794.81   \n",
              "3  Algeria  Northern Africa  DZA  2003    32055883               2117.05   \n",
              "4  Algeria  Northern Africa  DZA  2004    32510186               2624.80   \n",
              "\n",
              "   GDP PER CAPITA PPP (USD)  Area (Km2)  Transportation (Mt)  \\\n",
              "0                   8510.36     2381741                16.85   \n",
              "1                   8840.67     2381741                17.04   \n",
              "2                   9354.22     2381741                19.36   \n",
              "3                  10088.09     2381741                21.76   \n",
              "4                  10653.34     2381741                22.03   \n",
              "\n",
              "   Total CO2 Emission including LUCF (Mt)  \\\n",
              "0                                   80.62   \n",
              "1                                   76.24   \n",
              "2                                   80.00   \n",
              "3                                   85.78   \n",
              "4                                   87.09   \n",
              "\n",
              "   Total CO2 Emission excluding LUCF (Mt)  Other Fuel Combustion (Mt)  \\\n",
              "0                                   80.05                         0.0   \n",
              "1                                   78.65                         0.0   \n",
              "2                                   82.40                         0.0   \n",
              "3                                   88.19                         0.0   \n",
              "4                                   89.49                         0.0   \n",
              "\n",
              "   Manufacturing/Construction (Mt)  Land-Use Change and Forestry (Mt)  \\\n",
              "0                             6.16                               0.57   \n",
              "1                             6.25                              -2.41   \n",
              "2                             6.62                              -2.41   \n",
              "3                             7.01                              -2.41   \n",
              "4                             8.09                              -2.41   \n",
              "\n",
              "   Industrial Processes (Mt)  Fugitive Emissions (Mt)  Energy (Mt)  \\\n",
              "0                       3.79                    14.75        76.26   \n",
              "1                       3.77                    11.86        74.88   \n",
              "2                       4.06                    10.20        78.35   \n",
              "3                       4.03                    12.17        84.16   \n",
              "4                       4.90                    11.22        84.60   \n",
              "\n",
              "   Electricity/Heat (Mt)  Bunker Fuels (Mt)  Building (Mt)  \n",
              "0                  29.17               1.96           9.33  \n",
              "1                  30.20               1.98           9.53  \n",
              "2                  32.28               2.17           9.89  \n",
              "3                  32.53               1.89          10.68  \n",
              "4                  31.75               2.19          11.52  "
            ],
            "text/html": [
              "\n",
              "  <div id=\"df-de7e6b2b-df16-44e8-a3b6-77e2ffa9c0f8\" class=\"colab-df-container\">\n",
              "    <div>\n",
              "<style scoped>\n",
              "    .dataframe tbody tr th:only-of-type {\n",
              "        vertical-align: middle;\n",
              "    }\n",
              "\n",
              "    .dataframe tbody tr th {\n",
              "        vertical-align: top;\n",
              "    }\n",
              "\n",
              "    .dataframe thead th {\n",
              "        text-align: right;\n",
              "    }\n",
              "</style>\n",
              "<table border=\"1\" class=\"dataframe\">\n",
              "  <thead>\n",
              "    <tr style=\"text-align: right;\">\n",
              "      <th></th>\n",
              "      <th>Country</th>\n",
              "      <th>Sub-Region</th>\n",
              "      <th>Code</th>\n",
              "      <th>Year</th>\n",
              "      <th>Population</th>\n",
              "      <th>GDP PER CAPITA (USD)</th>\n",
              "      <th>GDP PER CAPITA PPP (USD)</th>\n",
              "      <th>Area (Km2)</th>\n",
              "      <th>Transportation (Mt)</th>\n",
              "      <th>Total CO2 Emission including LUCF (Mt)</th>\n",
              "      <th>Total CO2 Emission excluding LUCF (Mt)</th>\n",
              "      <th>Other Fuel Combustion (Mt)</th>\n",
              "      <th>Manufacturing/Construction (Mt)</th>\n",
              "      <th>Land-Use Change and Forestry (Mt)</th>\n",
              "      <th>Industrial Processes (Mt)</th>\n",
              "      <th>Fugitive Emissions (Mt)</th>\n",
              "      <th>Energy (Mt)</th>\n",
              "      <th>Electricity/Heat (Mt)</th>\n",
              "      <th>Bunker Fuels (Mt)</th>\n",
              "      <th>Building (Mt)</th>\n",
              "    </tr>\n",
              "  </thead>\n",
              "  <tbody>\n",
              "    <tr>\n",
              "      <th>0</th>\n",
              "      <td>Algeria</td>\n",
              "      <td>Northern Africa</td>\n",
              "      <td>DZA</td>\n",
              "      <td>2000</td>\n",
              "      <td>30774621</td>\n",
              "      <td>1780.38</td>\n",
              "      <td>8510.36</td>\n",
              "      <td>2381741</td>\n",
              "      <td>16.85</td>\n",
              "      <td>80.62</td>\n",
              "      <td>80.05</td>\n",
              "      <td>0.0</td>\n",
              "      <td>6.16</td>\n",
              "      <td>0.57</td>\n",
              "      <td>3.79</td>\n",
              "      <td>14.75</td>\n",
              "      <td>76.26</td>\n",
              "      <td>29.17</td>\n",
              "      <td>1.96</td>\n",
              "      <td>9.33</td>\n",
              "    </tr>\n",
              "    <tr>\n",
              "      <th>1</th>\n",
              "      <td>Algeria</td>\n",
              "      <td>Northern Africa</td>\n",
              "      <td>DZA</td>\n",
              "      <td>2001</td>\n",
              "      <td>31200985</td>\n",
              "      <td>1754.58</td>\n",
              "      <td>8840.67</td>\n",
              "      <td>2381741</td>\n",
              "      <td>17.04</td>\n",
              "      <td>76.24</td>\n",
              "      <td>78.65</td>\n",
              "      <td>0.0</td>\n",
              "      <td>6.25</td>\n",
              "      <td>-2.41</td>\n",
              "      <td>3.77</td>\n",
              "      <td>11.86</td>\n",
              "      <td>74.88</td>\n",
              "      <td>30.20</td>\n",
              "      <td>1.98</td>\n",
              "      <td>9.53</td>\n",
              "    </tr>\n",
              "    <tr>\n",
              "      <th>2</th>\n",
              "      <td>Algeria</td>\n",
              "      <td>Northern Africa</td>\n",
              "      <td>DZA</td>\n",
              "      <td>2002</td>\n",
              "      <td>31624696</td>\n",
              "      <td>1794.81</td>\n",
              "      <td>9354.22</td>\n",
              "      <td>2381741</td>\n",
              "      <td>19.36</td>\n",
              "      <td>80.00</td>\n",
              "      <td>82.40</td>\n",
              "      <td>0.0</td>\n",
              "      <td>6.62</td>\n",
              "      <td>-2.41</td>\n",
              "      <td>4.06</td>\n",
              "      <td>10.20</td>\n",
              "      <td>78.35</td>\n",
              "      <td>32.28</td>\n",
              "      <td>2.17</td>\n",
              "      <td>9.89</td>\n",
              "    </tr>\n",
              "    <tr>\n",
              "      <th>3</th>\n",
              "      <td>Algeria</td>\n",
              "      <td>Northern Africa</td>\n",
              "      <td>DZA</td>\n",
              "      <td>2003</td>\n",
              "      <td>32055883</td>\n",
              "      <td>2117.05</td>\n",
              "      <td>10088.09</td>\n",
              "      <td>2381741</td>\n",
              "      <td>21.76</td>\n",
              "      <td>85.78</td>\n",
              "      <td>88.19</td>\n",
              "      <td>0.0</td>\n",
              "      <td>7.01</td>\n",
              "      <td>-2.41</td>\n",
              "      <td>4.03</td>\n",
              "      <td>12.17</td>\n",
              "      <td>84.16</td>\n",
              "      <td>32.53</td>\n",
              "      <td>1.89</td>\n",
              "      <td>10.68</td>\n",
              "    </tr>\n",
              "    <tr>\n",
              "      <th>4</th>\n",
              "      <td>Algeria</td>\n",
              "      <td>Northern Africa</td>\n",
              "      <td>DZA</td>\n",
              "      <td>2004</td>\n",
              "      <td>32510186</td>\n",
              "      <td>2624.80</td>\n",
              "      <td>10653.34</td>\n",
              "      <td>2381741</td>\n",
              "      <td>22.03</td>\n",
              "      <td>87.09</td>\n",
              "      <td>89.49</td>\n",
              "      <td>0.0</td>\n",
              "      <td>8.09</td>\n",
              "      <td>-2.41</td>\n",
              "      <td>4.90</td>\n",
              "      <td>11.22</td>\n",
              "      <td>84.60</td>\n",
              "      <td>31.75</td>\n",
              "      <td>2.19</td>\n",
              "      <td>11.52</td>\n",
              "    </tr>\n",
              "  </tbody>\n",
              "</table>\n",
              "</div>\n",
              "    <div class=\"colab-df-buttons\">\n",
              "\n",
              "  <div class=\"colab-df-container\">\n",
              "    <button class=\"colab-df-convert\" onclick=\"convertToInteractive('df-de7e6b2b-df16-44e8-a3b6-77e2ffa9c0f8')\"\n",
              "            title=\"Convert this dataframe to an interactive table.\"\n",
              "            style=\"display:none;\">\n",
              "\n",
              "  <svg xmlns=\"http://www.w3.org/2000/svg\" height=\"24px\" viewBox=\"0 -960 960 960\">\n",
              "    <path d=\"M120-120v-720h720v720H120Zm60-500h600v-160H180v160Zm220 220h160v-160H400v160Zm0 220h160v-160H400v160ZM180-400h160v-160H180v160Zm440 0h160v-160H620v160ZM180-180h160v-160H180v160Zm440 0h160v-160H620v160Z\"/>\n",
              "  </svg>\n",
              "    </button>\n",
              "\n",
              "  <style>\n",
              "    .colab-df-container {\n",
              "      display:flex;\n",
              "      gap: 12px;\n",
              "    }\n",
              "\n",
              "    .colab-df-convert {\n",
              "      background-color: #E8F0FE;\n",
              "      border: none;\n",
              "      border-radius: 50%;\n",
              "      cursor: pointer;\n",
              "      display: none;\n",
              "      fill: #1967D2;\n",
              "      height: 32px;\n",
              "      padding: 0 0 0 0;\n",
              "      width: 32px;\n",
              "    }\n",
              "\n",
              "    .colab-df-convert:hover {\n",
              "      background-color: #E2EBFA;\n",
              "      box-shadow: 0px 1px 2px rgba(60, 64, 67, 0.3), 0px 1px 3px 1px rgba(60, 64, 67, 0.15);\n",
              "      fill: #174EA6;\n",
              "    }\n",
              "\n",
              "    .colab-df-buttons div {\n",
              "      margin-bottom: 4px;\n",
              "    }\n",
              "\n",
              "    [theme=dark] .colab-df-convert {\n",
              "      background-color: #3B4455;\n",
              "      fill: #D2E3FC;\n",
              "    }\n",
              "\n",
              "    [theme=dark] .colab-df-convert:hover {\n",
              "      background-color: #434B5C;\n",
              "      box-shadow: 0px 1px 3px 1px rgba(0, 0, 0, 0.15);\n",
              "      filter: drop-shadow(0px 1px 2px rgba(0, 0, 0, 0.3));\n",
              "      fill: #FFFFFF;\n",
              "    }\n",
              "  </style>\n",
              "\n",
              "    <script>\n",
              "      const buttonEl =\n",
              "        document.querySelector('#df-de7e6b2b-df16-44e8-a3b6-77e2ffa9c0f8 button.colab-df-convert');\n",
              "      buttonEl.style.display =\n",
              "        google.colab.kernel.accessAllowed ? 'block' : 'none';\n",
              "\n",
              "      async function convertToInteractive(key) {\n",
              "        const element = document.querySelector('#df-de7e6b2b-df16-44e8-a3b6-77e2ffa9c0f8');\n",
              "        const dataTable =\n",
              "          await google.colab.kernel.invokeFunction('convertToInteractive',\n",
              "                                                    [key], {});\n",
              "        if (!dataTable) return;\n",
              "\n",
              "        const docLinkHtml = 'Like what you see? Visit the ' +\n",
              "          '<a target=\"_blank\" href=https://colab.research.google.com/notebooks/data_table.ipynb>data table notebook</a>'\n",
              "          + ' to learn more about interactive tables.';\n",
              "        element.innerHTML = '';\n",
              "        dataTable['output_type'] = 'display_data';\n",
              "        await google.colab.output.renderOutput(dataTable, element);\n",
              "        const docLink = document.createElement('div');\n",
              "        docLink.innerHTML = docLinkHtml;\n",
              "        element.appendChild(docLink);\n",
              "      }\n",
              "    </script>\n",
              "  </div>\n",
              "\n",
              "\n",
              "    <div id=\"df-b50a75cd-0ba8-47f8-8d84-2bf6cad5ab7e\">\n",
              "      <button class=\"colab-df-quickchart\" onclick=\"quickchart('df-b50a75cd-0ba8-47f8-8d84-2bf6cad5ab7e')\"\n",
              "                title=\"Suggest charts\"\n",
              "                style=\"display:none;\">\n",
              "\n",
              "<svg xmlns=\"http://www.w3.org/2000/svg\" height=\"24px\"viewBox=\"0 0 24 24\"\n",
              "     width=\"24px\">\n",
              "    <g>\n",
              "        <path d=\"M19 3H5c-1.1 0-2 .9-2 2v14c0 1.1.9 2 2 2h14c1.1 0 2-.9 2-2V5c0-1.1-.9-2-2-2zM9 17H7v-7h2v7zm4 0h-2V7h2v10zm4 0h-2v-4h2v4z\"/>\n",
              "    </g>\n",
              "</svg>\n",
              "      </button>\n",
              "\n",
              "<style>\n",
              "  .colab-df-quickchart {\n",
              "      --bg-color: #E8F0FE;\n",
              "      --fill-color: #1967D2;\n",
              "      --hover-bg-color: #E2EBFA;\n",
              "      --hover-fill-color: #174EA6;\n",
              "      --disabled-fill-color: #AAA;\n",
              "      --disabled-bg-color: #DDD;\n",
              "  }\n",
              "\n",
              "  [theme=dark] .colab-df-quickchart {\n",
              "      --bg-color: #3B4455;\n",
              "      --fill-color: #D2E3FC;\n",
              "      --hover-bg-color: #434B5C;\n",
              "      --hover-fill-color: #FFFFFF;\n",
              "      --disabled-bg-color: #3B4455;\n",
              "      --disabled-fill-color: #666;\n",
              "  }\n",
              "\n",
              "  .colab-df-quickchart {\n",
              "    background-color: var(--bg-color);\n",
              "    border: none;\n",
              "    border-radius: 50%;\n",
              "    cursor: pointer;\n",
              "    display: none;\n",
              "    fill: var(--fill-color);\n",
              "    height: 32px;\n",
              "    padding: 0;\n",
              "    width: 32px;\n",
              "  }\n",
              "\n",
              "  .colab-df-quickchart:hover {\n",
              "    background-color: var(--hover-bg-color);\n",
              "    box-shadow: 0 1px 2px rgba(60, 64, 67, 0.3), 0 1px 3px 1px rgba(60, 64, 67, 0.15);\n",
              "    fill: var(--button-hover-fill-color);\n",
              "  }\n",
              "\n",
              "  .colab-df-quickchart-complete:disabled,\n",
              "  .colab-df-quickchart-complete:disabled:hover {\n",
              "    background-color: var(--disabled-bg-color);\n",
              "    fill: var(--disabled-fill-color);\n",
              "    box-shadow: none;\n",
              "  }\n",
              "\n",
              "  .colab-df-spinner {\n",
              "    border: 2px solid var(--fill-color);\n",
              "    border-color: transparent;\n",
              "    border-bottom-color: var(--fill-color);\n",
              "    animation:\n",
              "      spin 1s steps(1) infinite;\n",
              "  }\n",
              "\n",
              "  @keyframes spin {\n",
              "    0% {\n",
              "      border-color: transparent;\n",
              "      border-bottom-color: var(--fill-color);\n",
              "      border-left-color: var(--fill-color);\n",
              "    }\n",
              "    20% {\n",
              "      border-color: transparent;\n",
              "      border-left-color: var(--fill-color);\n",
              "      border-top-color: var(--fill-color);\n",
              "    }\n",
              "    30% {\n",
              "      border-color: transparent;\n",
              "      border-left-color: var(--fill-color);\n",
              "      border-top-color: var(--fill-color);\n",
              "      border-right-color: var(--fill-color);\n",
              "    }\n",
              "    40% {\n",
              "      border-color: transparent;\n",
              "      border-right-color: var(--fill-color);\n",
              "      border-top-color: var(--fill-color);\n",
              "    }\n",
              "    60% {\n",
              "      border-color: transparent;\n",
              "      border-right-color: var(--fill-color);\n",
              "    }\n",
              "    80% {\n",
              "      border-color: transparent;\n",
              "      border-right-color: var(--fill-color);\n",
              "      border-bottom-color: var(--fill-color);\n",
              "    }\n",
              "    90% {\n",
              "      border-color: transparent;\n",
              "      border-bottom-color: var(--fill-color);\n",
              "    }\n",
              "  }\n",
              "</style>\n",
              "\n",
              "      <script>\n",
              "        async function quickchart(key) {\n",
              "          const quickchartButtonEl =\n",
              "            document.querySelector('#' + key + ' button');\n",
              "          quickchartButtonEl.disabled = true;  // To prevent multiple clicks.\n",
              "          quickchartButtonEl.classList.add('colab-df-spinner');\n",
              "          try {\n",
              "            const charts = await google.colab.kernel.invokeFunction(\n",
              "                'suggestCharts', [key], {});\n",
              "          } catch (error) {\n",
              "            console.error('Error during call to suggestCharts:', error);\n",
              "          }\n",
              "          quickchartButtonEl.classList.remove('colab-df-spinner');\n",
              "          quickchartButtonEl.classList.add('colab-df-quickchart-complete');\n",
              "        }\n",
              "        (() => {\n",
              "          let quickchartButtonEl =\n",
              "            document.querySelector('#df-b50a75cd-0ba8-47f8-8d84-2bf6cad5ab7e button');\n",
              "          quickchartButtonEl.style.display =\n",
              "            google.colab.kernel.accessAllowed ? 'block' : 'none';\n",
              "        })();\n",
              "      </script>\n",
              "    </div>\n",
              "\n",
              "    </div>\n",
              "  </div>\n"
            ],
            "application/vnd.google.colaboratory.intrinsic+json": {
              "type": "dataframe",
              "variable_name": "df",
              "summary": "{\n  \"name\": \"df\",\n  \"rows\": 1134,\n  \"fields\": [\n    {\n      \"column\": \"Country\",\n      \"properties\": {\n        \"dtype\": \"category\",\n        \"num_unique_values\": 54,\n        \"samples\": [\n          \"Gabon\",\n          \"Togo\",\n          \"Tanzania\"\n        ],\n        \"semantic_type\": \"\",\n        \"description\": \"\"\n      }\n    },\n    {\n      \"column\": \"Sub-Region\",\n      \"properties\": {\n        \"dtype\": \"category\",\n        \"num_unique_values\": 5,\n        \"samples\": [\n          \"Middle Africa\",\n          \"Eastern Africa\",\n          \"Western Africa\"\n        ],\n        \"semantic_type\": \"\",\n        \"description\": \"\"\n      }\n    },\n    {\n      \"column\": \"Code\",\n      \"properties\": {\n        \"dtype\": \"category\",\n        \"num_unique_values\": 54,\n        \"samples\": [\n          \"GAB\",\n          \"TGO\",\n          \"TZA\"\n        ],\n        \"semantic_type\": \"\",\n        \"description\": \"\"\n      }\n    },\n    {\n      \"column\": \"Year\",\n      \"properties\": {\n        \"dtype\": \"number\",\n        \"std\": 6,\n        \"min\": 2000,\n        \"max\": 2020,\n        \"num_unique_values\": 21,\n        \"samples\": [\n          2000,\n          2017,\n          2015\n        ],\n        \"semantic_type\": \"\",\n        \"description\": \"\"\n      }\n    },\n    {\n      \"column\": \"Population\",\n      \"properties\": {\n        \"dtype\": \"number\",\n        \"std\": 28778021,\n        \"min\": 81131,\n        \"max\": 208327405,\n        \"num_unique_values\": 1134,\n        \"samples\": [\n          148294028,\n          96762,\n          1966855\n        ],\n        \"semantic_type\": \"\",\n        \"description\": \"\"\n      }\n    },\n    {\n      \"column\": \"GDP PER CAPITA (USD)\",\n      \"properties\": {\n        \"dtype\": \"number\",\n        \"std\": 2971.7602981366867,\n        \"min\": 110.46,\n        \"max\": 19849.72,\n        \"num_unique_values\": 1105,\n        \"samples\": [\n          3370.38,\n          3497.73,\n          117.86\n        ],\n        \"semantic_type\": \"\",\n        \"description\": \"\"\n      }\n    },\n    {\n      \"column\": \"GDP PER CAPITA PPP (USD)\",\n      \"properties\": {\n        \"dtype\": \"number\",\n        \"std\": 5989.405810801769,\n        \"min\": 420.27,\n        \"max\": 33261.87,\n        \"num_unique_values\": 1085,\n        \"samples\": [\n          1138.11,\n          2745.86,\n          1181.93\n        ],\n        \"semantic_type\": \"\",\n        \"description\": \"\"\n      }\n    },\n    {\n      \"column\": \"Area (Km2)\",\n      \"properties\": {\n        \"dtype\": \"number\",\n        \"std\": 598382,\n        \"min\": 452,\n        \"max\": 2381741,\n        \"num_unique_values\": 54,\n        \"samples\": [\n          267668,\n          56785,\n          945087\n        ],\n        \"semantic_type\": \"\",\n        \"description\": \"\"\n      }\n    },\n    {\n      \"column\": \"Transportation (Mt)\",\n      \"properties\": {\n        \"dtype\": \"number\",\n        \"std\": 10.844024802771656,\n        \"min\": 0.01,\n        \"max\": 59.45,\n        \"num_unique_values\": 499,\n        \"samples\": [\n          6.61,\n          1.94,\n          1.59\n        ],\n        \"semantic_type\": \"\",\n        \"description\": \"\"\n      }\n    },\n    {\n      \"column\": \"Total CO2 Emission including LUCF (Mt)\",\n      \"properties\": {\n        \"dtype\": \"number\",\n        \"std\": 89.05776197446447,\n        \"min\": -10.41,\n        \"max\": 606.39,\n        \"num_unique_values\": 895,\n        \"samples\": [\n          3.84,\n          13.97,\n          1.52\n        ],\n        \"semantic_type\": \"\",\n        \"description\": \"\"\n      }\n    },\n    {\n      \"column\": \"Total CO2 Emission excluding LUCF (Mt)\",\n      \"properties\": {\n        \"dtype\": \"number\",\n        \"std\": 62.186060167565245,\n        \"min\": 0.05,\n        \"max\": 448.3,\n        \"num_unique_values\": 708,\n        \"samples\": [\n          5.02,\n          2.8,\n          14.32\n        ],\n        \"semantic_type\": \"\",\n        \"description\": \"\"\n      }\n    },\n    {\n      \"column\": \"Other Fuel Combustion (Mt)\",\n      \"properties\": {\n        \"dtype\": \"number\",\n        \"std\": 1.1903624429788502,\n        \"min\": 0.0,\n        \"max\": 8.68,\n        \"num_unique_values\": 192,\n        \"samples\": [\n          2.29,\n          3.29,\n          1.09\n        ],\n        \"semantic_type\": \"\",\n        \"description\": \"\"\n      }\n    },\n    {\n      \"column\": \"Manufacturing/Construction (Mt)\",\n      \"properties\": {\n        \"dtype\": \"number\",\n        \"std\": 7.805355247794185,\n        \"min\": 0.0,\n        \"max\": 61.1,\n        \"num_unique_values\": 354,\n        \"samples\": [\n          1.48,\n          0.15,\n          6.83\n        ],\n        \"semantic_type\": \"\",\n        \"description\": \"\"\n      }\n    },\n    {\n      \"column\": \"Land-Use Change and Forestry (Mt)\",\n      \"properties\": {\n        \"dtype\": \"number\",\n        \"std\": 66.85978117976364,\n        \"min\": -24.95,\n        \"max\": 601.26,\n        \"num_unique_values\": 257,\n        \"samples\": [\n          8.63,\n          17.35,\n          29.87\n        ],\n        \"semantic_type\": \"\",\n        \"description\": \"\"\n      }\n    },\n    {\n      \"column\": \"Industrial Processes (Mt)\",\n      \"properties\": {\n        \"dtype\": \"number\",\n        \"std\": 2.9198948281244794,\n        \"min\": 0.0,\n        \"max\": 22.82,\n        \"num_unique_values\": 271,\n        \"samples\": [\n          0.58,\n          3.53,\n          0.13\n        ],\n        \"semantic_type\": \"\",\n        \"description\": \"\"\n      }\n    },\n    {\n      \"column\": \"Fugitive Emissions (Mt)\",\n      \"properties\": {\n        \"dtype\": \"number\",\n        \"std\": 7.963443513390117,\n        \"min\": 0.0,\n        \"max\": 52.49,\n        \"num_unique_values\": 232,\n        \"samples\": [\n          0.58,\n          0.17,\n          9.51\n        ],\n        \"semantic_type\": \"\",\n        \"description\": \"\"\n      }\n    },\n    {\n      \"column\": \"Energy (Mt)\",\n      \"properties\": {\n        \"dtype\": \"number\",\n        \"std\": 60.34881274665353,\n        \"min\": 0.05,\n        \"max\": 443.39,\n        \"num_unique_values\": 708,\n        \"samples\": [\n          4.62,\n          6.33,\n          18.01\n        ],\n        \"semantic_type\": \"\",\n        \"description\": \"\"\n      }\n    },\n    {\n      \"column\": \"Electricity/Heat (Mt)\",\n      \"properties\": {\n        \"dtype\": \"number\",\n        \"std\": 38.468533730649106,\n        \"min\": 0.0,\n        \"max\": 311.55,\n        \"num_unique_values\": 412,\n        \"samples\": [\n          16.89,\n          0.27,\n          1.09\n        ],\n        \"semantic_type\": \"\",\n        \"description\": \"\"\n      }\n    },\n    {\n      \"column\": \"Bunker Fuels (Mt)\",\n      \"properties\": {\n        \"dtype\": \"number\",\n        \"std\": 1.8957873862906849,\n        \"min\": 0.0,\n        \"max\": 14.79,\n        \"num_unique_values\": 232,\n        \"samples\": [\n          14.08,\n          0.18,\n          2.45\n        ],\n        \"semantic_type\": \"\",\n        \"description\": \"\"\n      }\n    },\n    {\n      \"column\": \"Building (Mt)\",\n      \"properties\": {\n        \"dtype\": \"number\",\n        \"std\": 4.303602944655062,\n        \"min\": 0.0,\n        \"max\": 33.97,\n        \"num_unique_values\": 266,\n        \"samples\": [\n          1.24,\n          13.55,\n          0.98\n        ],\n        \"semantic_type\": \"\",\n        \"description\": \"\"\n      }\n    }\n  ]\n}"
            }
          },
          "metadata": {},
          "execution_count": 51
        }
      ],
      "execution_count": null
    },
    {
      "cell_type": "markdown",
      "source": [
        "Data preparation\n",
        "* Remove undefined value (mark NaN or NA)\n",
        "* Standardize data\n",
        "* Convert to Tensor format (because it's acutally a numpy array)\n",
        "* Split in train/test dataset\n",
        "* Use of `DataLoader`"
      ],
      "metadata": {
        "id": "MbU5v3qQtXJQ"
      }
    },
    {
      "cell_type": "code",
      "source": [
        "#check shape\n",
        "df.shape"
      ],
      "metadata": {
        "trusted": true,
        "execution": {
          "iopub.status.busy": "2025-07-15T06:22:05.134144Z",
          "iopub.execute_input": "2025-07-15T06:22:05.134397Z",
          "iopub.status.idle": "2025-07-15T06:22:05.139155Z",
          "shell.execute_reply.started": "2025-07-15T06:22:05.134376Z",
          "shell.execute_reply": "2025-07-15T06:22:05.138368Z"
        },
        "colab": {
          "base_uri": "https://localhost:8080/"
        },
        "id": "TWhWSOi9tXJQ",
        "outputId": "48a72e5b-1c97-4043-9923-fffce2d4f377"
      },
      "outputs": [
        {
          "output_type": "execute_result",
          "data": {
            "text/plain": [
              "(1134, 20)"
            ]
          },
          "metadata": {},
          "execution_count": 52
        }
      ],
      "execution_count": null
    },
    {
      "cell_type": "code",
      "source": [
        "#checking for missing values\n",
        "missing_values = df.isnull().sum().reset_index()\n",
        "missing_values.columns = ['Column', 'MissingValues']\n",
        "missing_values\n"
      ],
      "metadata": {
        "trusted": true,
        "execution": {
          "iopub.status.busy": "2025-07-15T06:22:05.140009Z",
          "iopub.execute_input": "2025-07-15T06:22:05.140225Z",
          "iopub.status.idle": "2025-07-15T06:22:05.155659Z",
          "shell.execute_reply.started": "2025-07-15T06:22:05.140207Z",
          "shell.execute_reply": "2025-07-15T06:22:05.154982Z"
        },
        "colab": {
          "base_uri": "https://localhost:8080/",
          "height": 677
        },
        "id": "qSyCrD8mtXJQ",
        "outputId": "0d556aae-ba7a-4814-cae4-668aa2ef1ae1"
      },
      "outputs": [
        {
          "output_type": "execute_result",
          "data": {
            "text/plain": [
              "                                    Column  MissingValues\n",
              "0                                  Country              0\n",
              "1                               Sub-Region              0\n",
              "2                                     Code              0\n",
              "3                                     Year              0\n",
              "4                               Population              0\n",
              "5                     GDP PER CAPITA (USD)             27\n",
              "6                 GDP PER CAPITA PPP (USD)             48\n",
              "7                               Area (Km2)              0\n",
              "8                      Transportation (Mt)             12\n",
              "9   Total CO2 Emission including LUCF (Mt)              0\n",
              "10  Total CO2 Emission excluding LUCF (Mt)              0\n",
              "11              Other Fuel Combustion (Mt)             12\n",
              "12         Manufacturing/Construction (Mt)             12\n",
              "13       Land-Use Change and Forestry (Mt)              0\n",
              "14               Industrial Processes (Mt)             62\n",
              "15                 Fugitive Emissions (Mt)            804\n",
              "16                             Energy (Mt)              0\n",
              "17                   Electricity/Heat (Mt)             12\n",
              "18                       Bunker Fuels (Mt)             12\n",
              "19                           Building (Mt)             12"
            ],
            "text/html": [
              "\n",
              "  <div id=\"df-52169477-d7f1-4914-ab6f-6c5fc18f927c\" class=\"colab-df-container\">\n",
              "    <div>\n",
              "<style scoped>\n",
              "    .dataframe tbody tr th:only-of-type {\n",
              "        vertical-align: middle;\n",
              "    }\n",
              "\n",
              "    .dataframe tbody tr th {\n",
              "        vertical-align: top;\n",
              "    }\n",
              "\n",
              "    .dataframe thead th {\n",
              "        text-align: right;\n",
              "    }\n",
              "</style>\n",
              "<table border=\"1\" class=\"dataframe\">\n",
              "  <thead>\n",
              "    <tr style=\"text-align: right;\">\n",
              "      <th></th>\n",
              "      <th>Column</th>\n",
              "      <th>MissingValues</th>\n",
              "    </tr>\n",
              "  </thead>\n",
              "  <tbody>\n",
              "    <tr>\n",
              "      <th>0</th>\n",
              "      <td>Country</td>\n",
              "      <td>0</td>\n",
              "    </tr>\n",
              "    <tr>\n",
              "      <th>1</th>\n",
              "      <td>Sub-Region</td>\n",
              "      <td>0</td>\n",
              "    </tr>\n",
              "    <tr>\n",
              "      <th>2</th>\n",
              "      <td>Code</td>\n",
              "      <td>0</td>\n",
              "    </tr>\n",
              "    <tr>\n",
              "      <th>3</th>\n",
              "      <td>Year</td>\n",
              "      <td>0</td>\n",
              "    </tr>\n",
              "    <tr>\n",
              "      <th>4</th>\n",
              "      <td>Population</td>\n",
              "      <td>0</td>\n",
              "    </tr>\n",
              "    <tr>\n",
              "      <th>5</th>\n",
              "      <td>GDP PER CAPITA (USD)</td>\n",
              "      <td>27</td>\n",
              "    </tr>\n",
              "    <tr>\n",
              "      <th>6</th>\n",
              "      <td>GDP PER CAPITA PPP (USD)</td>\n",
              "      <td>48</td>\n",
              "    </tr>\n",
              "    <tr>\n",
              "      <th>7</th>\n",
              "      <td>Area (Km2)</td>\n",
              "      <td>0</td>\n",
              "    </tr>\n",
              "    <tr>\n",
              "      <th>8</th>\n",
              "      <td>Transportation (Mt)</td>\n",
              "      <td>12</td>\n",
              "    </tr>\n",
              "    <tr>\n",
              "      <th>9</th>\n",
              "      <td>Total CO2 Emission including LUCF (Mt)</td>\n",
              "      <td>0</td>\n",
              "    </tr>\n",
              "    <tr>\n",
              "      <th>10</th>\n",
              "      <td>Total CO2 Emission excluding LUCF (Mt)</td>\n",
              "      <td>0</td>\n",
              "    </tr>\n",
              "    <tr>\n",
              "      <th>11</th>\n",
              "      <td>Other Fuel Combustion (Mt)</td>\n",
              "      <td>12</td>\n",
              "    </tr>\n",
              "    <tr>\n",
              "      <th>12</th>\n",
              "      <td>Manufacturing/Construction (Mt)</td>\n",
              "      <td>12</td>\n",
              "    </tr>\n",
              "    <tr>\n",
              "      <th>13</th>\n",
              "      <td>Land-Use Change and Forestry (Mt)</td>\n",
              "      <td>0</td>\n",
              "    </tr>\n",
              "    <tr>\n",
              "      <th>14</th>\n",
              "      <td>Industrial Processes (Mt)</td>\n",
              "      <td>62</td>\n",
              "    </tr>\n",
              "    <tr>\n",
              "      <th>15</th>\n",
              "      <td>Fugitive Emissions (Mt)</td>\n",
              "      <td>804</td>\n",
              "    </tr>\n",
              "    <tr>\n",
              "      <th>16</th>\n",
              "      <td>Energy (Mt)</td>\n",
              "      <td>0</td>\n",
              "    </tr>\n",
              "    <tr>\n",
              "      <th>17</th>\n",
              "      <td>Electricity/Heat (Mt)</td>\n",
              "      <td>12</td>\n",
              "    </tr>\n",
              "    <tr>\n",
              "      <th>18</th>\n",
              "      <td>Bunker Fuels (Mt)</td>\n",
              "      <td>12</td>\n",
              "    </tr>\n",
              "    <tr>\n",
              "      <th>19</th>\n",
              "      <td>Building (Mt)</td>\n",
              "      <td>12</td>\n",
              "    </tr>\n",
              "  </tbody>\n",
              "</table>\n",
              "</div>\n",
              "    <div class=\"colab-df-buttons\">\n",
              "\n",
              "  <div class=\"colab-df-container\">\n",
              "    <button class=\"colab-df-convert\" onclick=\"convertToInteractive('df-52169477-d7f1-4914-ab6f-6c5fc18f927c')\"\n",
              "            title=\"Convert this dataframe to an interactive table.\"\n",
              "            style=\"display:none;\">\n",
              "\n",
              "  <svg xmlns=\"http://www.w3.org/2000/svg\" height=\"24px\" viewBox=\"0 -960 960 960\">\n",
              "    <path d=\"M120-120v-720h720v720H120Zm60-500h600v-160H180v160Zm220 220h160v-160H400v160Zm0 220h160v-160H400v160ZM180-400h160v-160H180v160Zm440 0h160v-160H620v160ZM180-180h160v-160H180v160Zm440 0h160v-160H620v160Z\"/>\n",
              "  </svg>\n",
              "    </button>\n",
              "\n",
              "  <style>\n",
              "    .colab-df-container {\n",
              "      display:flex;\n",
              "      gap: 12px;\n",
              "    }\n",
              "\n",
              "    .colab-df-convert {\n",
              "      background-color: #E8F0FE;\n",
              "      border: none;\n",
              "      border-radius: 50%;\n",
              "      cursor: pointer;\n",
              "      display: none;\n",
              "      fill: #1967D2;\n",
              "      height: 32px;\n",
              "      padding: 0 0 0 0;\n",
              "      width: 32px;\n",
              "    }\n",
              "\n",
              "    .colab-df-convert:hover {\n",
              "      background-color: #E2EBFA;\n",
              "      box-shadow: 0px 1px 2px rgba(60, 64, 67, 0.3), 0px 1px 3px 1px rgba(60, 64, 67, 0.15);\n",
              "      fill: #174EA6;\n",
              "    }\n",
              "\n",
              "    .colab-df-buttons div {\n",
              "      margin-bottom: 4px;\n",
              "    }\n",
              "\n",
              "    [theme=dark] .colab-df-convert {\n",
              "      background-color: #3B4455;\n",
              "      fill: #D2E3FC;\n",
              "    }\n",
              "\n",
              "    [theme=dark] .colab-df-convert:hover {\n",
              "      background-color: #434B5C;\n",
              "      box-shadow: 0px 1px 3px 1px rgba(0, 0, 0, 0.15);\n",
              "      filter: drop-shadow(0px 1px 2px rgba(0, 0, 0, 0.3));\n",
              "      fill: #FFFFFF;\n",
              "    }\n",
              "  </style>\n",
              "\n",
              "    <script>\n",
              "      const buttonEl =\n",
              "        document.querySelector('#df-52169477-d7f1-4914-ab6f-6c5fc18f927c button.colab-df-convert');\n",
              "      buttonEl.style.display =\n",
              "        google.colab.kernel.accessAllowed ? 'block' : 'none';\n",
              "\n",
              "      async function convertToInteractive(key) {\n",
              "        const element = document.querySelector('#df-52169477-d7f1-4914-ab6f-6c5fc18f927c');\n",
              "        const dataTable =\n",
              "          await google.colab.kernel.invokeFunction('convertToInteractive',\n",
              "                                                    [key], {});\n",
              "        if (!dataTable) return;\n",
              "\n",
              "        const docLinkHtml = 'Like what you see? Visit the ' +\n",
              "          '<a target=\"_blank\" href=https://colab.research.google.com/notebooks/data_table.ipynb>data table notebook</a>'\n",
              "          + ' to learn more about interactive tables.';\n",
              "        element.innerHTML = '';\n",
              "        dataTable['output_type'] = 'display_data';\n",
              "        await google.colab.output.renderOutput(dataTable, element);\n",
              "        const docLink = document.createElement('div');\n",
              "        docLink.innerHTML = docLinkHtml;\n",
              "        element.appendChild(docLink);\n",
              "      }\n",
              "    </script>\n",
              "  </div>\n",
              "\n",
              "\n",
              "    <div id=\"df-7f5de7a2-d2a8-43cb-bdbe-28b49d79d2ed\">\n",
              "      <button class=\"colab-df-quickchart\" onclick=\"quickchart('df-7f5de7a2-d2a8-43cb-bdbe-28b49d79d2ed')\"\n",
              "                title=\"Suggest charts\"\n",
              "                style=\"display:none;\">\n",
              "\n",
              "<svg xmlns=\"http://www.w3.org/2000/svg\" height=\"24px\"viewBox=\"0 0 24 24\"\n",
              "     width=\"24px\">\n",
              "    <g>\n",
              "        <path d=\"M19 3H5c-1.1 0-2 .9-2 2v14c0 1.1.9 2 2 2h14c1.1 0 2-.9 2-2V5c0-1.1-.9-2-2-2zM9 17H7v-7h2v7zm4 0h-2V7h2v10zm4 0h-2v-4h2v4z\"/>\n",
              "    </g>\n",
              "</svg>\n",
              "      </button>\n",
              "\n",
              "<style>\n",
              "  .colab-df-quickchart {\n",
              "      --bg-color: #E8F0FE;\n",
              "      --fill-color: #1967D2;\n",
              "      --hover-bg-color: #E2EBFA;\n",
              "      --hover-fill-color: #174EA6;\n",
              "      --disabled-fill-color: #AAA;\n",
              "      --disabled-bg-color: #DDD;\n",
              "  }\n",
              "\n",
              "  [theme=dark] .colab-df-quickchart {\n",
              "      --bg-color: #3B4455;\n",
              "      --fill-color: #D2E3FC;\n",
              "      --hover-bg-color: #434B5C;\n",
              "      --hover-fill-color: #FFFFFF;\n",
              "      --disabled-bg-color: #3B4455;\n",
              "      --disabled-fill-color: #666;\n",
              "  }\n",
              "\n",
              "  .colab-df-quickchart {\n",
              "    background-color: var(--bg-color);\n",
              "    border: none;\n",
              "    border-radius: 50%;\n",
              "    cursor: pointer;\n",
              "    display: none;\n",
              "    fill: var(--fill-color);\n",
              "    height: 32px;\n",
              "    padding: 0;\n",
              "    width: 32px;\n",
              "  }\n",
              "\n",
              "  .colab-df-quickchart:hover {\n",
              "    background-color: var(--hover-bg-color);\n",
              "    box-shadow: 0 1px 2px rgba(60, 64, 67, 0.3), 0 1px 3px 1px rgba(60, 64, 67, 0.15);\n",
              "    fill: var(--button-hover-fill-color);\n",
              "  }\n",
              "\n",
              "  .colab-df-quickchart-complete:disabled,\n",
              "  .colab-df-quickchart-complete:disabled:hover {\n",
              "    background-color: var(--disabled-bg-color);\n",
              "    fill: var(--disabled-fill-color);\n",
              "    box-shadow: none;\n",
              "  }\n",
              "\n",
              "  .colab-df-spinner {\n",
              "    border: 2px solid var(--fill-color);\n",
              "    border-color: transparent;\n",
              "    border-bottom-color: var(--fill-color);\n",
              "    animation:\n",
              "      spin 1s steps(1) infinite;\n",
              "  }\n",
              "\n",
              "  @keyframes spin {\n",
              "    0% {\n",
              "      border-color: transparent;\n",
              "      border-bottom-color: var(--fill-color);\n",
              "      border-left-color: var(--fill-color);\n",
              "    }\n",
              "    20% {\n",
              "      border-color: transparent;\n",
              "      border-left-color: var(--fill-color);\n",
              "      border-top-color: var(--fill-color);\n",
              "    }\n",
              "    30% {\n",
              "      border-color: transparent;\n",
              "      border-left-color: var(--fill-color);\n",
              "      border-top-color: var(--fill-color);\n",
              "      border-right-color: var(--fill-color);\n",
              "    }\n",
              "    40% {\n",
              "      border-color: transparent;\n",
              "      border-right-color: var(--fill-color);\n",
              "      border-top-color: var(--fill-color);\n",
              "    }\n",
              "    60% {\n",
              "      border-color: transparent;\n",
              "      border-right-color: var(--fill-color);\n",
              "    }\n",
              "    80% {\n",
              "      border-color: transparent;\n",
              "      border-right-color: var(--fill-color);\n",
              "      border-bottom-color: var(--fill-color);\n",
              "    }\n",
              "    90% {\n",
              "      border-color: transparent;\n",
              "      border-bottom-color: var(--fill-color);\n",
              "    }\n",
              "  }\n",
              "</style>\n",
              "\n",
              "      <script>\n",
              "        async function quickchart(key) {\n",
              "          const quickchartButtonEl =\n",
              "            document.querySelector('#' + key + ' button');\n",
              "          quickchartButtonEl.disabled = true;  // To prevent multiple clicks.\n",
              "          quickchartButtonEl.classList.add('colab-df-spinner');\n",
              "          try {\n",
              "            const charts = await google.colab.kernel.invokeFunction(\n",
              "                'suggestCharts', [key], {});\n",
              "          } catch (error) {\n",
              "            console.error('Error during call to suggestCharts:', error);\n",
              "          }\n",
              "          quickchartButtonEl.classList.remove('colab-df-spinner');\n",
              "          quickchartButtonEl.classList.add('colab-df-quickchart-complete');\n",
              "        }\n",
              "        (() => {\n",
              "          let quickchartButtonEl =\n",
              "            document.querySelector('#df-7f5de7a2-d2a8-43cb-bdbe-28b49d79d2ed button');\n",
              "          quickchartButtonEl.style.display =\n",
              "            google.colab.kernel.accessAllowed ? 'block' : 'none';\n",
              "        })();\n",
              "      </script>\n",
              "    </div>\n",
              "\n",
              "  <div id=\"id_6484a43e-5725-4d4f-bb11-8bfc3fa4a12a\">\n",
              "    <style>\n",
              "      .colab-df-generate {\n",
              "        background-color: #E8F0FE;\n",
              "        border: none;\n",
              "        border-radius: 50%;\n",
              "        cursor: pointer;\n",
              "        display: none;\n",
              "        fill: #1967D2;\n",
              "        height: 32px;\n",
              "        padding: 0 0 0 0;\n",
              "        width: 32px;\n",
              "      }\n",
              "\n",
              "      .colab-df-generate:hover {\n",
              "        background-color: #E2EBFA;\n",
              "        box-shadow: 0px 1px 2px rgba(60, 64, 67, 0.3), 0px 1px 3px 1px rgba(60, 64, 67, 0.15);\n",
              "        fill: #174EA6;\n",
              "      }\n",
              "\n",
              "      [theme=dark] .colab-df-generate {\n",
              "        background-color: #3B4455;\n",
              "        fill: #D2E3FC;\n",
              "      }\n",
              "\n",
              "      [theme=dark] .colab-df-generate:hover {\n",
              "        background-color: #434B5C;\n",
              "        box-shadow: 0px 1px 3px 1px rgba(0, 0, 0, 0.15);\n",
              "        filter: drop-shadow(0px 1px 2px rgba(0, 0, 0, 0.3));\n",
              "        fill: #FFFFFF;\n",
              "      }\n",
              "    </style>\n",
              "    <button class=\"colab-df-generate\" onclick=\"generateWithVariable('missing_values')\"\n",
              "            title=\"Generate code using this dataframe.\"\n",
              "            style=\"display:none;\">\n",
              "\n",
              "  <svg xmlns=\"http://www.w3.org/2000/svg\" height=\"24px\"viewBox=\"0 0 24 24\"\n",
              "       width=\"24px\">\n",
              "    <path d=\"M7,19H8.4L18.45,9,17,7.55,7,17.6ZM5,21V16.75L18.45,3.32a2,2,0,0,1,2.83,0l1.4,1.43a1.91,1.91,0,0,1,.58,1.4,1.91,1.91,0,0,1-.58,1.4L9.25,21ZM18.45,9,17,7.55Zm-12,3A5.31,5.31,0,0,0,4.9,8.1,5.31,5.31,0,0,0,1,6.5,5.31,5.31,0,0,0,4.9,4.9,5.31,5.31,0,0,0,6.5,1,5.31,5.31,0,0,0,8.1,4.9,5.31,5.31,0,0,0,12,6.5,5.46,5.46,0,0,0,6.5,12Z\"/>\n",
              "  </svg>\n",
              "    </button>\n",
              "    <script>\n",
              "      (() => {\n",
              "      const buttonEl =\n",
              "        document.querySelector('#id_6484a43e-5725-4d4f-bb11-8bfc3fa4a12a button.colab-df-generate');\n",
              "      buttonEl.style.display =\n",
              "        google.colab.kernel.accessAllowed ? 'block' : 'none';\n",
              "\n",
              "      buttonEl.onclick = () => {\n",
              "        google.colab.notebook.generateWithVariable('missing_values');\n",
              "      }\n",
              "      })();\n",
              "    </script>\n",
              "  </div>\n",
              "\n",
              "    </div>\n",
              "  </div>\n"
            ],
            "application/vnd.google.colaboratory.intrinsic+json": {
              "type": "dataframe",
              "variable_name": "missing_values",
              "summary": "{\n  \"name\": \"missing_values\",\n  \"rows\": 20,\n  \"fields\": [\n    {\n      \"column\": \"Column\",\n      \"properties\": {\n        \"dtype\": \"string\",\n        \"num_unique_values\": 20,\n        \"samples\": [\n          \"Country\",\n          \"Electricity/Heat (Mt)\",\n          \"Fugitive Emissions (Mt)\"\n        ],\n        \"semantic_type\": \"\",\n        \"description\": \"\"\n      }\n    },\n    {\n      \"column\": \"MissingValues\",\n      \"properties\": {\n        \"dtype\": \"number\",\n        \"std\": 178,\n        \"min\": 0,\n        \"max\": 804,\n        \"num_unique_values\": 6,\n        \"samples\": [\n          0,\n          27,\n          804\n        ],\n        \"semantic_type\": \"\",\n        \"description\": \"\"\n      }\n    }\n  ]\n}"
            }
          },
          "metadata": {},
          "execution_count": 53
        }
      ],
      "execution_count": null
    },
    {
      "cell_type": "code",
      "source": [
        "#drop column with more than 50% missing data\n",
        "df = df.loc[:, df.isnull().mean() < 0.5]\n",
        "df.columns\n",
        "df.shape"
      ],
      "metadata": {
        "trusted": true,
        "execution": {
          "iopub.status.busy": "2025-07-15T06:22:05.156419Z",
          "iopub.execute_input": "2025-07-15T06:22:05.156663Z",
          "iopub.status.idle": "2025-07-15T06:22:05.169583Z",
          "shell.execute_reply.started": "2025-07-15T06:22:05.156636Z",
          "shell.execute_reply": "2025-07-15T06:22:05.168765Z"
        },
        "colab": {
          "base_uri": "https://localhost:8080/"
        },
        "id": "vkzIR3fztXJQ",
        "outputId": "2a1e5b34-caad-41dd-ad8a-e9a644c781b2"
      },
      "outputs": [
        {
          "output_type": "execute_result",
          "data": {
            "text/plain": [
              "(1134, 19)"
            ]
          },
          "metadata": {},
          "execution_count": 54
        }
      ],
      "execution_count": null
    },
    {
      "cell_type": "code",
      "source": [
        "# Fill numeric columns with mean\n",
        "df_filled = df.fillna(df.mean(numeric_only=True))\n",
        "print(\"\\nAfter filling missing values with mean:\\n\", df_filled.isnull().sum())"
      ],
      "metadata": {
        "trusted": true,
        "execution": {
          "iopub.status.busy": "2025-07-15T06:22:05.170439Z",
          "iopub.execute_input": "2025-07-15T06:22:05.170712Z",
          "iopub.status.idle": "2025-07-15T06:22:05.185193Z",
          "shell.execute_reply.started": "2025-07-15T06:22:05.170685Z",
          "shell.execute_reply": "2025-07-15T06:22:05.184491Z"
        },
        "colab": {
          "base_uri": "https://localhost:8080/"
        },
        "id": "GDIKyvZItXJQ",
        "outputId": "862349dc-bbab-48e8-824b-2e72663a4a98"
      },
      "outputs": [
        {
          "output_type": "stream",
          "name": "stdout",
          "text": [
            "\n",
            "After filling missing values with mean:\n",
            " Country                                   0\n",
            "Sub-Region                                0\n",
            "Code                                      0\n",
            "Year                                      0\n",
            "Population                                0\n",
            "GDP PER CAPITA (USD)                      0\n",
            "GDP PER CAPITA PPP (USD)                  0\n",
            "Area (Km2)                                0\n",
            "Transportation (Mt)                       0\n",
            "Total CO2 Emission including LUCF (Mt)    0\n",
            "Total CO2 Emission excluding LUCF (Mt)    0\n",
            "Other Fuel Combustion (Mt)                0\n",
            "Manufacturing/Construction (Mt)           0\n",
            "Land-Use Change and Forestry (Mt)         0\n",
            "Industrial Processes (Mt)                 0\n",
            "Energy (Mt)                               0\n",
            "Electricity/Heat (Mt)                     0\n",
            "Bunker Fuels (Mt)                         0\n",
            "Building (Mt)                             0\n",
            "dtype: int64\n"
          ]
        }
      ],
      "execution_count": null
    },
    {
      "cell_type": "code",
      "source": [
        "df_filled"
      ],
      "metadata": {
        "trusted": true,
        "execution": {
          "iopub.status.busy": "2025-07-15T06:22:05.186021Z",
          "iopub.execute_input": "2025-07-15T06:22:05.186723Z",
          "iopub.status.idle": "2025-07-15T06:22:05.207936Z",
          "shell.execute_reply.started": "2025-07-15T06:22:05.186694Z",
          "shell.execute_reply": "2025-07-15T06:22:05.207303Z"
        },
        "colab": {
          "base_uri": "https://localhost:8080/",
          "height": 687
        },
        "id": "B1nAzp7TtXJR",
        "outputId": "9c30b949-aa29-44da-e51e-da7a2bd56158"
      },
      "outputs": [
        {
          "output_type": "execute_result",
          "data": {
            "text/plain": [
              "       Country       Sub-Region Code  Year  Population  GDP PER CAPITA (USD)  \\\n",
              "0      Algeria  Northern Africa  DZA  2000    30774621               1780.38   \n",
              "1      Algeria  Northern Africa  DZA  2001    31200985               1754.58   \n",
              "2      Algeria  Northern Africa  DZA  2002    31624696               1794.81   \n",
              "3      Algeria  Northern Africa  DZA  2003    32055883               2117.05   \n",
              "4      Algeria  Northern Africa  DZA  2004    32510186               2624.80   \n",
              "...        ...              ...  ...   ...         ...                   ...   \n",
              "1129  Zimbabwe   Eastern Africa  ZWE  2016    14452704               1421.79   \n",
              "1130  Zimbabwe   Eastern Africa  ZWE  2017    14751101               1192.11   \n",
              "1131  Zimbabwe   Eastern Africa  ZWE  2018    15052184               2269.18   \n",
              "1132  Zimbabwe   Eastern Africa  ZWE  2019    15354608               1421.87   \n",
              "1133  Zimbabwe   Eastern Africa  ZWE  2020    15669666               1372.70   \n",
              "\n",
              "      GDP PER CAPITA PPP (USD)  Area (Km2)  Transportation (Mt)  \\\n",
              "0                      8510.36     2381741                16.85   \n",
              "1                      8840.67     2381741                17.04   \n",
              "2                      9354.22     2381741                19.36   \n",
              "3                     10088.09     2381741                21.76   \n",
              "4                     10653.34     2381741                22.03   \n",
              "...                        ...         ...                  ...   \n",
              "1129                   2724.45      390757                 2.15   \n",
              "1130                   2331.78      390757                 2.21   \n",
              "1131                   2457.31      390757                 2.84   \n",
              "1132                   2296.85      390757                 2.51   \n",
              "1133                   2101.80      390757                 2.07   \n",
              "\n",
              "      Total CO2 Emission including LUCF (Mt)  \\\n",
              "0                                      80.62   \n",
              "1                                      76.24   \n",
              "2                                      80.00   \n",
              "3                                      85.78   \n",
              "4                                      87.09   \n",
              "...                                      ...   \n",
              "1129                                   97.61   \n",
              "1130                                   96.94   \n",
              "1131                                   98.23   \n",
              "1132                                   97.35   \n",
              "1133                                   95.48   \n",
              "\n",
              "      Total CO2 Emission excluding LUCF (Mt)  Other Fuel Combustion (Mt)  \\\n",
              "0                                      80.05                        0.00   \n",
              "1                                      78.65                        0.00   \n",
              "2                                      82.40                        0.00   \n",
              "3                                      88.19                        0.00   \n",
              "4                                      89.49                        0.00   \n",
              "...                                      ...                         ...   \n",
              "1129                                   10.45                        0.66   \n",
              "1130                                    9.78                        0.66   \n",
              "1131                                   11.07                        0.79   \n",
              "1132                                   10.19                        0.78   \n",
              "1133                                    8.31                        0.61   \n",
              "\n",
              "      Manufacturing/Construction (Mt)  Land-Use Change and Forestry (Mt)  \\\n",
              "0                                6.16                               0.57   \n",
              "1                                6.25                              -2.41   \n",
              "2                                6.62                              -2.41   \n",
              "3                                7.01                              -2.41   \n",
              "4                                8.09                              -2.41   \n",
              "...                               ...                                ...   \n",
              "1129                             1.06                              87.16   \n",
              "1130                             1.09                              87.16   \n",
              "1131                             1.14                              87.16   \n",
              "1132                             1.08                              87.16   \n",
              "1133                             1.01                              87.16   \n",
              "\n",
              "      Industrial Processes (Mt)  Energy (Mt)  Electricity/Heat (Mt)  \\\n",
              "0                          3.79        76.26                  29.17   \n",
              "1                          3.77        74.88                  30.20   \n",
              "2                          4.06        78.35                  32.28   \n",
              "3                          4.03        84.16                  32.53   \n",
              "4                          4.90        84.60                  31.75   \n",
              "...                         ...          ...                    ...   \n",
              "1129                       0.46         9.99                   5.90   \n",
              "1130                       0.47         9.31                   5.13   \n",
              "1131                       0.56        10.51                   5.50   \n",
              "1132                       0.47         9.71                   5.10   \n",
              "1133                       0.50         7.82                   3.93   \n",
              "\n",
              "      Bunker Fuels (Mt)  Building (Mt)  \n",
              "0                  1.96           9.33  \n",
              "1                  1.98           9.53  \n",
              "2                  2.17           9.89  \n",
              "3                  1.89          10.68  \n",
              "4                  2.19          11.52  \n",
              "...                 ...            ...  \n",
              "1129               0.12           0.22  \n",
              "1130               0.16           0.22  \n",
              "1131               0.19           0.24  \n",
              "1132               0.16           0.24  \n",
              "1133               0.06           0.19  \n",
              "\n",
              "[1134 rows x 19 columns]"
            ],
            "text/html": [
              "\n",
              "  <div id=\"df-6b186228-d162-4b58-ba06-84be62d8e5ee\" class=\"colab-df-container\">\n",
              "    <div>\n",
              "<style scoped>\n",
              "    .dataframe tbody tr th:only-of-type {\n",
              "        vertical-align: middle;\n",
              "    }\n",
              "\n",
              "    .dataframe tbody tr th {\n",
              "        vertical-align: top;\n",
              "    }\n",
              "\n",
              "    .dataframe thead th {\n",
              "        text-align: right;\n",
              "    }\n",
              "</style>\n",
              "<table border=\"1\" class=\"dataframe\">\n",
              "  <thead>\n",
              "    <tr style=\"text-align: right;\">\n",
              "      <th></th>\n",
              "      <th>Country</th>\n",
              "      <th>Sub-Region</th>\n",
              "      <th>Code</th>\n",
              "      <th>Year</th>\n",
              "      <th>Population</th>\n",
              "      <th>GDP PER CAPITA (USD)</th>\n",
              "      <th>GDP PER CAPITA PPP (USD)</th>\n",
              "      <th>Area (Km2)</th>\n",
              "      <th>Transportation (Mt)</th>\n",
              "      <th>Total CO2 Emission including LUCF (Mt)</th>\n",
              "      <th>Total CO2 Emission excluding LUCF (Mt)</th>\n",
              "      <th>Other Fuel Combustion (Mt)</th>\n",
              "      <th>Manufacturing/Construction (Mt)</th>\n",
              "      <th>Land-Use Change and Forestry (Mt)</th>\n",
              "      <th>Industrial Processes (Mt)</th>\n",
              "      <th>Energy (Mt)</th>\n",
              "      <th>Electricity/Heat (Mt)</th>\n",
              "      <th>Bunker Fuels (Mt)</th>\n",
              "      <th>Building (Mt)</th>\n",
              "    </tr>\n",
              "  </thead>\n",
              "  <tbody>\n",
              "    <tr>\n",
              "      <th>0</th>\n",
              "      <td>Algeria</td>\n",
              "      <td>Northern Africa</td>\n",
              "      <td>DZA</td>\n",
              "      <td>2000</td>\n",
              "      <td>30774621</td>\n",
              "      <td>1780.38</td>\n",
              "      <td>8510.36</td>\n",
              "      <td>2381741</td>\n",
              "      <td>16.85</td>\n",
              "      <td>80.62</td>\n",
              "      <td>80.05</td>\n",
              "      <td>0.00</td>\n",
              "      <td>6.16</td>\n",
              "      <td>0.57</td>\n",
              "      <td>3.79</td>\n",
              "      <td>76.26</td>\n",
              "      <td>29.17</td>\n",
              "      <td>1.96</td>\n",
              "      <td>9.33</td>\n",
              "    </tr>\n",
              "    <tr>\n",
              "      <th>1</th>\n",
              "      <td>Algeria</td>\n",
              "      <td>Northern Africa</td>\n",
              "      <td>DZA</td>\n",
              "      <td>2001</td>\n",
              "      <td>31200985</td>\n",
              "      <td>1754.58</td>\n",
              "      <td>8840.67</td>\n",
              "      <td>2381741</td>\n",
              "      <td>17.04</td>\n",
              "      <td>76.24</td>\n",
              "      <td>78.65</td>\n",
              "      <td>0.00</td>\n",
              "      <td>6.25</td>\n",
              "      <td>-2.41</td>\n",
              "      <td>3.77</td>\n",
              "      <td>74.88</td>\n",
              "      <td>30.20</td>\n",
              "      <td>1.98</td>\n",
              "      <td>9.53</td>\n",
              "    </tr>\n",
              "    <tr>\n",
              "      <th>2</th>\n",
              "      <td>Algeria</td>\n",
              "      <td>Northern Africa</td>\n",
              "      <td>DZA</td>\n",
              "      <td>2002</td>\n",
              "      <td>31624696</td>\n",
              "      <td>1794.81</td>\n",
              "      <td>9354.22</td>\n",
              "      <td>2381741</td>\n",
              "      <td>19.36</td>\n",
              "      <td>80.00</td>\n",
              "      <td>82.40</td>\n",
              "      <td>0.00</td>\n",
              "      <td>6.62</td>\n",
              "      <td>-2.41</td>\n",
              "      <td>4.06</td>\n",
              "      <td>78.35</td>\n",
              "      <td>32.28</td>\n",
              "      <td>2.17</td>\n",
              "      <td>9.89</td>\n",
              "    </tr>\n",
              "    <tr>\n",
              "      <th>3</th>\n",
              "      <td>Algeria</td>\n",
              "      <td>Northern Africa</td>\n",
              "      <td>DZA</td>\n",
              "      <td>2003</td>\n",
              "      <td>32055883</td>\n",
              "      <td>2117.05</td>\n",
              "      <td>10088.09</td>\n",
              "      <td>2381741</td>\n",
              "      <td>21.76</td>\n",
              "      <td>85.78</td>\n",
              "      <td>88.19</td>\n",
              "      <td>0.00</td>\n",
              "      <td>7.01</td>\n",
              "      <td>-2.41</td>\n",
              "      <td>4.03</td>\n",
              "      <td>84.16</td>\n",
              "      <td>32.53</td>\n",
              "      <td>1.89</td>\n",
              "      <td>10.68</td>\n",
              "    </tr>\n",
              "    <tr>\n",
              "      <th>4</th>\n",
              "      <td>Algeria</td>\n",
              "      <td>Northern Africa</td>\n",
              "      <td>DZA</td>\n",
              "      <td>2004</td>\n",
              "      <td>32510186</td>\n",
              "      <td>2624.80</td>\n",
              "      <td>10653.34</td>\n",
              "      <td>2381741</td>\n",
              "      <td>22.03</td>\n",
              "      <td>87.09</td>\n",
              "      <td>89.49</td>\n",
              "      <td>0.00</td>\n",
              "      <td>8.09</td>\n",
              "      <td>-2.41</td>\n",
              "      <td>4.90</td>\n",
              "      <td>84.60</td>\n",
              "      <td>31.75</td>\n",
              "      <td>2.19</td>\n",
              "      <td>11.52</td>\n",
              "    </tr>\n",
              "    <tr>\n",
              "      <th>...</th>\n",
              "      <td>...</td>\n",
              "      <td>...</td>\n",
              "      <td>...</td>\n",
              "      <td>...</td>\n",
              "      <td>...</td>\n",
              "      <td>...</td>\n",
              "      <td>...</td>\n",
              "      <td>...</td>\n",
              "      <td>...</td>\n",
              "      <td>...</td>\n",
              "      <td>...</td>\n",
              "      <td>...</td>\n",
              "      <td>...</td>\n",
              "      <td>...</td>\n",
              "      <td>...</td>\n",
              "      <td>...</td>\n",
              "      <td>...</td>\n",
              "      <td>...</td>\n",
              "      <td>...</td>\n",
              "    </tr>\n",
              "    <tr>\n",
              "      <th>1129</th>\n",
              "      <td>Zimbabwe</td>\n",
              "      <td>Eastern Africa</td>\n",
              "      <td>ZWE</td>\n",
              "      <td>2016</td>\n",
              "      <td>14452704</td>\n",
              "      <td>1421.79</td>\n",
              "      <td>2724.45</td>\n",
              "      <td>390757</td>\n",
              "      <td>2.15</td>\n",
              "      <td>97.61</td>\n",
              "      <td>10.45</td>\n",
              "      <td>0.66</td>\n",
              "      <td>1.06</td>\n",
              "      <td>87.16</td>\n",
              "      <td>0.46</td>\n",
              "      <td>9.99</td>\n",
              "      <td>5.90</td>\n",
              "      <td>0.12</td>\n",
              "      <td>0.22</td>\n",
              "    </tr>\n",
              "    <tr>\n",
              "      <th>1130</th>\n",
              "      <td>Zimbabwe</td>\n",
              "      <td>Eastern Africa</td>\n",
              "      <td>ZWE</td>\n",
              "      <td>2017</td>\n",
              "      <td>14751101</td>\n",
              "      <td>1192.11</td>\n",
              "      <td>2331.78</td>\n",
              "      <td>390757</td>\n",
              "      <td>2.21</td>\n",
              "      <td>96.94</td>\n",
              "      <td>9.78</td>\n",
              "      <td>0.66</td>\n",
              "      <td>1.09</td>\n",
              "      <td>87.16</td>\n",
              "      <td>0.47</td>\n",
              "      <td>9.31</td>\n",
              "      <td>5.13</td>\n",
              "      <td>0.16</td>\n",
              "      <td>0.22</td>\n",
              "    </tr>\n",
              "    <tr>\n",
              "      <th>1131</th>\n",
              "      <td>Zimbabwe</td>\n",
              "      <td>Eastern Africa</td>\n",
              "      <td>ZWE</td>\n",
              "      <td>2018</td>\n",
              "      <td>15052184</td>\n",
              "      <td>2269.18</td>\n",
              "      <td>2457.31</td>\n",
              "      <td>390757</td>\n",
              "      <td>2.84</td>\n",
              "      <td>98.23</td>\n",
              "      <td>11.07</td>\n",
              "      <td>0.79</td>\n",
              "      <td>1.14</td>\n",
              "      <td>87.16</td>\n",
              "      <td>0.56</td>\n",
              "      <td>10.51</td>\n",
              "      <td>5.50</td>\n",
              "      <td>0.19</td>\n",
              "      <td>0.24</td>\n",
              "    </tr>\n",
              "    <tr>\n",
              "      <th>1132</th>\n",
              "      <td>Zimbabwe</td>\n",
              "      <td>Eastern Africa</td>\n",
              "      <td>ZWE</td>\n",
              "      <td>2019</td>\n",
              "      <td>15354608</td>\n",
              "      <td>1421.87</td>\n",
              "      <td>2296.85</td>\n",
              "      <td>390757</td>\n",
              "      <td>2.51</td>\n",
              "      <td>97.35</td>\n",
              "      <td>10.19</td>\n",
              "      <td>0.78</td>\n",
              "      <td>1.08</td>\n",
              "      <td>87.16</td>\n",
              "      <td>0.47</td>\n",
              "      <td>9.71</td>\n",
              "      <td>5.10</td>\n",
              "      <td>0.16</td>\n",
              "      <td>0.24</td>\n",
              "    </tr>\n",
              "    <tr>\n",
              "      <th>1133</th>\n",
              "      <td>Zimbabwe</td>\n",
              "      <td>Eastern Africa</td>\n",
              "      <td>ZWE</td>\n",
              "      <td>2020</td>\n",
              "      <td>15669666</td>\n",
              "      <td>1372.70</td>\n",
              "      <td>2101.80</td>\n",
              "      <td>390757</td>\n",
              "      <td>2.07</td>\n",
              "      <td>95.48</td>\n",
              "      <td>8.31</td>\n",
              "      <td>0.61</td>\n",
              "      <td>1.01</td>\n",
              "      <td>87.16</td>\n",
              "      <td>0.50</td>\n",
              "      <td>7.82</td>\n",
              "      <td>3.93</td>\n",
              "      <td>0.06</td>\n",
              "      <td>0.19</td>\n",
              "    </tr>\n",
              "  </tbody>\n",
              "</table>\n",
              "<p>1134 rows × 19 columns</p>\n",
              "</div>\n",
              "    <div class=\"colab-df-buttons\">\n",
              "\n",
              "  <div class=\"colab-df-container\">\n",
              "    <button class=\"colab-df-convert\" onclick=\"convertToInteractive('df-6b186228-d162-4b58-ba06-84be62d8e5ee')\"\n",
              "            title=\"Convert this dataframe to an interactive table.\"\n",
              "            style=\"display:none;\">\n",
              "\n",
              "  <svg xmlns=\"http://www.w3.org/2000/svg\" height=\"24px\" viewBox=\"0 -960 960 960\">\n",
              "    <path d=\"M120-120v-720h720v720H120Zm60-500h600v-160H180v160Zm220 220h160v-160H400v160Zm0 220h160v-160H400v160ZM180-400h160v-160H180v160Zm440 0h160v-160H620v160ZM180-180h160v-160H180v160Zm440 0h160v-160H620v160Z\"/>\n",
              "  </svg>\n",
              "    </button>\n",
              "\n",
              "  <style>\n",
              "    .colab-df-container {\n",
              "      display:flex;\n",
              "      gap: 12px;\n",
              "    }\n",
              "\n",
              "    .colab-df-convert {\n",
              "      background-color: #E8F0FE;\n",
              "      border: none;\n",
              "      border-radius: 50%;\n",
              "      cursor: pointer;\n",
              "      display: none;\n",
              "      fill: #1967D2;\n",
              "      height: 32px;\n",
              "      padding: 0 0 0 0;\n",
              "      width: 32px;\n",
              "    }\n",
              "\n",
              "    .colab-df-convert:hover {\n",
              "      background-color: #E2EBFA;\n",
              "      box-shadow: 0px 1px 2px rgba(60, 64, 67, 0.3), 0px 1px 3px 1px rgba(60, 64, 67, 0.15);\n",
              "      fill: #174EA6;\n",
              "    }\n",
              "\n",
              "    .colab-df-buttons div {\n",
              "      margin-bottom: 4px;\n",
              "    }\n",
              "\n",
              "    [theme=dark] .colab-df-convert {\n",
              "      background-color: #3B4455;\n",
              "      fill: #D2E3FC;\n",
              "    }\n",
              "\n",
              "    [theme=dark] .colab-df-convert:hover {\n",
              "      background-color: #434B5C;\n",
              "      box-shadow: 0px 1px 3px 1px rgba(0, 0, 0, 0.15);\n",
              "      filter: drop-shadow(0px 1px 2px rgba(0, 0, 0, 0.3));\n",
              "      fill: #FFFFFF;\n",
              "    }\n",
              "  </style>\n",
              "\n",
              "    <script>\n",
              "      const buttonEl =\n",
              "        document.querySelector('#df-6b186228-d162-4b58-ba06-84be62d8e5ee button.colab-df-convert');\n",
              "      buttonEl.style.display =\n",
              "        google.colab.kernel.accessAllowed ? 'block' : 'none';\n",
              "\n",
              "      async function convertToInteractive(key) {\n",
              "        const element = document.querySelector('#df-6b186228-d162-4b58-ba06-84be62d8e5ee');\n",
              "        const dataTable =\n",
              "          await google.colab.kernel.invokeFunction('convertToInteractive',\n",
              "                                                    [key], {});\n",
              "        if (!dataTable) return;\n",
              "\n",
              "        const docLinkHtml = 'Like what you see? Visit the ' +\n",
              "          '<a target=\"_blank\" href=https://colab.research.google.com/notebooks/data_table.ipynb>data table notebook</a>'\n",
              "          + ' to learn more about interactive tables.';\n",
              "        element.innerHTML = '';\n",
              "        dataTable['output_type'] = 'display_data';\n",
              "        await google.colab.output.renderOutput(dataTable, element);\n",
              "        const docLink = document.createElement('div');\n",
              "        docLink.innerHTML = docLinkHtml;\n",
              "        element.appendChild(docLink);\n",
              "      }\n",
              "    </script>\n",
              "  </div>\n",
              "\n",
              "\n",
              "    <div id=\"df-6f1640b2-6d07-4e26-8a04-0bdec03b247c\">\n",
              "      <button class=\"colab-df-quickchart\" onclick=\"quickchart('df-6f1640b2-6d07-4e26-8a04-0bdec03b247c')\"\n",
              "                title=\"Suggest charts\"\n",
              "                style=\"display:none;\">\n",
              "\n",
              "<svg xmlns=\"http://www.w3.org/2000/svg\" height=\"24px\"viewBox=\"0 0 24 24\"\n",
              "     width=\"24px\">\n",
              "    <g>\n",
              "        <path d=\"M19 3H5c-1.1 0-2 .9-2 2v14c0 1.1.9 2 2 2h14c1.1 0 2-.9 2-2V5c0-1.1-.9-2-2-2zM9 17H7v-7h2v7zm4 0h-2V7h2v10zm4 0h-2v-4h2v4z\"/>\n",
              "    </g>\n",
              "</svg>\n",
              "      </button>\n",
              "\n",
              "<style>\n",
              "  .colab-df-quickchart {\n",
              "      --bg-color: #E8F0FE;\n",
              "      --fill-color: #1967D2;\n",
              "      --hover-bg-color: #E2EBFA;\n",
              "      --hover-fill-color: #174EA6;\n",
              "      --disabled-fill-color: #AAA;\n",
              "      --disabled-bg-color: #DDD;\n",
              "  }\n",
              "\n",
              "  [theme=dark] .colab-df-quickchart {\n",
              "      --bg-color: #3B4455;\n",
              "      --fill-color: #D2E3FC;\n",
              "      --hover-bg-color: #434B5C;\n",
              "      --hover-fill-color: #FFFFFF;\n",
              "      --disabled-bg-color: #3B4455;\n",
              "      --disabled-fill-color: #666;\n",
              "  }\n",
              "\n",
              "  .colab-df-quickchart {\n",
              "    background-color: var(--bg-color);\n",
              "    border: none;\n",
              "    border-radius: 50%;\n",
              "    cursor: pointer;\n",
              "    display: none;\n",
              "    fill: var(--fill-color);\n",
              "    height: 32px;\n",
              "    padding: 0;\n",
              "    width: 32px;\n",
              "  }\n",
              "\n",
              "  .colab-df-quickchart:hover {\n",
              "    background-color: var(--hover-bg-color);\n",
              "    box-shadow: 0 1px 2px rgba(60, 64, 67, 0.3), 0 1px 3px 1px rgba(60, 64, 67, 0.15);\n",
              "    fill: var(--button-hover-fill-color);\n",
              "  }\n",
              "\n",
              "  .colab-df-quickchart-complete:disabled,\n",
              "  .colab-df-quickchart-complete:disabled:hover {\n",
              "    background-color: var(--disabled-bg-color);\n",
              "    fill: var(--disabled-fill-color);\n",
              "    box-shadow: none;\n",
              "  }\n",
              "\n",
              "  .colab-df-spinner {\n",
              "    border: 2px solid var(--fill-color);\n",
              "    border-color: transparent;\n",
              "    border-bottom-color: var(--fill-color);\n",
              "    animation:\n",
              "      spin 1s steps(1) infinite;\n",
              "  }\n",
              "\n",
              "  @keyframes spin {\n",
              "    0% {\n",
              "      border-color: transparent;\n",
              "      border-bottom-color: var(--fill-color);\n",
              "      border-left-color: var(--fill-color);\n",
              "    }\n",
              "    20% {\n",
              "      border-color: transparent;\n",
              "      border-left-color: var(--fill-color);\n",
              "      border-top-color: var(--fill-color);\n",
              "    }\n",
              "    30% {\n",
              "      border-color: transparent;\n",
              "      border-left-color: var(--fill-color);\n",
              "      border-top-color: var(--fill-color);\n",
              "      border-right-color: var(--fill-color);\n",
              "    }\n",
              "    40% {\n",
              "      border-color: transparent;\n",
              "      border-right-color: var(--fill-color);\n",
              "      border-top-color: var(--fill-color);\n",
              "    }\n",
              "    60% {\n",
              "      border-color: transparent;\n",
              "      border-right-color: var(--fill-color);\n",
              "    }\n",
              "    80% {\n",
              "      border-color: transparent;\n",
              "      border-right-color: var(--fill-color);\n",
              "      border-bottom-color: var(--fill-color);\n",
              "    }\n",
              "    90% {\n",
              "      border-color: transparent;\n",
              "      border-bottom-color: var(--fill-color);\n",
              "    }\n",
              "  }\n",
              "</style>\n",
              "\n",
              "      <script>\n",
              "        async function quickchart(key) {\n",
              "          const quickchartButtonEl =\n",
              "            document.querySelector('#' + key + ' button');\n",
              "          quickchartButtonEl.disabled = true;  // To prevent multiple clicks.\n",
              "          quickchartButtonEl.classList.add('colab-df-spinner');\n",
              "          try {\n",
              "            const charts = await google.colab.kernel.invokeFunction(\n",
              "                'suggestCharts', [key], {});\n",
              "          } catch (error) {\n",
              "            console.error('Error during call to suggestCharts:', error);\n",
              "          }\n",
              "          quickchartButtonEl.classList.remove('colab-df-spinner');\n",
              "          quickchartButtonEl.classList.add('colab-df-quickchart-complete');\n",
              "        }\n",
              "        (() => {\n",
              "          let quickchartButtonEl =\n",
              "            document.querySelector('#df-6f1640b2-6d07-4e26-8a04-0bdec03b247c button');\n",
              "          quickchartButtonEl.style.display =\n",
              "            google.colab.kernel.accessAllowed ? 'block' : 'none';\n",
              "        })();\n",
              "      </script>\n",
              "    </div>\n",
              "\n",
              "  <div id=\"id_2283d474-9252-459c-b812-a887f4b2b94c\">\n",
              "    <style>\n",
              "      .colab-df-generate {\n",
              "        background-color: #E8F0FE;\n",
              "        border: none;\n",
              "        border-radius: 50%;\n",
              "        cursor: pointer;\n",
              "        display: none;\n",
              "        fill: #1967D2;\n",
              "        height: 32px;\n",
              "        padding: 0 0 0 0;\n",
              "        width: 32px;\n",
              "      }\n",
              "\n",
              "      .colab-df-generate:hover {\n",
              "        background-color: #E2EBFA;\n",
              "        box-shadow: 0px 1px 2px rgba(60, 64, 67, 0.3), 0px 1px 3px 1px rgba(60, 64, 67, 0.15);\n",
              "        fill: #174EA6;\n",
              "      }\n",
              "\n",
              "      [theme=dark] .colab-df-generate {\n",
              "        background-color: #3B4455;\n",
              "        fill: #D2E3FC;\n",
              "      }\n",
              "\n",
              "      [theme=dark] .colab-df-generate:hover {\n",
              "        background-color: #434B5C;\n",
              "        box-shadow: 0px 1px 3px 1px rgba(0, 0, 0, 0.15);\n",
              "        filter: drop-shadow(0px 1px 2px rgba(0, 0, 0, 0.3));\n",
              "        fill: #FFFFFF;\n",
              "      }\n",
              "    </style>\n",
              "    <button class=\"colab-df-generate\" onclick=\"generateWithVariable('df_filled')\"\n",
              "            title=\"Generate code using this dataframe.\"\n",
              "            style=\"display:none;\">\n",
              "\n",
              "  <svg xmlns=\"http://www.w3.org/2000/svg\" height=\"24px\"viewBox=\"0 0 24 24\"\n",
              "       width=\"24px\">\n",
              "    <path d=\"M7,19H8.4L18.45,9,17,7.55,7,17.6ZM5,21V16.75L18.45,3.32a2,2,0,0,1,2.83,0l1.4,1.43a1.91,1.91,0,0,1,.58,1.4,1.91,1.91,0,0,1-.58,1.4L9.25,21ZM18.45,9,17,7.55Zm-12,3A5.31,5.31,0,0,0,4.9,8.1,5.31,5.31,0,0,0,1,6.5,5.31,5.31,0,0,0,4.9,4.9,5.31,5.31,0,0,0,6.5,1,5.31,5.31,0,0,0,8.1,4.9,5.31,5.31,0,0,0,12,6.5,5.46,5.46,0,0,0,6.5,12Z\"/>\n",
              "  </svg>\n",
              "    </button>\n",
              "    <script>\n",
              "      (() => {\n",
              "      const buttonEl =\n",
              "        document.querySelector('#id_2283d474-9252-459c-b812-a887f4b2b94c button.colab-df-generate');\n",
              "      buttonEl.style.display =\n",
              "        google.colab.kernel.accessAllowed ? 'block' : 'none';\n",
              "\n",
              "      buttonEl.onclick = () => {\n",
              "        google.colab.notebook.generateWithVariable('df_filled');\n",
              "      }\n",
              "      })();\n",
              "    </script>\n",
              "  </div>\n",
              "\n",
              "    </div>\n",
              "  </div>\n"
            ],
            "application/vnd.google.colaboratory.intrinsic+json": {
              "type": "dataframe",
              "variable_name": "df_filled",
              "summary": "{\n  \"name\": \"df_filled\",\n  \"rows\": 1134,\n  \"fields\": [\n    {\n      \"column\": \"Country\",\n      \"properties\": {\n        \"dtype\": \"category\",\n        \"num_unique_values\": 54,\n        \"samples\": [\n          \"Gabon\",\n          \"Togo\",\n          \"Tanzania\"\n        ],\n        \"semantic_type\": \"\",\n        \"description\": \"\"\n      }\n    },\n    {\n      \"column\": \"Sub-Region\",\n      \"properties\": {\n        \"dtype\": \"category\",\n        \"num_unique_values\": 5,\n        \"samples\": [\n          \"Middle Africa\",\n          \"Eastern Africa\",\n          \"Western Africa\"\n        ],\n        \"semantic_type\": \"\",\n        \"description\": \"\"\n      }\n    },\n    {\n      \"column\": \"Code\",\n      \"properties\": {\n        \"dtype\": \"category\",\n        \"num_unique_values\": 54,\n        \"samples\": [\n          \"GAB\",\n          \"TGO\",\n          \"TZA\"\n        ],\n        \"semantic_type\": \"\",\n        \"description\": \"\"\n      }\n    },\n    {\n      \"column\": \"Year\",\n      \"properties\": {\n        \"dtype\": \"number\",\n        \"std\": 6,\n        \"min\": 2000,\n        \"max\": 2020,\n        \"num_unique_values\": 21,\n        \"samples\": [\n          2000,\n          2017,\n          2015\n        ],\n        \"semantic_type\": \"\",\n        \"description\": \"\"\n      }\n    },\n    {\n      \"column\": \"Population\",\n      \"properties\": {\n        \"dtype\": \"number\",\n        \"std\": 28778021,\n        \"min\": 81131,\n        \"max\": 208327405,\n        \"num_unique_values\": 1134,\n        \"samples\": [\n          148294028,\n          96762,\n          1966855\n        ],\n        \"semantic_type\": \"\",\n        \"description\": \"\"\n      }\n    },\n    {\n      \"column\": \"GDP PER CAPITA (USD)\",\n      \"properties\": {\n        \"dtype\": \"number\",\n        \"std\": 2936.137466713644,\n        \"min\": 110.46,\n        \"max\": 19849.72,\n        \"num_unique_values\": 1106,\n        \"samples\": [\n          19849.72,\n          508.16,\n          1251.5\n        ],\n        \"semantic_type\": \"\",\n        \"description\": \"\"\n      }\n    },\n    {\n      \"column\": \"GDP PER CAPITA PPP (USD)\",\n      \"properties\": {\n        \"dtype\": \"number\",\n        \"std\": 5861.161035091288,\n        \"min\": 420.27,\n        \"max\": 33261.87,\n        \"num_unique_values\": 1086,\n        \"samples\": [\n          22143.83,\n          2745.86,\n          2774.65\n        ],\n        \"semantic_type\": \"\",\n        \"description\": \"\"\n      }\n    },\n    {\n      \"column\": \"Area (Km2)\",\n      \"properties\": {\n        \"dtype\": \"number\",\n        \"std\": 598382,\n        \"min\": 452,\n        \"max\": 2381741,\n        \"num_unique_values\": 54,\n        \"samples\": [\n          267668,\n          56785,\n          945087\n        ],\n        \"semantic_type\": \"\",\n        \"description\": \"\"\n      }\n    },\n    {\n      \"column\": \"Transportation (Mt)\",\n      \"properties\": {\n        \"dtype\": \"number\",\n        \"std\": 10.786445503093045,\n        \"min\": 0.01,\n        \"max\": 59.45,\n        \"num_unique_values\": 500,\n        \"samples\": [\n          18.95,\n          1.94,\n          2.05\n        ],\n        \"semantic_type\": \"\",\n        \"description\": \"\"\n      }\n    },\n    {\n      \"column\": \"Total CO2 Emission including LUCF (Mt)\",\n      \"properties\": {\n        \"dtype\": \"number\",\n        \"std\": 89.05776197446447,\n        \"min\": -10.41,\n        \"max\": 606.39,\n        \"num_unique_values\": 895,\n        \"samples\": [\n          3.84,\n          13.97,\n          1.52\n        ],\n        \"semantic_type\": \"\",\n        \"description\": \"\"\n      }\n    },\n    {\n      \"column\": \"Total CO2 Emission excluding LUCF (Mt)\",\n      \"properties\": {\n        \"dtype\": \"number\",\n        \"std\": 62.186060167565245,\n        \"min\": 0.05,\n        \"max\": 448.3,\n        \"num_unique_values\": 708,\n        \"samples\": [\n          5.02,\n          2.8,\n          14.32\n        ],\n        \"semantic_type\": \"\",\n        \"description\": \"\"\n      }\n    },\n    {\n      \"column\": \"Other Fuel Combustion (Mt)\",\n      \"properties\": {\n        \"dtype\": \"number\",\n        \"std\": 1.1840418897638736,\n        \"min\": 0.0,\n        \"max\": 8.68,\n        \"num_unique_values\": 193,\n        \"samples\": [\n          2.29,\n          4.18,\n          1.09\n        ],\n        \"semantic_type\": \"\",\n        \"description\": \"\"\n      }\n    },\n    {\n      \"column\": \"Manufacturing/Construction (Mt)\",\n      \"properties\": {\n        \"dtype\": \"number\",\n        \"std\": 7.7639105907517285,\n        \"min\": 0.0,\n        \"max\": 61.1,\n        \"num_unique_values\": 355,\n        \"samples\": [\n          1.52,\n          0.15,\n          7.25\n        ],\n        \"semantic_type\": \"\",\n        \"description\": \"\"\n      }\n    },\n    {\n      \"column\": \"Land-Use Change and Forestry (Mt)\",\n      \"properties\": {\n        \"dtype\": \"number\",\n        \"std\": 66.85978117976364,\n        \"min\": -24.95,\n        \"max\": 601.26,\n        \"num_unique_values\": 257,\n        \"samples\": [\n          8.63,\n          17.35,\n          29.87\n        ],\n        \"semantic_type\": \"\",\n        \"description\": \"\"\n      }\n    },\n    {\n      \"column\": \"Industrial Processes (Mt)\",\n      \"properties\": {\n        \"dtype\": \"number\",\n        \"std\": 2.838879700165133,\n        \"min\": 0.0,\n        \"max\": 22.82,\n        \"num_unique_values\": 272,\n        \"samples\": [\n          0.58,\n          3.29,\n          0.11\n        ],\n        \"semantic_type\": \"\",\n        \"description\": \"\"\n      }\n    },\n    {\n      \"column\": \"Energy (Mt)\",\n      \"properties\": {\n        \"dtype\": \"number\",\n        \"std\": 60.34881274665353,\n        \"min\": 0.05,\n        \"max\": 443.39,\n        \"num_unique_values\": 708,\n        \"samples\": [\n          4.62,\n          6.33,\n          18.01\n        ],\n        \"semantic_type\": \"\",\n        \"description\": \"\"\n      }\n    },\n    {\n      \"column\": \"Electricity/Heat (Mt)\",\n      \"properties\": {\n        \"dtype\": \"number\",\n        \"std\": 38.264274585898,\n        \"min\": 0.0,\n        \"max\": 311.55,\n        \"num_unique_values\": 413,\n        \"samples\": [\n          1.9,\n          1.47,\n          4.68\n        ],\n        \"semantic_type\": \"\",\n        \"description\": \"\"\n      }\n    },\n    {\n      \"column\": \"Bunker Fuels (Mt)\",\n      \"properties\": {\n        \"dtype\": \"number\",\n        \"std\": 1.8857211874367072,\n        \"min\": 0.0,\n        \"max\": 14.79,\n        \"num_unique_values\": 233,\n        \"samples\": [\n          0.74,\n          10.93,\n          0.87\n        ],\n        \"semantic_type\": \"\",\n        \"description\": \"\"\n      }\n    },\n    {\n      \"column\": \"Building (Mt)\",\n      \"properties\": {\n        \"dtype\": \"number\",\n        \"std\": 4.280751794076291,\n        \"min\": 0.0,\n        \"max\": 33.97,\n        \"num_unique_values\": 267,\n        \"samples\": [\n          0.57,\n          0.82,\n          1.06\n        ],\n        \"semantic_type\": \"\",\n        \"description\": \"\"\n      }\n    }\n  ]\n}"
            }
          },
          "metadata": {},
          "execution_count": 56
        }
      ],
      "execution_count": null
    },
    {
      "cell_type": "code",
      "source": [
        "#save a copy of the cleaned data\n",
        "#df_filled.to_csv('/content/gdrive/My Drive/Easy_pytorch/co2_Emission_Africa_cleaned.csv', index=False)"
      ],
      "metadata": {
        "trusted": true,
        "execution": {
          "iopub.status.busy": "2025-07-15T06:22:05.208755Z",
          "iopub.execute_input": "2025-07-15T06:22:05.208971Z",
          "iopub.status.idle": "2025-07-15T06:22:05.236772Z",
          "shell.execute_reply.started": "2025-07-15T06:22:05.208952Z",
          "shell.execute_reply": "2025-07-15T06:22:05.235998Z"
        },
        "id": "yf-LSOyBtXJR"
      },
      "outputs": [],
      "execution_count": null
    },
    {
      "cell_type": "code",
      "source": [
        "#load cleaned data\n",
        "data=df_filled\n",
        "data.head()"
      ],
      "metadata": {
        "trusted": true,
        "execution": {
          "iopub.status.busy": "2025-07-15T06:22:05.237606Z",
          "iopub.execute_input": "2025-07-15T06:22:05.238164Z",
          "iopub.status.idle": "2025-07-15T06:22:05.259695Z",
          "shell.execute_reply.started": "2025-07-15T06:22:05.238132Z",
          "shell.execute_reply": "2025-07-15T06:22:05.259029Z"
        },
        "colab": {
          "base_uri": "https://localhost:8080/",
          "height": 383
        },
        "id": "7iGPsKQxtXJR",
        "outputId": "f7fb3dda-a5ca-466a-9e70-f2e1a7ae2519"
      },
      "outputs": [
        {
          "output_type": "execute_result",
          "data": {
            "text/plain": [
              "   Country       Sub-Region Code  Year  Population  GDP PER CAPITA (USD)  \\\n",
              "0  Algeria  Northern Africa  DZA  2000    30774621               1780.38   \n",
              "1  Algeria  Northern Africa  DZA  2001    31200985               1754.58   \n",
              "2  Algeria  Northern Africa  DZA  2002    31624696               1794.81   \n",
              "3  Algeria  Northern Africa  DZA  2003    32055883               2117.05   \n",
              "4  Algeria  Northern Africa  DZA  2004    32510186               2624.80   \n",
              "\n",
              "   GDP PER CAPITA PPP (USD)  Area (Km2)  Transportation (Mt)  \\\n",
              "0                   8510.36     2381741                16.85   \n",
              "1                   8840.67     2381741                17.04   \n",
              "2                   9354.22     2381741                19.36   \n",
              "3                  10088.09     2381741                21.76   \n",
              "4                  10653.34     2381741                22.03   \n",
              "\n",
              "   Total CO2 Emission including LUCF (Mt)  \\\n",
              "0                                   80.62   \n",
              "1                                   76.24   \n",
              "2                                   80.00   \n",
              "3                                   85.78   \n",
              "4                                   87.09   \n",
              "\n",
              "   Total CO2 Emission excluding LUCF (Mt)  Other Fuel Combustion (Mt)  \\\n",
              "0                                   80.05                         0.0   \n",
              "1                                   78.65                         0.0   \n",
              "2                                   82.40                         0.0   \n",
              "3                                   88.19                         0.0   \n",
              "4                                   89.49                         0.0   \n",
              "\n",
              "   Manufacturing/Construction (Mt)  Land-Use Change and Forestry (Mt)  \\\n",
              "0                             6.16                               0.57   \n",
              "1                             6.25                              -2.41   \n",
              "2                             6.62                              -2.41   \n",
              "3                             7.01                              -2.41   \n",
              "4                             8.09                              -2.41   \n",
              "\n",
              "   Industrial Processes (Mt)  Energy (Mt)  Electricity/Heat (Mt)  \\\n",
              "0                       3.79        76.26                  29.17   \n",
              "1                       3.77        74.88                  30.20   \n",
              "2                       4.06        78.35                  32.28   \n",
              "3                       4.03        84.16                  32.53   \n",
              "4                       4.90        84.60                  31.75   \n",
              "\n",
              "   Bunker Fuels (Mt)  Building (Mt)  \n",
              "0               1.96           9.33  \n",
              "1               1.98           9.53  \n",
              "2               2.17           9.89  \n",
              "3               1.89          10.68  \n",
              "4               2.19          11.52  "
            ],
            "text/html": [
              "\n",
              "  <div id=\"df-9bea7279-7bfd-4afb-becd-fcdeea9a6300\" class=\"colab-df-container\">\n",
              "    <div>\n",
              "<style scoped>\n",
              "    .dataframe tbody tr th:only-of-type {\n",
              "        vertical-align: middle;\n",
              "    }\n",
              "\n",
              "    .dataframe tbody tr th {\n",
              "        vertical-align: top;\n",
              "    }\n",
              "\n",
              "    .dataframe thead th {\n",
              "        text-align: right;\n",
              "    }\n",
              "</style>\n",
              "<table border=\"1\" class=\"dataframe\">\n",
              "  <thead>\n",
              "    <tr style=\"text-align: right;\">\n",
              "      <th></th>\n",
              "      <th>Country</th>\n",
              "      <th>Sub-Region</th>\n",
              "      <th>Code</th>\n",
              "      <th>Year</th>\n",
              "      <th>Population</th>\n",
              "      <th>GDP PER CAPITA (USD)</th>\n",
              "      <th>GDP PER CAPITA PPP (USD)</th>\n",
              "      <th>Area (Km2)</th>\n",
              "      <th>Transportation (Mt)</th>\n",
              "      <th>Total CO2 Emission including LUCF (Mt)</th>\n",
              "      <th>Total CO2 Emission excluding LUCF (Mt)</th>\n",
              "      <th>Other Fuel Combustion (Mt)</th>\n",
              "      <th>Manufacturing/Construction (Mt)</th>\n",
              "      <th>Land-Use Change and Forestry (Mt)</th>\n",
              "      <th>Industrial Processes (Mt)</th>\n",
              "      <th>Energy (Mt)</th>\n",
              "      <th>Electricity/Heat (Mt)</th>\n",
              "      <th>Bunker Fuels (Mt)</th>\n",
              "      <th>Building (Mt)</th>\n",
              "    </tr>\n",
              "  </thead>\n",
              "  <tbody>\n",
              "    <tr>\n",
              "      <th>0</th>\n",
              "      <td>Algeria</td>\n",
              "      <td>Northern Africa</td>\n",
              "      <td>DZA</td>\n",
              "      <td>2000</td>\n",
              "      <td>30774621</td>\n",
              "      <td>1780.38</td>\n",
              "      <td>8510.36</td>\n",
              "      <td>2381741</td>\n",
              "      <td>16.85</td>\n",
              "      <td>80.62</td>\n",
              "      <td>80.05</td>\n",
              "      <td>0.0</td>\n",
              "      <td>6.16</td>\n",
              "      <td>0.57</td>\n",
              "      <td>3.79</td>\n",
              "      <td>76.26</td>\n",
              "      <td>29.17</td>\n",
              "      <td>1.96</td>\n",
              "      <td>9.33</td>\n",
              "    </tr>\n",
              "    <tr>\n",
              "      <th>1</th>\n",
              "      <td>Algeria</td>\n",
              "      <td>Northern Africa</td>\n",
              "      <td>DZA</td>\n",
              "      <td>2001</td>\n",
              "      <td>31200985</td>\n",
              "      <td>1754.58</td>\n",
              "      <td>8840.67</td>\n",
              "      <td>2381741</td>\n",
              "      <td>17.04</td>\n",
              "      <td>76.24</td>\n",
              "      <td>78.65</td>\n",
              "      <td>0.0</td>\n",
              "      <td>6.25</td>\n",
              "      <td>-2.41</td>\n",
              "      <td>3.77</td>\n",
              "      <td>74.88</td>\n",
              "      <td>30.20</td>\n",
              "      <td>1.98</td>\n",
              "      <td>9.53</td>\n",
              "    </tr>\n",
              "    <tr>\n",
              "      <th>2</th>\n",
              "      <td>Algeria</td>\n",
              "      <td>Northern Africa</td>\n",
              "      <td>DZA</td>\n",
              "      <td>2002</td>\n",
              "      <td>31624696</td>\n",
              "      <td>1794.81</td>\n",
              "      <td>9354.22</td>\n",
              "      <td>2381741</td>\n",
              "      <td>19.36</td>\n",
              "      <td>80.00</td>\n",
              "      <td>82.40</td>\n",
              "      <td>0.0</td>\n",
              "      <td>6.62</td>\n",
              "      <td>-2.41</td>\n",
              "      <td>4.06</td>\n",
              "      <td>78.35</td>\n",
              "      <td>32.28</td>\n",
              "      <td>2.17</td>\n",
              "      <td>9.89</td>\n",
              "    </tr>\n",
              "    <tr>\n",
              "      <th>3</th>\n",
              "      <td>Algeria</td>\n",
              "      <td>Northern Africa</td>\n",
              "      <td>DZA</td>\n",
              "      <td>2003</td>\n",
              "      <td>32055883</td>\n",
              "      <td>2117.05</td>\n",
              "      <td>10088.09</td>\n",
              "      <td>2381741</td>\n",
              "      <td>21.76</td>\n",
              "      <td>85.78</td>\n",
              "      <td>88.19</td>\n",
              "      <td>0.0</td>\n",
              "      <td>7.01</td>\n",
              "      <td>-2.41</td>\n",
              "      <td>4.03</td>\n",
              "      <td>84.16</td>\n",
              "      <td>32.53</td>\n",
              "      <td>1.89</td>\n",
              "      <td>10.68</td>\n",
              "    </tr>\n",
              "    <tr>\n",
              "      <th>4</th>\n",
              "      <td>Algeria</td>\n",
              "      <td>Northern Africa</td>\n",
              "      <td>DZA</td>\n",
              "      <td>2004</td>\n",
              "      <td>32510186</td>\n",
              "      <td>2624.80</td>\n",
              "      <td>10653.34</td>\n",
              "      <td>2381741</td>\n",
              "      <td>22.03</td>\n",
              "      <td>87.09</td>\n",
              "      <td>89.49</td>\n",
              "      <td>0.0</td>\n",
              "      <td>8.09</td>\n",
              "      <td>-2.41</td>\n",
              "      <td>4.90</td>\n",
              "      <td>84.60</td>\n",
              "      <td>31.75</td>\n",
              "      <td>2.19</td>\n",
              "      <td>11.52</td>\n",
              "    </tr>\n",
              "  </tbody>\n",
              "</table>\n",
              "</div>\n",
              "    <div class=\"colab-df-buttons\">\n",
              "\n",
              "  <div class=\"colab-df-container\">\n",
              "    <button class=\"colab-df-convert\" onclick=\"convertToInteractive('df-9bea7279-7bfd-4afb-becd-fcdeea9a6300')\"\n",
              "            title=\"Convert this dataframe to an interactive table.\"\n",
              "            style=\"display:none;\">\n",
              "\n",
              "  <svg xmlns=\"http://www.w3.org/2000/svg\" height=\"24px\" viewBox=\"0 -960 960 960\">\n",
              "    <path d=\"M120-120v-720h720v720H120Zm60-500h600v-160H180v160Zm220 220h160v-160H400v160Zm0 220h160v-160H400v160ZM180-400h160v-160H180v160Zm440 0h160v-160H620v160ZM180-180h160v-160H180v160Zm440 0h160v-160H620v160Z\"/>\n",
              "  </svg>\n",
              "    </button>\n",
              "\n",
              "  <style>\n",
              "    .colab-df-container {\n",
              "      display:flex;\n",
              "      gap: 12px;\n",
              "    }\n",
              "\n",
              "    .colab-df-convert {\n",
              "      background-color: #E8F0FE;\n",
              "      border: none;\n",
              "      border-radius: 50%;\n",
              "      cursor: pointer;\n",
              "      display: none;\n",
              "      fill: #1967D2;\n",
              "      height: 32px;\n",
              "      padding: 0 0 0 0;\n",
              "      width: 32px;\n",
              "    }\n",
              "\n",
              "    .colab-df-convert:hover {\n",
              "      background-color: #E2EBFA;\n",
              "      box-shadow: 0px 1px 2px rgba(60, 64, 67, 0.3), 0px 1px 3px 1px rgba(60, 64, 67, 0.15);\n",
              "      fill: #174EA6;\n",
              "    }\n",
              "\n",
              "    .colab-df-buttons div {\n",
              "      margin-bottom: 4px;\n",
              "    }\n",
              "\n",
              "    [theme=dark] .colab-df-convert {\n",
              "      background-color: #3B4455;\n",
              "      fill: #D2E3FC;\n",
              "    }\n",
              "\n",
              "    [theme=dark] .colab-df-convert:hover {\n",
              "      background-color: #434B5C;\n",
              "      box-shadow: 0px 1px 3px 1px rgba(0, 0, 0, 0.15);\n",
              "      filter: drop-shadow(0px 1px 2px rgba(0, 0, 0, 0.3));\n",
              "      fill: #FFFFFF;\n",
              "    }\n",
              "  </style>\n",
              "\n",
              "    <script>\n",
              "      const buttonEl =\n",
              "        document.querySelector('#df-9bea7279-7bfd-4afb-becd-fcdeea9a6300 button.colab-df-convert');\n",
              "      buttonEl.style.display =\n",
              "        google.colab.kernel.accessAllowed ? 'block' : 'none';\n",
              "\n",
              "      async function convertToInteractive(key) {\n",
              "        const element = document.querySelector('#df-9bea7279-7bfd-4afb-becd-fcdeea9a6300');\n",
              "        const dataTable =\n",
              "          await google.colab.kernel.invokeFunction('convertToInteractive',\n",
              "                                                    [key], {});\n",
              "        if (!dataTable) return;\n",
              "\n",
              "        const docLinkHtml = 'Like what you see? Visit the ' +\n",
              "          '<a target=\"_blank\" href=https://colab.research.google.com/notebooks/data_table.ipynb>data table notebook</a>'\n",
              "          + ' to learn more about interactive tables.';\n",
              "        element.innerHTML = '';\n",
              "        dataTable['output_type'] = 'display_data';\n",
              "        await google.colab.output.renderOutput(dataTable, element);\n",
              "        const docLink = document.createElement('div');\n",
              "        docLink.innerHTML = docLinkHtml;\n",
              "        element.appendChild(docLink);\n",
              "      }\n",
              "    </script>\n",
              "  </div>\n",
              "\n",
              "\n",
              "    <div id=\"df-79337d39-38d2-468b-893d-6fcdd1cc03f0\">\n",
              "      <button class=\"colab-df-quickchart\" onclick=\"quickchart('df-79337d39-38d2-468b-893d-6fcdd1cc03f0')\"\n",
              "                title=\"Suggest charts\"\n",
              "                style=\"display:none;\">\n",
              "\n",
              "<svg xmlns=\"http://www.w3.org/2000/svg\" height=\"24px\"viewBox=\"0 0 24 24\"\n",
              "     width=\"24px\">\n",
              "    <g>\n",
              "        <path d=\"M19 3H5c-1.1 0-2 .9-2 2v14c0 1.1.9 2 2 2h14c1.1 0 2-.9 2-2V5c0-1.1-.9-2-2-2zM9 17H7v-7h2v7zm4 0h-2V7h2v10zm4 0h-2v-4h2v4z\"/>\n",
              "    </g>\n",
              "</svg>\n",
              "      </button>\n",
              "\n",
              "<style>\n",
              "  .colab-df-quickchart {\n",
              "      --bg-color: #E8F0FE;\n",
              "      --fill-color: #1967D2;\n",
              "      --hover-bg-color: #E2EBFA;\n",
              "      --hover-fill-color: #174EA6;\n",
              "      --disabled-fill-color: #AAA;\n",
              "      --disabled-bg-color: #DDD;\n",
              "  }\n",
              "\n",
              "  [theme=dark] .colab-df-quickchart {\n",
              "      --bg-color: #3B4455;\n",
              "      --fill-color: #D2E3FC;\n",
              "      --hover-bg-color: #434B5C;\n",
              "      --hover-fill-color: #FFFFFF;\n",
              "      --disabled-bg-color: #3B4455;\n",
              "      --disabled-fill-color: #666;\n",
              "  }\n",
              "\n",
              "  .colab-df-quickchart {\n",
              "    background-color: var(--bg-color);\n",
              "    border: none;\n",
              "    border-radius: 50%;\n",
              "    cursor: pointer;\n",
              "    display: none;\n",
              "    fill: var(--fill-color);\n",
              "    height: 32px;\n",
              "    padding: 0;\n",
              "    width: 32px;\n",
              "  }\n",
              "\n",
              "  .colab-df-quickchart:hover {\n",
              "    background-color: var(--hover-bg-color);\n",
              "    box-shadow: 0 1px 2px rgba(60, 64, 67, 0.3), 0 1px 3px 1px rgba(60, 64, 67, 0.15);\n",
              "    fill: var(--button-hover-fill-color);\n",
              "  }\n",
              "\n",
              "  .colab-df-quickchart-complete:disabled,\n",
              "  .colab-df-quickchart-complete:disabled:hover {\n",
              "    background-color: var(--disabled-bg-color);\n",
              "    fill: var(--disabled-fill-color);\n",
              "    box-shadow: none;\n",
              "  }\n",
              "\n",
              "  .colab-df-spinner {\n",
              "    border: 2px solid var(--fill-color);\n",
              "    border-color: transparent;\n",
              "    border-bottom-color: var(--fill-color);\n",
              "    animation:\n",
              "      spin 1s steps(1) infinite;\n",
              "  }\n",
              "\n",
              "  @keyframes spin {\n",
              "    0% {\n",
              "      border-color: transparent;\n",
              "      border-bottom-color: var(--fill-color);\n",
              "      border-left-color: var(--fill-color);\n",
              "    }\n",
              "    20% {\n",
              "      border-color: transparent;\n",
              "      border-left-color: var(--fill-color);\n",
              "      border-top-color: var(--fill-color);\n",
              "    }\n",
              "    30% {\n",
              "      border-color: transparent;\n",
              "      border-left-color: var(--fill-color);\n",
              "      border-top-color: var(--fill-color);\n",
              "      border-right-color: var(--fill-color);\n",
              "    }\n",
              "    40% {\n",
              "      border-color: transparent;\n",
              "      border-right-color: var(--fill-color);\n",
              "      border-top-color: var(--fill-color);\n",
              "    }\n",
              "    60% {\n",
              "      border-color: transparent;\n",
              "      border-right-color: var(--fill-color);\n",
              "    }\n",
              "    80% {\n",
              "      border-color: transparent;\n",
              "      border-right-color: var(--fill-color);\n",
              "      border-bottom-color: var(--fill-color);\n",
              "    }\n",
              "    90% {\n",
              "      border-color: transparent;\n",
              "      border-bottom-color: var(--fill-color);\n",
              "    }\n",
              "  }\n",
              "</style>\n",
              "\n",
              "      <script>\n",
              "        async function quickchart(key) {\n",
              "          const quickchartButtonEl =\n",
              "            document.querySelector('#' + key + ' button');\n",
              "          quickchartButtonEl.disabled = true;  // To prevent multiple clicks.\n",
              "          quickchartButtonEl.classList.add('colab-df-spinner');\n",
              "          try {\n",
              "            const charts = await google.colab.kernel.invokeFunction(\n",
              "                'suggestCharts', [key], {});\n",
              "          } catch (error) {\n",
              "            console.error('Error during call to suggestCharts:', error);\n",
              "          }\n",
              "          quickchartButtonEl.classList.remove('colab-df-spinner');\n",
              "          quickchartButtonEl.classList.add('colab-df-quickchart-complete');\n",
              "        }\n",
              "        (() => {\n",
              "          let quickchartButtonEl =\n",
              "            document.querySelector('#df-79337d39-38d2-468b-893d-6fcdd1cc03f0 button');\n",
              "          quickchartButtonEl.style.display =\n",
              "            google.colab.kernel.accessAllowed ? 'block' : 'none';\n",
              "        })();\n",
              "      </script>\n",
              "    </div>\n",
              "\n",
              "    </div>\n",
              "  </div>\n"
            ],
            "application/vnd.google.colaboratory.intrinsic+json": {
              "type": "dataframe",
              "variable_name": "data",
              "summary": "{\n  \"name\": \"data\",\n  \"rows\": 1134,\n  \"fields\": [\n    {\n      \"column\": \"Country\",\n      \"properties\": {\n        \"dtype\": \"category\",\n        \"num_unique_values\": 54,\n        \"samples\": [\n          \"Gabon\",\n          \"Togo\",\n          \"Tanzania\"\n        ],\n        \"semantic_type\": \"\",\n        \"description\": \"\"\n      }\n    },\n    {\n      \"column\": \"Sub-Region\",\n      \"properties\": {\n        \"dtype\": \"category\",\n        \"num_unique_values\": 5,\n        \"samples\": [\n          \"Middle Africa\",\n          \"Eastern Africa\",\n          \"Western Africa\"\n        ],\n        \"semantic_type\": \"\",\n        \"description\": \"\"\n      }\n    },\n    {\n      \"column\": \"Code\",\n      \"properties\": {\n        \"dtype\": \"category\",\n        \"num_unique_values\": 54,\n        \"samples\": [\n          \"GAB\",\n          \"TGO\",\n          \"TZA\"\n        ],\n        \"semantic_type\": \"\",\n        \"description\": \"\"\n      }\n    },\n    {\n      \"column\": \"Year\",\n      \"properties\": {\n        \"dtype\": \"number\",\n        \"std\": 6,\n        \"min\": 2000,\n        \"max\": 2020,\n        \"num_unique_values\": 21,\n        \"samples\": [\n          2000,\n          2017,\n          2015\n        ],\n        \"semantic_type\": \"\",\n        \"description\": \"\"\n      }\n    },\n    {\n      \"column\": \"Population\",\n      \"properties\": {\n        \"dtype\": \"number\",\n        \"std\": 28778021,\n        \"min\": 81131,\n        \"max\": 208327405,\n        \"num_unique_values\": 1134,\n        \"samples\": [\n          148294028,\n          96762,\n          1966855\n        ],\n        \"semantic_type\": \"\",\n        \"description\": \"\"\n      }\n    },\n    {\n      \"column\": \"GDP PER CAPITA (USD)\",\n      \"properties\": {\n        \"dtype\": \"number\",\n        \"std\": 2936.137466713644,\n        \"min\": 110.46,\n        \"max\": 19849.72,\n        \"num_unique_values\": 1106,\n        \"samples\": [\n          19849.72,\n          508.16,\n          1251.5\n        ],\n        \"semantic_type\": \"\",\n        \"description\": \"\"\n      }\n    },\n    {\n      \"column\": \"GDP PER CAPITA PPP (USD)\",\n      \"properties\": {\n        \"dtype\": \"number\",\n        \"std\": 5861.161035091288,\n        \"min\": 420.27,\n        \"max\": 33261.87,\n        \"num_unique_values\": 1086,\n        \"samples\": [\n          22143.83,\n          2745.86,\n          2774.65\n        ],\n        \"semantic_type\": \"\",\n        \"description\": \"\"\n      }\n    },\n    {\n      \"column\": \"Area (Km2)\",\n      \"properties\": {\n        \"dtype\": \"number\",\n        \"std\": 598382,\n        \"min\": 452,\n        \"max\": 2381741,\n        \"num_unique_values\": 54,\n        \"samples\": [\n          267668,\n          56785,\n          945087\n        ],\n        \"semantic_type\": \"\",\n        \"description\": \"\"\n      }\n    },\n    {\n      \"column\": \"Transportation (Mt)\",\n      \"properties\": {\n        \"dtype\": \"number\",\n        \"std\": 10.786445503093045,\n        \"min\": 0.01,\n        \"max\": 59.45,\n        \"num_unique_values\": 500,\n        \"samples\": [\n          18.95,\n          1.94,\n          2.05\n        ],\n        \"semantic_type\": \"\",\n        \"description\": \"\"\n      }\n    },\n    {\n      \"column\": \"Total CO2 Emission including LUCF (Mt)\",\n      \"properties\": {\n        \"dtype\": \"number\",\n        \"std\": 89.05776197446447,\n        \"min\": -10.41,\n        \"max\": 606.39,\n        \"num_unique_values\": 895,\n        \"samples\": [\n          3.84,\n          13.97,\n          1.52\n        ],\n        \"semantic_type\": \"\",\n        \"description\": \"\"\n      }\n    },\n    {\n      \"column\": \"Total CO2 Emission excluding LUCF (Mt)\",\n      \"properties\": {\n        \"dtype\": \"number\",\n        \"std\": 62.186060167565245,\n        \"min\": 0.05,\n        \"max\": 448.3,\n        \"num_unique_values\": 708,\n        \"samples\": [\n          5.02,\n          2.8,\n          14.32\n        ],\n        \"semantic_type\": \"\",\n        \"description\": \"\"\n      }\n    },\n    {\n      \"column\": \"Other Fuel Combustion (Mt)\",\n      \"properties\": {\n        \"dtype\": \"number\",\n        \"std\": 1.1840418897638736,\n        \"min\": 0.0,\n        \"max\": 8.68,\n        \"num_unique_values\": 193,\n        \"samples\": [\n          2.29,\n          4.18,\n          1.09\n        ],\n        \"semantic_type\": \"\",\n        \"description\": \"\"\n      }\n    },\n    {\n      \"column\": \"Manufacturing/Construction (Mt)\",\n      \"properties\": {\n        \"dtype\": \"number\",\n        \"std\": 7.7639105907517285,\n        \"min\": 0.0,\n        \"max\": 61.1,\n        \"num_unique_values\": 355,\n        \"samples\": [\n          1.52,\n          0.15,\n          7.25\n        ],\n        \"semantic_type\": \"\",\n        \"description\": \"\"\n      }\n    },\n    {\n      \"column\": \"Land-Use Change and Forestry (Mt)\",\n      \"properties\": {\n        \"dtype\": \"number\",\n        \"std\": 66.85978117976364,\n        \"min\": -24.95,\n        \"max\": 601.26,\n        \"num_unique_values\": 257,\n        \"samples\": [\n          8.63,\n          17.35,\n          29.87\n        ],\n        \"semantic_type\": \"\",\n        \"description\": \"\"\n      }\n    },\n    {\n      \"column\": \"Industrial Processes (Mt)\",\n      \"properties\": {\n        \"dtype\": \"number\",\n        \"std\": 2.838879700165133,\n        \"min\": 0.0,\n        \"max\": 22.82,\n        \"num_unique_values\": 272,\n        \"samples\": [\n          0.58,\n          3.29,\n          0.11\n        ],\n        \"semantic_type\": \"\",\n        \"description\": \"\"\n      }\n    },\n    {\n      \"column\": \"Energy (Mt)\",\n      \"properties\": {\n        \"dtype\": \"number\",\n        \"std\": 60.34881274665353,\n        \"min\": 0.05,\n        \"max\": 443.39,\n        \"num_unique_values\": 708,\n        \"samples\": [\n          4.62,\n          6.33,\n          18.01\n        ],\n        \"semantic_type\": \"\",\n        \"description\": \"\"\n      }\n    },\n    {\n      \"column\": \"Electricity/Heat (Mt)\",\n      \"properties\": {\n        \"dtype\": \"number\",\n        \"std\": 38.264274585898,\n        \"min\": 0.0,\n        \"max\": 311.55,\n        \"num_unique_values\": 413,\n        \"samples\": [\n          1.9,\n          1.47,\n          4.68\n        ],\n        \"semantic_type\": \"\",\n        \"description\": \"\"\n      }\n    },\n    {\n      \"column\": \"Bunker Fuels (Mt)\",\n      \"properties\": {\n        \"dtype\": \"number\",\n        \"std\": 1.8857211874367072,\n        \"min\": 0.0,\n        \"max\": 14.79,\n        \"num_unique_values\": 233,\n        \"samples\": [\n          0.74,\n          10.93,\n          0.87\n        ],\n        \"semantic_type\": \"\",\n        \"description\": \"\"\n      }\n    },\n    {\n      \"column\": \"Building (Mt)\",\n      \"properties\": {\n        \"dtype\": \"number\",\n        \"std\": 4.280751794076291,\n        \"min\": 0.0,\n        \"max\": 33.97,\n        \"num_unique_values\": 267,\n        \"samples\": [\n          0.57,\n          0.82,\n          1.06\n        ],\n        \"semantic_type\": \"\",\n        \"description\": \"\"\n      }\n    }\n  ]\n}"
            }
          },
          "metadata": {},
          "execution_count": 58
        }
      ],
      "execution_count": null
    },
    {
      "cell_type": "code",
      "source": [
        "# Compute correlation matrix (only numeric columns)\n",
        "corr_matrix = df.corr(numeric_only=True)\n",
        "\n",
        "#print(\"Correlation matrix:\\n\", corr_matrix)"
      ],
      "metadata": {
        "trusted": true,
        "execution": {
          "iopub.status.busy": "2025-07-15T06:22:05.260332Z",
          "iopub.execute_input": "2025-07-15T06:22:05.260524Z",
          "iopub.status.idle": "2025-07-15T06:22:05.266263Z",
          "shell.execute_reply.started": "2025-07-15T06:22:05.260507Z",
          "shell.execute_reply": "2025-07-15T06:22:05.265639Z"
        },
        "id": "wuSVgkdqtXJR"
      },
      "outputs": [],
      "execution_count": null
    },
    {
      "cell_type": "code",
      "source": [
        "#visuallise with heat map\n",
        "plt.figure(figsize=(10, 8))\n",
        "sns.heatmap(\n",
        "    corr_matrix,\n",
        "    annot=True,        # Show correlation values\n",
        "    fmt=\".2f\",         # Format floats\n",
        "    cmap='coolwarm',   # Color palette\n",
        "    square=True,\n",
        "    cbar_kws={\"shrink\": .8},\n",
        "    linewidths=0.5\n",
        ")\n",
        "plt.title('Correlation Matrix Heatmap')\n",
        "plt.show()"
      ],
      "metadata": {
        "trusted": true,
        "execution": {
          "iopub.status.busy": "2025-07-15T06:22:05.266994Z",
          "iopub.execute_input": "2025-07-15T06:22:05.267275Z",
          "iopub.status.idle": "2025-07-15T06:22:06.051032Z",
          "shell.execute_reply.started": "2025-07-15T06:22:05.267247Z",
          "shell.execute_reply": "2025-07-15T06:22:06.050182Z"
        },
        "id": "-lP4VVbAtXJR",
        "colab": {
          "base_uri": "https://localhost:8080/",
          "height": 623
        },
        "outputId": "d23b05cc-d942-4864-ef4d-123c2c605f8b"
      },
      "outputs": [
        {
          "output_type": "display_data",
          "data": {
            "text/plain": [
              "<Figure size 1000x800 with 2 Axes>"
            ],
            "image/png": "[encoded data removed]"
          },
          "metadata": {}
        }
      ],
      "execution_count": null
    },
    {
      "cell_type": "code",
      "source": [
        "\n",
        "# Create train/test split\n",
        "train_split = int(0.8 * len(X)) # 80% of data used for training set, 20% for testing\n",
        "X_train, y_train = X[:train_split], y[:train_split]\n",
        "X_test, y_test = X[train_split:], y[train_split:]\n",
        "\n",
        "len(X_train), len(y_train), len(X_test), len(y_test)\n",
        "class ANN(nn.Module):\n",
        "    def __init__(self, input_size):\n",
        "        super(ANN, self).__init__()\n",
        "        self.linear_1 = nn.Linear(input_size, 64)\n",
        "        self.relu_1 = nn.ReLU()\n",
        "        self.linear_2 = nn.Linear(64, 32)\n",
        "        self.relu_2 = nn.ReLU()\n",
        "        self.output = nn.Linear(32, 1)  # Output = 1 (regression)\n",
        "\n",
        "    def forward(self, x):\n",
        "        x =  self.linear_1(x)\n",
        "        x = self.relu_1(x)\n",
        "        x = self.linear_2(x)\n",
        "        x = self.relu_2(x)\n",
        "        x = self.output(x)\n",
        "        return x\n",
        "\n",
        "model = ANN(input_size=X.shape[1])"
      ],
      "metadata": {
        "id": "ARDUqKylieNw",
        "colab": {
          "base_uri": "https://localhost:8080/",
          "height": 228
        },
        "outputId": "968be043-89db-4c86-e52e-e0fc7403f794"
      },
      "execution_count": null,
      "outputs": [
        {
          "output_type": "error",
          "ename": "IndexError",
          "evalue": "slice() cannot be applied to a 0-dim tensor.",
          "traceback": [
            "\u001b[0;31m---------------------------------------------------------------------------\u001b[0m",
            "\u001b[0;31mIndexError\u001b[0m                                Traceback (most recent call last)",
            "\u001b[0;32m/tmp/ipython-input-61-2670770623.py\u001b[0m in \u001b[0;36m<cell line: 0>\u001b[0;34m()\u001b[0m\n\u001b[1;32m      1\u001b[0m \u001b[0;31m# Create train/test split\u001b[0m\u001b[0;34m\u001b[0m\u001b[0;34m\u001b[0m\u001b[0m\n\u001b[1;32m      2\u001b[0m \u001b[0mtrain_split\u001b[0m \u001b[0;34m=\u001b[0m \u001b[0mint\u001b[0m\u001b[0;34m(\u001b[0m\u001b[0;36m0.8\u001b[0m \u001b[0;34m*\u001b[0m \u001b[0mlen\u001b[0m\u001b[0;34m(\u001b[0m\u001b[0mX\u001b[0m\u001b[0;34m)\u001b[0m\u001b[0;34m)\u001b[0m \u001b[0;31m# 80% of data used for training set, 20% for testing\u001b[0m\u001b[0;34m\u001b[0m\u001b[0;34m\u001b[0m\u001b[0m\n\u001b[0;32m----> 3\u001b[0;31m \u001b[0mX_train\u001b[0m\u001b[0;34m,\u001b[0m \u001b[0my_train\u001b[0m \u001b[0;34m=\u001b[0m \u001b[0mX\u001b[0m\u001b[0;34m[\u001b[0m\u001b[0;34m:\u001b[0m\u001b[0mtrain_split\u001b[0m\u001b[0;34m]\u001b[0m\u001b[0;34m,\u001b[0m \u001b[0my\u001b[0m\u001b[0;34m[\u001b[0m\u001b[0;34m:\u001b[0m\u001b[0mtrain_split\u001b[0m\u001b[0;34m]\u001b[0m\u001b[0;34m\u001b[0m\u001b[0;34m\u001b[0m\u001b[0m\n\u001b[0m\u001b[1;32m      4\u001b[0m \u001b[0mX_test\u001b[0m\u001b[0;34m,\u001b[0m \u001b[0my_test\u001b[0m \u001b[0;34m=\u001b[0m \u001b[0mX\u001b[0m\u001b[0;34m[\u001b[0m\u001b[0mtrain_split\u001b[0m\u001b[0;34m:\u001b[0m\u001b[0;34m]\u001b[0m\u001b[0;34m,\u001b[0m \u001b[0my\u001b[0m\u001b[0;34m[\u001b[0m\u001b[0mtrain_split\u001b[0m\u001b[0;34m:\u001b[0m\u001b[0;34m]\u001b[0m\u001b[0;34m\u001b[0m\u001b[0;34m\u001b[0m\u001b[0m\n\u001b[1;32m      5\u001b[0m \u001b[0;34m\u001b[0m\u001b[0m\n",
            "\u001b[0;31mIndexError\u001b[0m: slice() cannot be applied to a 0-dim tensor."
          ]
        }
      ]
    },
    {
      "cell_type": "code",
      "source": [
        "plt.figure(figsize=(14, 8))\n",
        "\n",
        "sns.lineplot(\n",
        "    data=df,\n",
        "    x='Year',\n",
        "    y='Total CO2 Emission excluding LUCF (Mt)',\n",
        "    hue='Country',\n",
        "    marker='o'\n",
        ")\n",
        "\n",
        "plt.title('CO₂ Emissions Over Time for All African Countries')\n",
        "plt.xlabel('Year')\n",
        "plt.ylabel('CO₂ Emission')\n",
        "plt.legend(title='Country', bbox_to_anchor=(1.05, 1), loc='upper left')\n",
        "plt.xticks(rotation=45)\n",
        "plt.tight_layout()\n",
        "plt.show()\n"
      ],
      "metadata": {
        "trusted": true,
        "execution": {
          "iopub.status.busy": "2025-07-15T06:22:06.052021Z",
          "iopub.execute_input": "2025-07-15T06:22:06.052327Z",
          "iopub.status.idle": "2025-07-15T06:22:06.971634Z",
          "shell.execute_reply.started": "2025-07-15T06:22:06.052287Z",
          "shell.execute_reply": "2025-07-15T06:22:06.970771Z"
        },
        "id": "PyefZYCytXJR"
      },
      "outputs": [],
      "execution_count": null
    },
    {
      "cell_type": "code",
      "source": [
        "countries = ['Kenya', 'South Africa', 'Nigeria']\n",
        "df_filtered = df[df['Country'].isin(countries)]\n",
        "#print(df_filtered.head())\n",
        "plt.figure(figsize=(12, 6))\n",
        "\n",
        "sns.lineplot(\n",
        "    data=df_filtered,\n",
        "    x='Year',\n",
        "    y='Total CO2 Emission excluding LUCF (Mt)',\n",
        "    hue='Country',\n",
        "    marker='o'\n",
        ")\n",
        "\n",
        "plt.title('CO₂ Emissions Over Time for Kenya, South Africa, and Nigeria')\n",
        "plt.xlabel('Year')\n",
        "plt.ylabel('CO₂ Emission')\n",
        "plt.legend(title='Country')\n",
        "plt.xticks(rotation=45)\n",
        "plt.tight_layout()\n",
        "plt.show()"
      ],
      "metadata": {
        "trusted": true,
        "execution": {
          "iopub.status.busy": "2025-07-15T06:22:06.972550Z",
          "iopub.execute_input": "2025-07-15T06:22:06.972829Z",
          "iopub.status.idle": "2025-07-15T06:22:07.251179Z",
          "shell.execute_reply.started": "2025-07-15T06:22:06.972801Z",
          "shell.execute_reply": "2025-07-15T06:22:07.250333Z"
        },
        "id": "Vvkizj12tXJR"
      },
      "outputs": [],
      "execution_count": null
    },
    {
      "cell_type": "code",
      "source": [
        "\n",
        "#print(\"data shape before removing undefined value\", df.shape)\n",
        "#data = df[['GDP PER CAPITA (USD)', 'Total CO2 Emission excluding LUCF (Mt)']].dropna()\n",
        "#print(\"data shape after removing undefined value\", data.shape)\n",
        "X = data['Transportation (Mt)']\n",
        "y = data['Total CO2 Emission excluding LUCF (Mt)']"
      ],
      "metadata": {
        "trusted": true,
        "execution": {
          "iopub.status.busy": "2025-07-15T06:22:07.252010Z",
          "iopub.execute_input": "2025-07-15T06:22:07.252251Z",
          "iopub.status.idle": "2025-07-15T06:22:07.256622Z",
          "shell.execute_reply.started": "2025-07-15T06:22:07.252230Z",
          "shell.execute_reply": "2025-07-15T06:22:07.255685Z"
        },
        "id": "QEJqO71OtXJS"
      },
      "outputs": [],
      "execution_count": null
    },
    {
      "cell_type": "code",
      "source": [
        "# Standardization\n",
        "from sklearn.preprocessing import StandardScaler\n",
        "scaler = StandardScaler()\n",
        "#X_scaled = scaler.fit_transform(X)"
      ],
      "metadata": {
        "trusted": true,
        "execution": {
          "iopub.status.busy": "2025-07-15T06:22:07.257488Z",
          "iopub.execute_input": "2025-07-15T06:22:07.258074Z",
          "iopub.status.idle": "2025-07-15T06:22:07.269891Z",
          "shell.execute_reply.started": "2025-07-15T06:22:07.258044Z",
          "shell.execute_reply": "2025-07-15T06:22:07.269184Z"
        },
        "id": "e6O-AZXntXJS"
      },
      "outputs": [],
      "execution_count": null
    },
    {
      "cell_type": "markdown",
      "source": [
        "Hum... Something wrong. The error message warns us that `StandardScaler` requires matrices, whereas our `X` variable is a vector. We need to add a dimension and the message advises us to use `.reshape(-1,1)`. BUT `sklearn` uses numpy arrays by default, and our variable X is a dataframe. So `.reshape(-1,1)` won't work. We need to use `.values.reshape()` instead."
      ],
      "metadata": {
        "id": "iDocFj4WtXJS"
      }
    },
    {
      "cell_type": "code",
      "source": [
        "print(\"X shape:\", X.shape)\n",
        "print(\"X dimension:\", X.ndim)\n",
        "print(\"X type:\", type(X))\n",
        "\n",
        "X = X.values.reshape(-1, 1)\n",
        "\n",
        "print(\"new X shape:\", X.shape)\n",
        "print(\"new X dimension:\", X.ndim)\n",
        "print(\"new X type:\", type(X))"
      ],
      "metadata": {
        "trusted": true,
        "execution": {
          "iopub.status.busy": "2025-07-15T06:22:07.270618Z",
          "iopub.execute_input": "2025-07-15T06:22:07.270898Z",
          "iopub.status.idle": "2025-07-15T06:22:07.282034Z",
          "shell.execute_reply.started": "2025-07-15T06:22:07.270869Z",
          "shell.execute_reply": "2025-07-15T06:22:07.281340Z"
        },
        "id": "YjZ5OGqAtXJS"
      },
      "outputs": [],
      "execution_count": null
    },
    {
      "cell_type": "markdown",
      "source": [
        "Using `X.reshape(-1, 1)` means : \"we want to reshape X, into an array of `-1` rows and `1` column\". `-1` it the equivalent of saying \"take the dimension of the vector\" (here 1107). So now `StandardScaler()` will work."
      ],
      "metadata": {
        "id": "DkAzCSHltXJS"
      }
    },
    {
      "cell_type": "code",
      "source": [
        "X_scaled = scaler.fit_transform(X)"
      ],
      "metadata": {
        "trusted": true,
        "execution": {
          "iopub.status.busy": "2025-07-15T06:22:07.282752Z",
          "iopub.execute_input": "2025-07-15T06:22:07.282945Z",
          "iopub.status.idle": "2025-07-15T06:22:07.294140Z",
          "shell.execute_reply.started": "2025-07-15T06:22:07.282928Z",
          "shell.execute_reply": "2025-07-15T06:22:07.293516Z"
        },
        "id": "5OJb17MjtXJS"
      },
      "outputs": [],
      "execution_count": null
    },
    {
      "cell_type": "markdown",
      "source": [
        "But now `X` and `X_scaled` are numpy arrays. If you want to keep an dataframe format, you have to change the way you defines `X`."
      ],
      "metadata": {
        "id": "DG1IH6JotXJS"
      }
    },
    {
      "cell_type": "code",
      "source": [
        "# X = data['GDP PER CAPITA (USD)']  # --> Create a pandas series (1107,), thus a vector\n",
        "X = data[['GDP PER CAPITA (USD)']] # --> Create a dataframe which always a matrice\n",
        "y = data['Total CO2 Emission excluding LUCF (Mt)']\n",
        "\n",
        "print(\"X shape:\", X.shape)\n",
        "print(\"X type:\", type(X))\n",
        "\n",
        "X_scaled = scaler.fit_transform(X)\n",
        "\n",
        "print(\"new X shape:\", X_scaled.shape)\n",
        "print(\"new X type:\", type(X_scaled))"
      ],
      "metadata": {
        "trusted": true,
        "execution": {
          "iopub.status.busy": "2025-07-15T06:22:07.294867Z",
          "iopub.execute_input": "2025-07-15T06:22:07.295065Z",
          "iopub.status.idle": "2025-07-15T06:22:07.308393Z",
          "shell.execute_reply.started": "2025-07-15T06:22:07.295048Z",
          "shell.execute_reply": "2025-07-15T06:22:07.307608Z"
        },
        "id": "MF4RnmIFtXJS"
      },
      "outputs": [],
      "execution_count": null
    },
    {
      "cell_type": "markdown",
      "source": [
        "We can compares the impact of this operation on the dataset."
      ],
      "metadata": {
        "id": "iM0uuiA0tXJS"
      }
    },
    {
      "cell_type": "code",
      "source": [
        "plt.figure()\n",
        "plt.subplot(121)\n",
        "plt.title(\"Raw data distribution\")\n",
        "plt.xlabel(\"GDP PER CAPITA (USD)\")\n",
        "plt.ylabel('Density')\n",
        "plt.hist(X, density=True, alpha=0.6, color='blue')\n",
        "plt.grid(True)\n",
        "plt.tight_layout()\n",
        "\n",
        "plt.subplot(122)\n",
        "plt.hist(X_scaled, density=True, alpha=0.6, color='blue')\n",
        "plt.title(\"Data distribution\")\n",
        "plt.xlabel(\"GDP PER CAPITA (USD)\")\n",
        "plt.ylabel(\"Density\")\n",
        "plt.grid(True)\n",
        "plt.tight_layout()\n",
        "\n",
        "plt.show()"
      ],
      "metadata": {
        "trusted": true,
        "execution": {
          "iopub.status.busy": "2025-07-15T06:22:07.309099Z",
          "iopub.execute_input": "2025-07-15T06:22:07.309383Z",
          "iopub.status.idle": "2025-07-15T06:22:07.679170Z",
          "shell.execute_reply.started": "2025-07-15T06:22:07.309357Z",
          "shell.execute_reply": "2025-07-15T06:22:07.678356Z"
        },
        "id": "aSMnnmHGtXJT"
      },
      "outputs": [],
      "execution_count": null
    },
    {
      "cell_type": "code",
      "source": [
        "# Convert to numpy for plotting\n",
        "X_cpu = X_train.cpu().numpy()\n",
        "y_cpu = y_train.cpu().numpy()\n",
        "y_pred_cpu = y_pred.detach().numpy()\n",
        "\n",
        "# Plot\n",
        "plt.figure(figsize=(10, 6))\n",
        "plt.scatter(X_cpu, y_cpu, label=\"Actual\")\n",
        "plt.plot(X_cpu, y_pred_cpu, color=\"red\", label=\"Predicted\")\n",
        "plt.xlabel(\"GDP PER CAPITA (USD)\")\n",
        "plt.ylabel(\"CO₂ Emissions (Mt)\")\n",
        "plt.title(\"GDP vs CO₂ Emission Regression\")\n",
        "plt.legend()\n",
        "plt.grid(True)\n",
        "plt.show()"
      ],
      "metadata": {
        "trusted": true,
        "execution": {
          "iopub.status.busy": "2025-07-15T06:22:07.836921Z",
          "iopub.execute_input": "2025-07-15T06:22:07.837193Z",
          "iopub.status.idle": "2025-07-15T06:22:08.078525Z",
          "shell.execute_reply.started": "2025-07-15T06:22:07.837168Z",
          "shell.execute_reply": "2025-07-15T06:22:08.077727Z"
        },
        "id": "-X5YA_u7tXJU"
      },
      "outputs": [],
      "execution_count": null
    },
    {
      "cell_type": "code",
      "metadata": {
        "id": "a0694900"
      },
      "source": [
        "eastern_africa_countries = df[df['Sub-Region'] == 'Eastern Africa']['Country'].unique()\n",
        "print(\"Countries in Eastern Africa:\")\n",
        "print(eastern_africa_countries)"
      ],
      "execution_count": null,
      "outputs": []
    },
    {
      "cell_type": "markdown",
      "source": [
        "# CREATE DATASET"
      ],
      "metadata": {
        "id": "rhmPNEIRsr7m"
      }
    },
    {
      "cell_type": "code",
      "metadata": {
        "colab": {
          "base_uri": "https://localhost:8080/"
        },
        "id": "ea900129",
        "outputId": "d658d36a-6495-4365-b2f3-2d95204814fd"
      },
      "source": [
        "# Keep only rows where both 'Electricity/Heat (Mt)' and 'Energy (Mt)' are present\n",
        "df_clean = df[['Electricity/Heat (Mt)', 'Energy (Mt)']].dropna()\n",
        "\n",
        "# Define features (X) and target (y)\n",
        "X = df_clean[['Electricity/Heat (Mt)']]  # feature\n",
        "y = df_clean['Energy (Mt)']  #Target\n",
        "\n",
        "# Ensure X and y have the same number of rows after dropping NaNs\n",
        "# This is important if NaNs were present in different rows for X and y\n",
        "if len(X) != len(y):\n",
        "    # If lengths are different, re-align by index\n",
        "    common_index = X.index.intersection(y.index)\n",
        "    X = X.loc[common_index]\n",
        "    y = y.loc[common_index]\n",
        "\n",
        "\n",
        "print(\"Shape of X for entire dataset:\", X.shape)\n",
        "print(\"Shape of y for entire dataset:\", y.shape)"
      ],
      "execution_count": null,
      "outputs": [
        {
          "output_type": "stream",
          "name": "stdout",
          "text": [
            "Shape of X for entire dataset: (1122, 1)\n",
            "Shape of y for entire dataset: (1122,)\n"
          ]
        }
      ]
    },
    {
      "cell_type": "code",
      "metadata": {
        "colab": {
          "base_uri": "https://localhost:8080/"
        },
        "id": "9040e43a",
        "outputId": "aa48a92c-6987-4cd3-f20c-df8f5ed2656d"
      },
      "source": [
        "from sklearn.model_selection import train_test_split\n",
        "from sklearn.preprocessing import StandardScaler\n",
        "import torch\n",
        "\n",
        "# Split data into training and testing sets\n",
        "X_train, X_test, y_train, y_test = train_test_split(\n",
        "    X, y, test_size=0.2, random_state=42\n",
        ")\n",
        "\n",
        "# Scale both features (X) and target (y)\n",
        "scaler_X = StandardScaler()\n",
        "scaler_y = StandardScaler()\n",
        "\n",
        "X_train_scaled = scaler_X.fit_transform(X_train)\n",
        "X_test_scaled = scaler_X.transform(X_test)\n",
        "\n",
        "y_train_scaled = scaler_y.fit_transform(y_train.values.reshape(-1, 1))\n",
        "y_test_scaled = scaler_y.transform(y_test.values.reshape(-1, 1))\n",
        "\n",
        "# Convert to PyTorch tensors\n",
        "X_train_tensor = torch.tensor(X_train_scaled, dtype=torch.float32)\n",
        "y_train_tensor = torch.tensor(y_train_scaled, dtype=torch.float32)  # already 2D\n",
        "X_test_tensor = torch.tensor(X_test_scaled, dtype=torch.float32)\n",
        "y_test_tensor = torch.tensor(y_test_scaled, dtype=torch.float32)\n",
        "\n",
        "# Print shapes\n",
        "print(\"X_train_tensor shape:\", X_train_tensor.shape)\n",
        "print(\"y_train_tensor shape:\", y_train_tensor.shape)\n",
        "print(\"X_test_tensor shape:\", X_test_tensor.shape)\n",
        "print(\"y_test_tensor shape:\", y_test_tensor.shape)\n"
      ],
      "execution_count": null,
      "outputs": [
        {
          "output_type": "stream",
          "name": "stdout",
          "text": [
            "X_train_tensor shape: torch.Size([897, 1])\n",
            "y_train_tensor shape: torch.Size([897, 1])\n",
            "X_test_tensor shape: torch.Size([225, 1])\n",
            "y_test_tensor shape: torch.Size([225, 1])\n"
          ]
        }
      ]
    },
    {
      "cell_type": "code",
      "source": [
        "class LinearRegressionModel(nn.Module):\n",
        "    def __init__(self):\n",
        "        super(LinearRegressionModel, self).__init__()\n",
        "        self.linear = nn.Linear(1, 1)\n",
        "\n",
        "    def forward(self, x):\n",
        "        return self.linear(x)\n",
        "\n",
        "model = LinearRegressionModel()\n",
        "model"
      ],
      "metadata": {
        "colab": {
          "base_uri": "https://localhost:8080/"
        },
        "id": "e6JViVTblk6j",
        "outputId": "b15f6406-f22a-4a0e-ee2b-cbbf4ffe9bc3"
      },
      "execution_count": null,
      "outputs": [
        {
          "output_type": "execute_result",
          "data": {
            "text/plain": [
              "LinearRegressionModel(\n",
              "  (linear): Linear(in_features=1, out_features=1, bias=True)\n",
              ")"
            ]
          },
          "metadata": {},
          "execution_count": 72
        }
      ]
    },
    {
      "cell_type": "code",
      "metadata": {
        "id": "aeeb4879"
      },
      "source": [
        "# Create the loss function\n",
        "loss_fn = nn.MSELoss()\n",
        "\n",
        "# Create the optimizer\n",
        "optimizer = torch.optim.SGD(params=model.parameters(), lr=0.05)\n"
      ],
      "execution_count": null,
      "outputs": []
    },
    {
      "cell_type": "code",
      "source": [
        "# Set the number of epochs (how many times the model will pass over the training data)\n",
        "epochs = 100\n",
        "\n",
        "# Create empty loss lists to track values\n",
        "train_loss_values = []\n",
        "test_loss_values = []\n",
        "epoch_count = []\n",
        "\n",
        "for epoch in range(epochs):\n",
        "    ### Training\n",
        "\n",
        "    # Put model in training mode (this is the default state of a model)\n",
        "    model.train()\n",
        "\n",
        "    # 1. Forward pass on train data using the forward() method inside\n",
        "    y_pred = model(X_train_tensor)\n",
        "    # print(y_pred)\n",
        "\n",
        "    # 2. Calculate the loss (how different are our models predictions to the ground truth)\n",
        "    loss = loss_fn(y_pred, y_train_tensor)\n",
        "\n",
        "    # 3. Zero grad of the optimizer\n",
        "    optimizer.zero_grad()\n",
        "\n",
        "    # 4. Loss backwards\n",
        "    loss.backward()\n",
        "\n",
        "    # 5. Progress the optimizer\n",
        "    optimizer.step()\n",
        "\n",
        "\n",
        "    # # ✅ Check if model weights are updating\n",
        "    # with torch.no_grad():\n",
        "    #     for name, param in model.named_parameters():\n",
        "    #         if param.requires_grad:\n",
        "    #             print(f\"Epoch {epoch}: {name} mean = {param.data.mean():.4f}\")\n",
        "    ### Testing\n",
        "\n",
        "    # Put the model in evaluation mode\n",
        "    model.eval()\n",
        "\n",
        "    with torch.inference_mode():\n",
        "      # 1. Forward pass on test data\n",
        "      test_pred = model(X_test_tensor)\n",
        "\n",
        "      # 2. Caculate loss on test data\n",
        "      test_loss = loss_fn(test_pred, y_test_tensor) # predictions come in torch.float datatype, so comparisons need to be done with tensors of the same type\n",
        "\n",
        "      # Print out what's happening\n",
        "      if epoch % 10 == 0:\n",
        "            epoch_count.append(epoch)\n",
        "            train_loss_values.append(loss.detach().numpy())\n",
        "            test_loss_values.append(test_loss.detach().numpy())\n",
        "            print(f\"Epoch: {epoch} | MAE Train Loss: {loss} | MAE Test Loss: {test_loss} \")\n",
        "\n",
        "# Plot the predictions after training\n",
        "plt.figure(figsize=(10, 7))\n",
        "plt.scatter(X_test_tensor.numpy(), y_test_tensor.numpy(), c='skyblue', label='Actual')\n",
        "plt.scatter(X_test_tensor.numpy(), test_pred.numpy(), c='lightcoral', label='Predicted')\n",
        "plt.title('Actual vs Predicted Energy (Entire Dataset)')\n",
        "plt.xlabel('Electricity/Heat (Mt)')\n",
        "plt.ylabel('Energy (Mt)')\n",
        "plt.legend()\n",
        "plt.grid(True)\n",
        "plt.show()"
      ],
      "metadata": {
        "colab": {
          "base_uri": "https://localhost:8080/",
          "height": 698
        },
        "id": "KrfYkqgzmVmr",
        "outputId": "83db3cdc-bb27-4bd4-b9cf-9c2df91b993c"
      },
      "execution_count": null,
      "outputs": [
        {
          "output_type": "stream",
          "name": "stdout",
          "text": [
            "Epoch: 0 | MAE Train Loss: 0.055208876729011536 | MAE Test Loss: 0.05355280265212059 \n",
            "Epoch: 10 | MAE Train Loss: 0.055208876729011536 | MAE Test Loss: 0.05355280265212059 \n",
            "Epoch: 20 | MAE Train Loss: 0.055208876729011536 | MAE Test Loss: 0.05355280265212059 \n",
            "Epoch: 30 | MAE Train Loss: 0.055208876729011536 | MAE Test Loss: 0.05355280265212059 \n",
            "Epoch: 40 | MAE Train Loss: 0.055208876729011536 | MAE Test Loss: 0.05355280265212059 \n",
            "Epoch: 50 | MAE Train Loss: 0.055208876729011536 | MAE Test Loss: 0.05355280265212059 \n",
            "Epoch: 60 | MAE Train Loss: 0.055208876729011536 | MAE Test Loss: 0.05355280265212059 \n",
            "Epoch: 70 | MAE Train Loss: 0.055208876729011536 | MAE Test Loss: 0.05355280265212059 \n",
            "Epoch: 80 | MAE Train Loss: 0.055208876729011536 | MAE Test Loss: 0.05355280265212059 \n",
            "Epoch: 90 | MAE Train Loss: 0.055208876729011536 | MAE Test Loss: 0.05355280265212059 \n"
          ]
        },
        {
          "output_type": "display_data",
          "data": {
            "text/plain": [
              "<Figure size 1000x700 with 1 Axes>"
            ],
            "image/png": "[encoded data removed]"
          },
          "metadata": {}
        }
      ]
    },
    {
      "cell_type": "code",
      "metadata": {
        "colab": {
          "base_uri": "https://localhost:8080/",
          "height": 480
        },
        "id": "95c8f16c",
        "outputId": "868a3aa9-6e09-4850-e2e8-21883537c4ba"
      },
      "source": [
        "# Plot the loss curves\n",
        "plt.figure(figsize=(10, 7))\n",
        "plt.plot(epoch_count, train_loss_values, label=\"Train loss\")\n",
        "plt.plot(epoch_count, test_loss_values, label=\"Test loss\")\n",
        "plt.title(\"Training and Test Loss Curves\")\n",
        "plt.ylabel(\"Loss\")\n",
        "plt.xlabel(\"Epochs\")\n",
        "plt.legend()\n",
        "plt.grid(True)\n",
        "plt.show()"
      ],
      "execution_count": null,
      "outputs": [
        {
          "output_type": "display_data",
          "data": {
            "text/plain": [
              "<Figure size 1000x700 with 1 Axes>"
            ],
            "image/png": "[encoded data removed]"
          },
          "metadata": {}
        }
      ]
    },
    {
      "cell_type": "code",
      "metadata": {
        "id": "240d0a7f"
      },
      "source": [
        "# Step 1: Generate future data\n",
        "last_year = data['Year'].max()\n",
        "future_years = range(last_year + 1, last_year + 6)\n",
        "average_electricity = data['Electricity/Heat (Mt)'].mean()\n",
        "\n",
        "future_data = pd.DataFrame({\n",
        "    'Year': future_years,\n",
        "    'Electricity/Heat (Mt)': [average_electricity] * len(future_years)\n",
        "})\n",
        "\n",
        "print(\"Future data for the next 5 years:\")\n",
        "display(future_data)"
      ],
      "execution_count": null,
      "outputs": []
    },
    {
      "source": [
        "# @title Year\n",
        "\n",
        "from matplotlib import pyplot as plt\n",
        "future_data['Year'].plot(kind='hist', bins=20, title='Year')\n",
        "plt.gca().spines[['top', 'right',]].set_visible(False)"
      ],
      "cell_type": "code",
      "execution_count": null,
      "outputs": [],
      "metadata": {
        "cellView": "form",
        "id": "dGpaxzyZeecp"
      }
    },
    {
      "cell_type": "code",
      "source": [],
      "metadata": {
        "id": "OXRfCzopduLE"
      },
      "execution_count": null,
      "outputs": []
    }
  ]
}