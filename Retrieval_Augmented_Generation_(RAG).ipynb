{
 "cells": [
  {
   "cell_type": "markdown",
   "metadata": {
    "colab_type": "text",
    "id": "view-in-github"
   },
   "source": [
    "<a href=\"https://colab.research.google.com/github/Esther-Wagatwe/EASY-ML/blob/master/Retrieval_Augmented_Generation_(RAG).ipynb\" target=\"_parent\"><img src=\"https://colab.research.google.com/assets/colab-badge.svg\" alt=\"Open In Colab\"/></a>"
   ]
  },
  {
   "cell_type": "code",
   "execution_count": null,
   "metadata": {
    "colab": {
     "base_uri": "https://localhost:8080/"
    },
    "id": "ZA0WKzu42-4I",
    "outputId": "4bdaa350-7ef2-4be9-ed7a-065d90de46ef"
   },
   "outputs": [],
   "source": [
    "# STEP 1: Install required libraries\n",
    "!pip install -q transformers sentence-transformers faiss-cpu openai\n",
    "!pip install -q pdfplumber python-docx pandas"
   ]
  },
  {
   "cell_type": "code",
   "execution_count": null,
   "metadata": {
    "colab": {
     "base_uri": "https://localhost:8080/"
    },
    "id": "_IE3m64v3Bz4",
    "outputId": "14b53dd0-e419-4cea-db8e-34ed0571fa4c"
   },
   "outputs": [],
   "source": [
    "# STEP 2: Mount Google Drive\n",
    "from google.colab import drive\n",
    "drive.mount('/content/drive')"
   ]
  },
  {
   "cell_type": "code",
   "execution_count": null,
   "metadata": {
    "id": "IZ7Lfe6U3FYI"
   },
   "outputs": [],
   "source": [
    "# STEP 3: Import libraries\n",
    "import faiss\n",
    "import numpy as np\n",
    "import pdfplumber\n",
    "import pandas as pd\n",
    "from docx import Document\n",
    "from sentence_transformers import SentenceTransformer\n",
    "from transformers import T5Tokenizer, T5ForConditionalGeneration\n",
    "import os\n"
   ]
  },
  {
   "cell_type": "code",
   "execution_count": null,
   "metadata": {
    "id": "oFFECckN3-3L"
   },
   "outputs": [],
   "source": [
    "# STEP 4: Set folder path in Google Drive\n",
    "folder_path = \"/content/drive/MyDrive/RAG\""
   ]
  },
  {
   "cell_type": "code",
   "execution_count": null,
   "metadata": {
    "colab": {
     "base_uri": "https://localhost:8080/"
    },
    "id": "trubM5H8mt6G",
    "outputId": "f22b7340-2987-4688-d05e-12a1fa3185b4"
   },
   "outputs": [],
   "source": [
    "from google.colab import drive\n",
    "drive.mount('/content/drive')"
   ]
  },
  {
   "cell_type": "code",
   "execution_count": null,
   "metadata": {
    "id": "oE6gqyKR3KuO"
   },
   "outputs": [],
   "source": [
    "# STEP 5: Define file extractor\n",
    "def extract_text(file_path, ext):\n",
    "    try:\n",
    "        if ext == \"pdf\":\n",
    "            text = \"\"\n",
    "            with pdfplumber.open(file_path) as pdf:\n",
    "                for page in pdf.pages:\n",
    "                    page_text = page.extract_text()\n",
    "                    if page_text:\n",
    "                        text += page_text + \"\\n\"\n",
    "            return text\n",
    "        elif ext == \"docx\":\n",
    "            doc = Document(file_path)\n",
    "            return \"\\n\".join([p.text for p in doc.paragraphs])\n",
    "        elif ext == \"csv\":\n",
    "            df = pd.read_csv(file_path)\n",
    "            return df.to_string(index=False)\n",
    "        else:\n",
    "            return \"\"\n",
    "    except Exception as e:\n",
    "        print(f\"Error reading {file_path}: {e}\")\n",
    "        return \"\""
   ]
  },
  {
   "cell_type": "code",
   "execution_count": null,
   "metadata": {
    "colab": {
     "base_uri": "https://localhost:8080/"
    },
    "id": "MB1jKOYJ4Lcf",
    "outputId": "91cd152f-57e8-46db-a024-3624e70ccdc8"
   },
   "outputs": [],
   "source": [
    "# STEP 6: Read all supported files in folder\n",
    "supported_exts = [\"pdf\", \"docx\", \"csv\"]\n",
    "raw_text = \"\"\n",
    "\n",
    "for file in os.listdir(folder_path):\n",
    "    full_path = os.path.join(folder_path, file)\n",
    "    ext = file.split(\".\")[-1].lower()\n",
    "    if ext in supported_exts:\n",
    "        print(f\"Reading: {file}\")\n",
    "        text = extract_text(full_path, ext)\n",
    "        raw_text += text + \"\\n\"\n",
    "\n",
    "# Now raw_text contains the combined text from all files\n",
    "print(f\"\\n Total characters extracted: {len(raw_text)}\")"
   ]
  },
  {
   "cell_type": "code",
   "execution_count": null,
   "metadata": {
    "id": "Z2Qw8KIA3N8z"
   },
   "outputs": [],
   "source": [
    "# STEP 7: Split into chunks\n",
    "def chunk_text(text, max_chars=500):\n",
    "    paragraphs = text.split(\"\\n\")\n",
    "    chunks, current_chunk = [], \"\"\n",
    "    for para in paragraphs:\n",
    "        if len(current_chunk) + len(para) <= max_chars:\n",
    "            current_chunk += para + \" \"\n",
    "        else:\n",
    "            chunks.append(current_chunk.strip())\n",
    "            current_chunk = para + \" \"\n",
    "    if current_chunk:\n",
    "        chunks.append(current_chunk.strip())\n",
    "    return [chunk for chunk in chunks if len(chunk) > 50]\n",
    "\n",
    "doc_chunks = chunk_text(raw_text)"
   ]
  },
  {
   "cell_type": "code",
   "execution_count": null,
   "metadata": {
    "colab": {
     "base_uri": "https://localhost:8080/",
     "height": 493,
     "referenced_widgets": [
      "4458a57aea5b4142976cdd904849c702",
      "37dae03a89904a4880a0a6df8476c696",
      "3f83315127b749f0a83c7d15e94928a5",
      "57357680e83646d080c352894bffc194",
      "797d47a232854bc587c517fe4c2b2c27",
      "2a8ea74265a4462688594b1c48ba8369",
      "cdca82033645418c9a0696d9e492d780",
      "e18ffa7fce3d4f55b7f84383ba324ecf",
      "d69ab30b9ad4402fa025b24f8e11d15c",
      "fef95d2e25f54122b4eb16bdb3e49434",
      "a3e6fa9b806f416084f3aa0cb59fb0f1",
      "b0a5d4068a4346f7a2cee74fa47d0348",
      "fac4f48021154e9287adf143d676e35b",
      "a1f867a1cc8c40fab8781acd0c091f3d",
      "93cae1f6ac914e90aa770d6d4c9d12b6",
      "d586440d0a7148409e55b6ead892b398",
      "a7ae2be05ab945e0b0e138ed581575b9",
      "f8d9032f86bf4261bf492b8b88d9bfd9",
      "a2c0f7bb3bc049638b6d977298b62935",
      "eb15a322ec3f4f97b7e227441d0b19ea",
      "4c27091213f4439ab6f62d281b24e269",
      "67392c79632640f8af261a1594b51a6a",
      "6d3a0ab16e094dc69f05a8bb60c42de4",
      "942d2f72b4ca405c9d18f25f4d2c4922",
      "692a2e4730ea4b86ae14c71254d0b27c",
      "635289deb2f34d0b9d5e53b74ede88f5",
      "8fd8286bee3045e9bda59ced2fe74a54",
      "ccddd68c593e403e8fbe0798d72de9be",
      "c65b2f76784c47e59b30dc8e50f35615",
      "7eeaf7339310449ba8aa6fe01350e515",
      "aad1cf80a8e349f0a69ae1d3bc41262a",
      "9157045f90cd4872bbabbb7f92f67960",
      "f3274be596a04f24837860177852fc60",
      "78f26552c17942a08f38aa48e2f7dd27",
      "f01396f3622e4ae0bfd82d38052ec1ac",
      "3f66325e293a42339f23b4b39cee0e05",
      "a66eb5121656433480fcc0c4c0cccaad",
      "fd503fc4cc73443ca90e518701f3e97a",
      "0b8ca99008c643aea7b591974eabc342",
      "55b5f41938924f5ba48724adfbbcb5a7",
      "006dda267053470ebd12ae7f8327e187",
      "088bdfe62b024768a186c4fc48ecc33a",
      "ab85e65a0d8d44069812e7bce170edf3",
      "c6e675d3a8a4455eaab03f4d4cd36df4",
      "ac4aa8358c20413293bf500b58015c10",
      "5de67c2483a5471eb9cdd2cee2cc5b38",
      "dbe09bcca019442b9f653e7a9cbfc50a",
      "cb8e271dda7546f5b019dfb688f4fc40",
      "58dfa77a0f884438b7e7dbf019ebd788",
      "3f9f4c75e42248c69e89d3d72808beab",
      "84b4bb70621240e59b4a1f88d28ba119",
      "7a7c4dcba06b494291afd21edcd4aa59",
      "1fd7dc70f48c4422a123866986ddaf8c",
      "49c8178de682403da87eda89f087aac5",
      "3882584b60fc40b3985cc20f983632ea",
      "cae37874ec1a48e3a802cc40eb4859ae",
      "cf4dbdf396fc4cb6bd0a43d9fa97467a",
      "dbd43023e82b4d91a48a147fa4e3f8c8",
      "a49164aa13c542c78d5126b6e832066c",
      "748ee3ea376b42c6a8b5cf98e58d961a",
      "7cae2328d27e4f75906ea780c6f96d40",
      "2cbd45d3dd124078a19182594a119671",
      "0f4092b84626424cbe3683a1e62dbeae",
      "30c79a3611bf44a6900fc44e5979b0b1",
      "b8bfa4d4160a4df0b7e455643f115b2b",
      "64a7b18bbfd444d7a531ae97a378732f",
      "e80861231b654f24b23eba73fb0e81ec",
      "6e85911ef37d416b9c91b9c3e1178931",
      "b9bd3444828b4a209eee1ced5c44cc4f",
      "7c59cebca43f4c3cabe6858f04ba5469",
      "09e2b1f5cfe044b1a9fa18259fb0f237",
      "7e72e835dead46a9b8f18081db705814",
      "a41131e245624fd7803941e348fb2a66",
      "321dca0845f34016bfbae92ca203ea35",
      "c8accfd001a94c668eafe5699d1a9ea5",
      "625cb1e602074460bcf231bb57a5bd2c",
      "398354f5aafa44b0aab6710f1ca50e9c",
      "cd1711707a534557812e79ea68f8440c",
      "4c0903e39a78461e94aa7796eec6451d",
      "54e4cac63bab43c39a9e361ef5a649c5",
      "6a1731f8d50a419f854ded69bd2ac614",
      "708fdd945aa54656bebb8ed527e72b53",
      "ea1123601d5b41f3ae500b6b77d44f5f",
      "ff903914a7164ba2b72300b6b782906d",
      "491123eb080a4c7ca08776b5de2e2f7a",
      "737543aaaec24a43b680cefc13e0d642",
      "b327fb8d2b544e71ada0448b4d04245a",
      "29388d9081a54306a41b0e4ca34560b2",
      "cf0824cc4d0d47988fe426aa8a15ac86",
      "587027c253634f438b4b7e0c68dbfe5e",
      "7c30c1aa5af2409cb46afe5e22e5cc4d",
      "0b476ddd4f784608b70f1df90b189274",
      "027940ca2c914965b38cc5942ec65d8e",
      "6d1a87ce7f9447eba363e642d7cac1df",
      "d4f6e2bbe53b4f94a90830631de0776d",
      "cd1b18ec7eb14cb89d02cf4fd872d0ee",
      "139ddb887edf4f6688b0a1a22c3a6384",
      "0ce94bc7f36e496aa12bcb0a9e601d0c",
      "34eaf1de0bf144cd8a9931a46d6cd80f",
      "35ef7379b57d4d948f1ad0083ca417dd",
      "d4aa459d87484e2b90a62f13dc29c109",
      "a3089a96f71e4d1cb2fdc311ee0b8d6c",
      "ed8542d0a4fa49b49d0fbfcb4472b3e8",
      "bbaad895ca09449f96eae23f1de3b7bd",
      "a09999e8510645479338ffd2b6af5d60",
      "fae323b0ce754436b3b36f092f26ec5a",
      "13a7f4a9a3a3475a8f685ada53dd1044",
      "c14fe0eef82a45ab976db2ce36fdca4f",
      "68048884725645d39cee190a16938a20",
      "df08807394ff4c21a4eeaa0e93d1f057",
      "4ad9651486264032bca6254027204d0b",
      "b7e5b717f7e14563b811804f644a3308",
      "05b5ff397f43419aaaf443c69d15fa5a",
      "f746ec26f29f4a17881f0e72e68bb7d4",
      "0cc1e439d7d344179cbb249b9ee09bc0",
      "c659080f18444f139291fd7665df6743",
      "c1db8449c70b48ce95de9cebf2f9530f",
      "c9c26a83146e46b2a7f832c6d92a8c78",
      "d1d4eafe2667453ca18607a88647881e",
      "0841790e6e9b440781de53d3f77c3579",
      "9e8f0783f51e4912b5612eafa583da3a"
     ]
    },
    "id": "kzbM7wzM3SLM",
    "outputId": "d3955dd4-ea79-4479-f019-5bcd40bf2fdf"
   },
   "outputs": [],
   "source": [
    "# STEP 7: Embed chunks using SentenceTransformers\n",
    "embedder = SentenceTransformer(\"all-MiniLM-L6-v2\")\n",
    "doc_embeddings = embedder.encode(doc_chunks, convert_to_tensor=False)\n",
    "doc_embeddings = np.vstack(doc_embeddings)"
   ]
  },
  {
   "cell_type": "code",
   "execution_count": null,
   "metadata": {
    "id": "pxgzCE2S3URg"
   },
   "outputs": [],
   "source": [
    "# STEP 8: Build FAISS (Facebook AI Similarity Search) index\n",
    "index = faiss.IndexFlatL2(doc_embeddings.shape[1])\n",
    "index.add(doc_embeddings)"
   ]
  },
  {
   "cell_type": "code",
   "execution_count": null,
   "metadata": {
    "id": "4uchrg2e3XHA"
   },
   "outputs": [],
   "source": [
    "# STEP 9: Set your OpenAI API key\n"
   ]
  },
  {
   "cell_type": "code",
   "execution_count": null,
   "metadata": {
    "colab": {
     "base_uri": "https://localhost:8080/",
     "height": 278,
     "referenced_widgets": [
      "3fcfea12f6ca44afb893b977999f8256",
      "d3b4e73089e74756a6371bb7862ce6d5",
      "95c1497ac24846b1a702b928553b866a",
      "e47f31f8605a44af95d6b0e409a4280a",
      "bc0dbd42135341dd9ba052cbe3ccc28c",
      "064ef11bbac2434b9fc3b0c54d294277",
      "36ff319999a644028bef5a2d99019a7d",
      "1d89d849907a41c3ad401cee98e53be6",
      "a422ed688079462f9e02e3eaddda5307",
      "7ddff3e95c1c4fb5ad642ce7b35ab4ed",
      "3b32830a492b4add99c19954ec99d302",
      "03cd015d2c3149c69cdd1977f31d126e",
      "7ae2cbd19a5f49d9869781d947a4a0ab",
      "4bf0bee7e002467fbd940b349c4b0894",
      "2be77c1c7b674eeeac7d83b3f47be363",
      "71b00704d4f24614b22bd5763b413dd5",
      "22387cefdc2e4e00b42ae5d3f83d50b7",
      "97401ee1d09a4a8b80c10409e21f4421",
      "48f58739df4846648042633e7a95a723",
      "39f8a47b20804d778a082da17063cd3d",
      "6b6cabd794a942c28858bfba8188b85a",
      "a234fef7eb4d4730b8c9ec976f5ee332",
      "bb17433ee2574b6e98844a2aadabd7dc",
      "5b4783f74b744b2381660a150b8b6204",
      "36e6b9d97e9840a1aa72d28f0443c7e9",
      "0182c92b157e4fa596af09ab40cbd6b3",
      "70197d8b095b4d71a024ed47eee3f1f1",
      "bc18a495ea9b42cd832b8a554dcb79ff",
      "1201d9d7f9144eedba837143c1777091",
      "7477527ebef34bf0bb10437283612569",
      "f009d5d7694a498d84acdab5930e7741",
      "9b6264f05d1f411ba6b5d52201ce44bf",
      "8d337582809a421dbc354717aab5d271",
      "a89bc7fe692c4dcd889f0df26ec39069",
      "582556e739c1446097c1f2eefa0e78ff",
      "d19124c18f3248cc8b93d0456add496b",
      "772bda95b74442c08b0367c9d7219e05",
      "4b45a8d92f0342f19feb11312fcc4ae7",
      "e5e9fa24ac0641f7bc109fb7dc5e09b7",
      "43f43339bfef41b7a6c0db6c786f9a50",
      "360fed4f62ff431e9ac5c33541ca8329",
      "ff8abd5a50fb4741924e72e7b36d963b",
      "34b2b3880c9745e4bff6e886fe006b69",
      "b7b894dbc19d45f7a67f709a07f45c50",
      "5d3bc85e2b124b359ba3488a225caa87",
      "327bb68989bb4218854e681f565dec3d",
      "9b64dd19a43a403c8dcac3fbe49aa341",
      "23a00bb4ff354903aebfe90fc4fb55ed",
      "5c19ad425cc449a39868893fe3e32da3",
      "8f5fb679a2d3430d89bdf6029e437a8c",
      "3e990d4816794b71bc54587c2f06df8c",
      "5368f14e568f48e88032c1ed5cdf5efc",
      "956ddc0c93c94fe6a807543b53809355",
      "11f6d10fda744569b37d8d6fbdd808e1",
      "43761328719243ea9a07c4fd4542c8f4",
      "8c4758f9932740f4ac633f674b41d719",
      "128165c1baeb46e38fc6f877729f2195",
      "5752b813e0da448abdd6f5e1df1a5510",
      "edb4779327e7449da6fbd18897da18ca",
      "a167c4e13ffc46d29624ddb6d54dc4de",
      "80f1b1124fd24a58a25b7324ae58e824",
      "894b6bd770494b02aebcf2ac38af809a",
      "227913c5ba274b2b8811de5db99604ea",
      "a36b75980c04409baf509923fbf40877",
      "55d86b72460d476aafa68d5f4337bf87",
      "e9452bef5a6f434ba5ac179a7f56b013",
      "52ad2379f54f486485a763ef059cd527",
      "9e5e60e5744540f491cf6bd3fed38bb6",
      "c0a1f463d312493b9a187eacfb366ba3",
      "caf70262ac4e4a85b3e4d58f505e3d9d",
      "497b7e1764254fe58b81ccc0cef21a19",
      "9cbe7af00beb4832bc8039da400bbf39",
      "4a549404d15145d4b12bb54961e64195",
      "4463d461738540a0b010156c202364ee",
      "1b6412ebc57345cb8dbaae0c52bbb6b3",
      "e660001d641946c280914267a1ed4c75",
      "2dcda0885429427490f71479101bd3f1"
     ]
    },
    "id": "2bQsTliM76AD",
    "outputId": "3dc7bc94-dff4-4e30-deed-eaf9ecc700c2"
   },
   "outputs": [],
   "source": [
    "# Updated: RAG using local T5 model (no OpenAI)\n",
    "from transformers import T5Tokenizer, T5ForConditionalGeneration\n",
    "\n",
    "# Load T5 model\n",
    "tokenizer = T5Tokenizer.from_pretrained(\"google/flan-t5-base\")\n",
    "generator = T5ForConditionalGeneration.from_pretrained(\"google/flan-t5-base\")\n",
    "\n",
    "def rag_local_t5_answer(question, top_k=3):\n",
    "    # Embed query and retrieve\n",
    "    query_embedding = embedder.encode([question])\n",
    "    D, I = index.search(np.array(query_embedding), top_k)\n",
    "\n",
    "    # Combine top passages\n",
    "    context = \"\\n\".join([doc_chunks[i] for i in I[0]])\n",
    "    input_prompt = f\"\"\"\n",
    "    Based on the following context, provide a comprehensive and detailed answer to the question.\n",
    "    Elaborate on the key points found in the context and explain them thoroughly in two well-written paragraphs.\n",
    "\n",
    "    Context:\n",
    "    {context}\n",
    "\n",
    "    Question: {question}\n",
    "    \"\"\"\n",
    "\n",
    "    # Tokenize and generate\n",
    "    input_ids = tokenizer.encode(input_prompt, return_tensors=\"pt\", truncation=True, max_length=512)\n",
    "    output_ids = generator.generate(input_ids, max_length=400, num_beams=4, early_stopping=True)\n",
    "    return tokenizer.decode(output_ids[0], skip_special_tokens=True)"
   ]
  },
  {
   "cell_type": "code",
   "execution_count": null,
   "metadata": {
    "colab": {
     "base_uri": "https://localhost:8080/"
    },
    "id": "4hPaxhpU2vhC",
    "outputId": "3694673b-e841-4588-daba-8c5717c65ca3"
   },
   "outputs": [],
   "source": [
    "# STEP 11: Ask a Question using local T5 model\n",
    "question = \"What is covid 19?\"\n",
    "answer = rag_local_t5_answer(question)\n",
    "\n",
    "print(\"Question:\", question)\n",
    "print(\"\\n Answer:\\n\", answer)\n"
   ]
  },
  {
   "cell_type": "code",
   "execution_count": null,
   "metadata": {
    "id": "0FbnLjcmpFTj"
   },
   "outputs": [],
   "source": []
  }
 ],
 "metadata": {
  "accelerator": "GPU",
  "colab": {
   "gpuType": "T4",
   "include_colab_link": true,
   "provenance": []
  },
  "kernelspec": {
   "display_name": "Python 3",
   "name": "python3"
  },
  "language_info": {
   "name": "python"
  }
 },
 "nbformat": 4,
 "nbformat_minor": 0
}
